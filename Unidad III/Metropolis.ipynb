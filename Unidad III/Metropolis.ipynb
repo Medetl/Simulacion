{
 "cells": [
  {
   "cell_type": "code",
   "execution_count": null,
   "id": "0aae7a90",
   "metadata": {},
   "outputs": [],
   "source": [
    "# import image module \n",
    "from IPython.display import Image \n",
    "\n",
    "# get the image \n",
    "Image(url=\"metropolis.png\") "
   ]
  },
  {
   "cell_type": "code",
   "execution_count": null,
   "id": "19296c40",
   "metadata": {},
   "outputs": [],
   "source": [
    "import numpy as np\n",
    "import matplotlib.pyplot as plt\n",
    "%matplotlib inline"
   ]
  },
  {
   "cell_type": "markdown",
   "id": "014d2dae",
   "metadata": {},
   "source": [
    "Vamos a realizar un muestreo de la distribución normal\n",
    "\n",
    "$$\\frac{1}{\\sqrt{2\\pi\\sigma^2}}e^{-\\frac{(x-\\mu)^2}{2\\sigma^2}}$$"
   ]
  },
  {
   "cell_type": "code",
   "execution_count": null,
   "id": "3304955d",
   "metadata": {},
   "outputs": [],
   "source": [
    "def f(x,mu,std):\n",
    "    return (1/np.sqrt(2*np.pi*std**2))*np.exp(-(x-mu)**2/(2*std**2))\n",
    "\n"
   ]
  },
  {
   "cell_type": "markdown",
   "id": "ecdf983a",
   "metadata": {},
   "source": [
    "$$\\mu=0.2$$\n",
    "$$\\sigma=0.1$$"
   ]
  },
  {
   "cell_type": "code",
   "execution_count": null,
   "id": "8984ae5e",
   "metadata": {},
   "outputs": [],
   "source": [
    "mu=0.2\n",
    "sigma=0.1"
   ]
  },
  {
   "cell_type": "markdown",
   "id": "8d835787",
   "metadata": {},
   "source": [
    "La pruepuesta para el tamaño de paso es $\\delta$ y se calcula la razón de aceptación."
   ]
  },
  {
   "cell_type": "code",
   "execution_count": null,
   "id": "1ba4eecc",
   "metadata": {},
   "outputs": [],
   "source": [
    "delta=0.5"
   ]
  },
  {
   "cell_type": "code",
   "execution_count": null,
   "id": "2a6a76de",
   "metadata": {},
   "outputs": [],
   "source": [
    "n=50000\n",
    "x=np.zeros(n)\n",
    "x[0]=0\n",
    "\n",
    "acept=0\n",
    "\n",
    "for i in range(0, n-1):\n",
    "    y=x[i]+np.random.uniform(-delta,delta)\n",
    "    if np.random.rand() < min(1, f(y,mu, sigma)/f(x[i],mu,sigma)):\n",
    "        x[i+1]=y\n",
    "        acept+=1\n",
    "    else:\n",
    "        x[i+1]=x[i]\n",
    "        \n",
    "print(\"La aceptación fue del \", acept/n*100,\"%\")"
   ]
  },
  {
   "cell_type": "code",
   "execution_count": null,
   "id": "23aac508",
   "metadata": {},
   "outputs": [],
   "source": [
    "plt.hist(x,density=True,bins=30)\n",
    "xs=np.linspace(-1,1,100)\n",
    "plt.plot(xs,f(xs,mu,sigma))"
   ]
  },
  {
   "cell_type": "code",
   "execution_count": null,
   "id": "8867736a",
   "metadata": {},
   "outputs": [],
   "source": [
    "x"
   ]
  },
  {
   "cell_type": "code",
   "execution_count": null,
   "id": "cebed8f8",
   "metadata": {},
   "outputs": [],
   "source": [
    "np.mean(x)"
   ]
  },
  {
   "cell_type": "code",
   "execution_count": null,
   "id": "dd5ea623",
   "metadata": {},
   "outputs": [],
   "source": [
    "np.std(x)"
   ]
  },
  {
   "cell_type": "code",
   "execution_count": null,
   "id": "72a9bbfd",
   "metadata": {},
   "outputs": [],
   "source": [
    "plt.plot(x)"
   ]
  },
  {
   "cell_type": "code",
   "execution_count": null,
   "id": "f722d2e5",
   "metadata": {},
   "outputs": [],
   "source": [
    "plt.plot(x[:100])"
   ]
  },
  {
   "cell_type": "code",
   "execution_count": null,
   "id": "c6e4d44b",
   "metadata": {},
   "outputs": [],
   "source": [
    "from scipy.stats import norm"
   ]
  },
  {
   "cell_type": "code",
   "execution_count": null,
   "id": "4ac427b2",
   "metadata": {},
   "outputs": [],
   "source": [
    "n=50000\n",
    "x=np.zeros(n)\n",
    "x[0]=0"
   ]
  },
  {
   "cell_type": "code",
   "execution_count": null,
   "id": "620edcf7",
   "metadata": {},
   "outputs": [],
   "source": [
    "for i in range(0,5):\n",
    "    xc=np.random.normal(x[i],0.2)\n",
    "    print(\"Valor actual = \", x[i], \" Valor propuesto = \", xc)\n",
    "    print(\"Rezón de Hasting =\", norm.pdf(xc,mu,sigma)/norm.pdf(x[i],mu,sigma))\n",
    "    U=np.random.rand()\n",
    "    print(\"Número aleatorio =\", U)\n",
    "    if U < min(1,norm.pdf(xc,mu,sigma)/norm.pdf(x[i],mu,sigma)):\n",
    "        x[i+1]=xc\n",
    "    else:\n",
    "        x[i+1]=x[i]\n",
    "    print(\"Siguiente valor = \", x[i+1])\n",
    "    print(\" \")"
   ]
  },
  {
   "cell_type": "code",
   "execution_count": null,
   "id": "38336aa0",
   "metadata": {},
   "outputs": [],
   "source": []
  }
 ],
 "metadata": {
  "kernelspec": {
   "display_name": "Python 3 (ipykernel)",
   "language": "python",
   "name": "python3"
  },
  "language_info": {
   "codemirror_mode": {
    "name": "ipython",
    "version": 3
   },
   "file_extension": ".py",
   "mimetype": "text/x-python",
   "name": "python",
   "nbconvert_exporter": "python",
   "pygments_lexer": "ipython3",
   "version": "3.7.3"
  }
 },
 "nbformat": 4,
 "nbformat_minor": 5
}

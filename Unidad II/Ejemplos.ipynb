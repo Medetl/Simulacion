{
 "cells": [
  {
   "cell_type": "code",
   "execution_count": 1,
   "id": "191b1e9b",
   "metadata": {},
   "outputs": [],
   "source": [
    "import numpy as np\n",
    "import random\n",
    "import matplotlib.pyplot as plt"
   ]
  },
  {
   "cell_type": "code",
   "execution_count": null,
   "id": "e966dcb8",
   "metadata": {},
   "outputs": [],
   "source": []
  },
  {
   "cell_type": "code",
   "execution_count": null,
   "id": "74144758",
   "metadata": {},
   "outputs": [],
   "source": []
  },
  {
   "cell_type": "code",
   "execution_count": 126,
   "id": "25fbe36d",
   "metadata": {},
   "outputs": [],
   "source": [
    "def ventas_sim():\n",
    "    ventas=0\n",
    "    u = random.random()\n",
    "    if 0.0 <= u < 0.20:\n",
    "        ventas = 30\n",
    "    elif 0.20 <= u < 0.45:\n",
    "        ventas = 40\n",
    "    elif 0.45 <= u < 0.70:\n",
    "        ventas = 50\n",
    "    elif 0.70 <= u < 0.90:\n",
    "        ventas = 60\n",
    "    elif 0.90 <= u <= 1.00:\n",
    "        ventas = 70\n",
    "    return ventas"
   ]
  },
  {
   "cell_type": "code",
   "execution_count": 356,
   "id": "955e0989",
   "metadata": {},
   "outputs": [],
   "source": [
    "def beneficio(pedido):\n",
    "    ben = 0\n",
    "    ventas_reales = 0\n",
    "    ventas_perdidas = 0\n",
    "    no_vendidos = 0\n",
    "    vs = ventas_sim()\n",
    "    \n",
    "    if vs > pedido:\n",
    "        ventas_reales = pedido\n",
    "        ventas_perdidas = vs - pedido\n",
    "        no_vendidos = 0\n",
    "        \n",
    "    else:\n",
    "        ventas_reales = vs\n",
    "        ventas_perdidas = 0\n",
    "        no_vendidos = pedido - ventas_reales\n",
    "    \n",
    "    ben = 1.10*ventas_reales - 0.90*pedido - 0.10*no_vendidos - 0.20*ventas_perdidas\n",
    "    return ben"
   ]
  },
  {
   "cell_type": "code",
   "execution_count": 357,
   "id": "34b4243f",
   "metadata": {},
   "outputs": [
    {
     "data": {
      "text/plain": [
       "-14.0"
      ]
     },
     "execution_count": 357,
     "metadata": {},
     "output_type": "execute_result"
    }
   ],
   "source": [
    "beneficio(50)"
   ]
  },
  {
   "cell_type": "code",
   "execution_count": 358,
   "id": "5594aeea",
   "metadata": {},
   "outputs": [],
   "source": [
    "def simulacion(n):\n",
    "    L=[]\n",
    "    benef = 0\n",
    "    for i in range(n):\n",
    "        benef += beneficio(50)\n",
    "        L.append(benef/(i+1))\n",
    "    return L"
   ]
  },
  {
   "cell_type": "code",
   "execution_count": 376,
   "id": "9e8db4c9",
   "metadata": {},
   "outputs": [],
   "source": [
    "X=simulacion(500)"
   ]
  },
  {
   "cell_type": "code",
   "execution_count": 377,
   "id": "af40deda",
   "metadata": {},
   "outputs": [
    {
     "data": {
      "text/plain": [
       "[<matplotlib.lines.Line2D at 0x23f76cfdd68>]"
      ]
     },
     "execution_count": 377,
     "metadata": {},
     "output_type": "execute_result"
    },
    {
     "data": {
      "image/png": "[encoded data removed]",
      "text/plain": [
       "<Figure size 432x288 with 1 Axes>"
      ]
     },
     "metadata": {
      "needs_background": "light"
     },
     "output_type": "display_data"
    }
   ],
   "source": [
    "plt.plot(X)"
   ]
  },
  {
   "cell_type": "code",
   "execution_count": 378,
   "id": "8cd260f2",
   "metadata": {},
   "outputs": [
    {
     "data": {
      "text/plain": [
       "1.2660381080215544"
      ]
     },
     "execution_count": 378,
     "metadata": {},
     "output_type": "execute_result"
    }
   ],
   "source": [
    "np.mean(X)"
   ]
  },
  {
   "cell_type": "code",
   "execution_count": 388,
   "id": "1fd595fe",
   "metadata": {},
   "outputs": [],
   "source": [
    "def modelo(n):\n",
    "    lista=[]\n",
    "    for i in range(n):\n",
    "        s = simulacion(500)\n",
    "        lista.append(np.mean(s))\n",
    "    return lista"
   ]
  },
  {
   "cell_type": "code",
   "execution_count": 389,
   "id": "545016ae",
   "metadata": {},
   "outputs": [],
   "source": [
    "Y=modelo(40)"
   ]
  },
  {
   "cell_type": "code",
   "execution_count": 390,
   "id": "bd58f8d8",
   "metadata": {},
   "outputs": [
    {
     "name": "stdout",
     "output_type": "stream",
     "text": [
      "1.3550759438111322 0.4424169094467132\n"
     ]
    }
   ],
   "source": [
    "print(np.mean(Y), np.std(Y))"
   ]
  },
  {
   "cell_type": "code",
   "execution_count": 391,
   "id": "25176c75",
   "metadata": {},
   "outputs": [
    {
     "data": {
      "image/png": "[encoded data removed]",
      "text/plain": [
       "<Figure size 432x288 with 1 Axes>"
      ]
     },
     "metadata": {
      "needs_background": "light"
     },
     "output_type": "display_data"
    }
   ],
   "source": [
    "plt.hist(Y)\n",
    "plt.show()"
   ]
  },
  {
   "cell_type": "code",
   "execution_count": null,
   "id": "12370349",
   "metadata": {},
   "outputs": [],
   "source": []
  },
  {
   "cell_type": "code",
   "execution_count": null,
   "id": "9c0d54c0",
   "metadata": {},
   "outputs": [],
   "source": []
  }
 ],
 "metadata": {
  "kernelspec": {
   "display_name": "Python 3 (ipykernel)",
   "language": "python",
   "name": "python3"
  },
  "language_info": {
   "codemirror_mode": {
    "name": "ipython",
    "version": 3
   },
   "file_extension": ".py",
   "mimetype": "text/x-python",
   "name": "python",
   "nbconvert_exporter": "python",
   "pygments_lexer": "ipython3",
   "version": "3.7.3"
  }
 },
 "nbformat": 4,
 "nbformat_minor": 5
}

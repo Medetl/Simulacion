{
 "cells": [
  {
   "cell_type": "code",
   "execution_count": 1,
   "metadata": {},
   "outputs": [],
   "source": [
    "from random import expovariate, gauss\n",
    "from matplotlib.pyplot import *\n",
    "from heapq import heappush, heappop\n",
    "from statistics import mean, median, stdev"
   ]
  },
  {
   "cell_type": "code",
   "execution_count": 2,
   "metadata": {},
   "outputs": [
    {
     "name": "stdout",
     "output_type": "stream",
     "text": [
      "Total Number of Arrivals =  52\n"
     ]
    }
   ],
   "source": [
    "Avg_IAT = 2.0 # Average IAT\n",
    "Sim_Time = 100 # Total simulation time\n",
    "\n",
    "N = 0 # Count number of arrivals\n",
    "\n",
    "clock = 0 # Simulation time\n",
    "\n",
    "while clock <= Sim_Time:\n",
    "    N = N + 1\n",
    "    # Advance simulation clock\n",
    "    clock = clock + expovariate(1/Avg_IAT)\n",
    "\n",
    "print('Total Number of Arrivals = ', N)"
   ]
  },
  {
   "cell_type": "code",
   "execution_count": 3,
   "metadata": {},
   "outputs": [
    {
     "name": "stdout",
     "output_type": "stream",
     "text": [
      "Mean wait: 19.7.  Stdev wait: 22.3.\n",
      "Median wait: 12.7.  Max wait: 162.0.\n"
     ]
    }
   ],
   "source": [
    "from heapq import heappush, heappop\n",
    "from random import expovariate, gauss\n",
    "from statistics import mean, median, stdev\n",
    "\n",
    "average_arrival_interval = 5.6\n",
    "average_service_time = 15.0\n",
    "stdev_service_time = 3.5\n",
    "num_servers = 3\n",
    "\n",
    "waits = []\n",
    "arrival_time = 0.0\n",
    "servers = [0.0] * num_servers  # time when each server becomes available\n",
    "for i in range(100_000):\n",
    "    arrival_time += expovariate(1.0 / average_arrival_interval)\n",
    "    next_server_available = heappop(servers)\n",
    "    wait = max(0.0, next_server_available - arrival_time)\n",
    "    waits.append(wait)\n",
    "    service_duration = gauss(average_service_time, stdev_service_time)\n",
    "    service_completed = arrival_time + wait + service_duration\n",
    "    heappush(servers, service_completed)\n",
    "\n",
    "print(f'Mean wait: {mean(waits):.1f}.  Stdev wait: {stdev(waits):.1f}.')\n",
    "print(f'Median wait: {median(waits):.1f}.  Max wait: {max(waits):.1f}.')"
   ]
  },
  {
   "cell_type": "code",
   "execution_count": 4,
   "metadata": {},
   "outputs": [
    {
     "data": {
      "image/png": "[encoded data removed]",
      "text/plain": [
       "<Figure size 1152x576 with 1 Axes>"
      ]
     },
     "metadata": {
      "needs_background": "light"
     },
     "output_type": "display_data"
    }
   ],
   "source": [
    "\n",
    "Avg_IAT = 2.0\n",
    "\n",
    "Avg_ST = 1.0 # Avg service time\n",
    "Sim_Time = 100 # Total simulation time\n",
    "\n",
    "N = 0\n",
    "clock = 0 # Simulation time\n",
    "X = [] # Times of events\n",
    "Y = [] # Values of N\n",
    "\n",
    "while clock <= Sim_Time:\n",
    "    IAT = expovariate(1 / Avg_IAT)\n",
    "    ST = expovariate(1 / Avg_ST)\n",
    "    if IAT <= ST:\n",
    "        N += 1\n",
    "        clock = clock + IAT\n",
    "        X.append(clock)\n",
    "        Y.append(N)\n",
    "    else:\n",
    "        if N > 0:\n",
    "            N -= 1\n",
    "            clock = clock + ST\n",
    "            X.append(clock)\n",
    "            Y.append(N)\n",
    "\n",
    "fig = figure(1, figsize=(16, 8))\n",
    "step(X, Y, Linewidth=1.2, color='black')\n",
    "xlabel('Time', size=16)\n",
    "ylabel('N', size=16)\n",
    "xlim(0, 101)\n",
    "show()\n",
    "#savefig(’sim_birth_death_process.pdf’, format=’pdf’, bbox_inches=’tight’)"
   ]
  },
  {
   "cell_type": "code",
   "execution_count": null,
   "metadata": {},
   "outputs": [],
   "source": []
  },
  {
   "cell_type": "code",
   "execution_count": null,
   "metadata": {},
   "outputs": [],
   "source": []
  }
 ],
 "metadata": {
  "kernelspec": {
   "display_name": "Python 3",
   "language": "python",
   "name": "python3"
  },
  "language_info": {
   "codemirror_mode": {
    "name": "ipython",
    "version": 3
   },
   "file_extension": ".py",
   "mimetype": "text/x-python",
   "name": "python",
   "nbconvert_exporter": "python",
   "pygments_lexer": "ipython3",
   "version": "3.7.3"
  }
 },
 "nbformat": 4,
 "nbformat_minor": 2
}

{
 "cells": [
  {
   "cell_type": "code",
   "execution_count": 1,
   "id": "526a8a72",
   "metadata": {},
   "outputs": [],
   "source": [
    "import random as rnd\n",
    "import numpy as np\n",
    "import matplotlib.pyplot as plt"
   ]
  },
  {
   "cell_type": "code",
   "execution_count": 2,
   "id": "3cc7a018",
   "metadata": {},
   "outputs": [],
   "source": [
    "n=10\n",
    "lamda=0.5\n",
    "L=-1/lamda"
   ]
  },
  {
   "cell_type": "code",
   "execution_count": 3,
   "id": "f9d7220f",
   "metadata": {},
   "outputs": [
    {
     "name": "stdout",
     "output_type": "stream",
     "text": [
      "3.6773849062314543\n",
      "0.6643657799279208\n",
      "0.806896264000304\n",
      "2.3698165288857433\n",
      "3.1872184657226557\n",
      "5.834406429015726\n",
      "1.4584446685987718\n",
      "5.1903722316891745\n",
      "0.24488931766976177\n",
      "0.05972596525271573\n"
     ]
    }
   ],
   "source": [
    "for i in range(n):\n",
    "    u=rnd.random()\n",
    "    x=L*np.log(u)\n",
    "    print(x)"
   ]
  },
  {
   "cell_type": "code",
   "execution_count": 4,
   "id": "952aaa63",
   "metadata": {},
   "outputs": [],
   "source": [
    "def expo(lamda=1,n=10):\n",
    "    L=-1/lamda\n",
    "    lista=[]\n",
    "    for i in range(n):\n",
    "        u=rnd.random()\n",
    "        x=L*np.log(u)\n",
    "        lista.append(x)\n",
    "    return lista"
   ]
  },
  {
   "cell_type": "code",
   "execution_count": 5,
   "id": "6c3273ea",
   "metadata": {},
   "outputs": [],
   "source": [
    "muestra=expo(0.5,50)"
   ]
  },
  {
   "cell_type": "code",
   "execution_count": null,
   "id": "38be8619",
   "metadata": {},
   "outputs": [],
   "source": []
  },
  {
   "cell_type": "code",
   "execution_count": 15,
   "id": "04963b3a",
   "metadata": {},
   "outputs": [],
   "source": [
    "media=np.mean(muestra)"
   ]
  },
  {
   "cell_type": "code",
   "execution_count": 7,
   "id": "c3af2714",
   "metadata": {},
   "outputs": [
    {
     "data": {
      "text/plain": [
       "5.207041115490178"
      ]
     },
     "execution_count": 7,
     "metadata": {},
     "output_type": "execute_result"
    }
   ],
   "source": [
    "np.var(muestra)"
   ]
  },
  {
   "cell_type": "code",
   "execution_count": 8,
   "id": "659af062",
   "metadata": {},
   "outputs": [
    {
     "data": {
      "text/plain": [
       "(array([17.,  7.,  4.,  7.,  4.,  3.,  3.,  0.,  3.,  2.]),\n",
       " array([1.27523637e-04, 8.21204396e-01, 1.64228127e+00, 2.46335814e+00,\n",
       "        3.28443501e+00, 4.10551188e+00, 4.92658876e+00, 5.74766563e+00,\n",
       "        6.56874250e+00, 7.38981937e+00, 8.21089624e+00]),\n",
       " <BarContainer object of 10 artists>)"
      ]
     },
     "execution_count": 8,
     "metadata": {},
     "output_type": "execute_result"
    },
    {
     "data": {
      "image/png": "[encoded data removed]",
      "text/plain": [
       "<Figure size 640x480 with 1 Axes>"
      ]
     },
     "metadata": {},
     "output_type": "display_data"
    }
   ],
   "source": [
    "plt.hist(muestra)"
   ]
  },
  {
   "cell_type": "code",
   "execution_count": 9,
   "id": "1bf4eb64",
   "metadata": {},
   "outputs": [],
   "source": [
    "#Para hacer la distribución acumulativa\n",
    "M=np.sort(muestra)"
   ]
  },
  {
   "cell_type": "code",
   "execution_count": 10,
   "id": "acc98ccb",
   "metadata": {},
   "outputs": [],
   "source": [
    "def cdf(muestra):\n",
    "    n=len(muestra)\n",
    "    x=np.sort(muestra)\n",
    "    y=np.arange(0,n)/n\n",
    "    return x,y"
   ]
  },
  {
   "cell_type": "code",
   "execution_count": 11,
   "id": "b2f831af",
   "metadata": {},
   "outputs": [],
   "source": [
    "#print(cdf(muestra))"
   ]
  },
  {
   "cell_type": "code",
   "execution_count": 12,
   "id": "faa272c5",
   "metadata": {},
   "outputs": [],
   "source": [
    "x_math,y_math=cdf(muestra)"
   ]
  },
  {
   "cell_type": "code",
   "execution_count": 18,
   "id": "d83a6404",
   "metadata": {},
   "outputs": [
    {
     "data": {
      "text/plain": [
       "<matplotlib.lines.Line2D at 0x2b19f5b1ac8>"
      ]
     },
     "execution_count": 18,
     "metadata": {},
     "output_type": "execute_result"
    },
    {
     "data": {
      "image/png": "[encoded data removed]",
      "text/plain": [
       "<Figure size 640x480 with 1 Axes>"
      ]
     },
     "metadata": {},
     "output_type": "display_data"
    }
   ],
   "source": [
    "plt.step(x_math,y_math)\n",
    "plt.axhline(y=0.5, color='red') #La mediana\n",
    "plt.axvline(x=media,color='green') #La media"
   ]
  },
  {
   "cell_type": "code",
   "execution_count": null,
   "id": "1e1d0af3",
   "metadata": {},
   "outputs": [],
   "source": []
  },
  {
   "cell_type": "code",
   "execution_count": null,
   "id": "35db7d36",
   "metadata": {},
   "outputs": [],
   "source": []
  },
  {
   "cell_type": "code",
   "execution_count": null,
   "id": "ccb2ff54",
   "metadata": {},
   "outputs": [],
   "source": []
  }
 ],
 "metadata": {
  "kernelspec": {
   "display_name": "Python 3 (ipykernel)",
   "language": "python",
   "name": "python3"
  },
  "language_info": {
   "codemirror_mode": {
    "name": "ipython",
    "version": 3
   },
   "file_extension": ".py",
   "mimetype": "text/x-python",
   "name": "python",
   "nbconvert_exporter": "python",
   "pygments_lexer": "ipython3",
   "version": "3.7.3"
  }
 },
 "nbformat": 4,
 "nbformat_minor": 5
}

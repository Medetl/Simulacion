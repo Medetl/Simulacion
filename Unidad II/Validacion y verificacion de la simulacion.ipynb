{
 "cells": [
  {
   "cell_type": "markdown",
   "metadata": {},
   "source": [
    "# <font color='blue'> Validación y Verificación de la Simulación"
   ]
  },
  {
   "cell_type": "markdown",
   "metadata": {},
   "source": [
    "Los modelos de simulación son **imitaciones aproximadas de los sistemas del mundo real**, nunca exactas. Debido a eso, un modelo debe verificarse y validarse hasta el grado necesario para el propósito o la aplicación previstos."
   ]
  },
  {
   "cell_type": "markdown",
   "metadata": {},
   "source": [
    "## <font color='green'>Verificación"
   ]
  },
  {
   "cell_type": "markdown",
   "metadata": {},
   "source": [
    "**Esta se refiere a la comprobación de que el programa construido funciona correctamente.**"
   ]
  },
  {
   "cell_type": "markdown",
   "metadata": {},
   "source": [
    "Es importante partir de buenas técnicas de programación, que permita realizar las pruebas ordinarias en ingeniería de software de manera eficiente. Es recomendable:\n",
    "\n",
    "* Estructurar correctamente un proyecto.\n",
    "* Documentar siempre el código, como el [PEP8](https://recursospython.com/pep8es.pdf).\n",
    "* Crear unidades (funciones, módulos, clases) que puedan probarse aisladamente.\n",
    "* Untilizar una guía de estilo.\n",
    "* Usar controles de versiones (como en GitHub).\n",
    "* Realizar pruebas unitarias (ver más adelante).\n",
    "* Aplicar el [zen de python](https://es.wikipedia.org/wiki/Zen_de_Python)"
   ]
  },
  {
   "cell_type": "code",
   "execution_count": null,
   "metadata": {},
   "outputs": [],
   "source": [
    "import this # Esta línea permite ver el Zen de Python"
   ]
  },
  {
   "cell_type": "markdown",
   "metadata": {},
   "source": [
    "En general, existen dos pruebas para el software:\n",
    "\n",
    "* Pruebas Unitarias\n",
    "* Pruebas de Integración"
   ]
  },
  {
   "cell_type": "markdown",
   "metadata": {},
   "source": [
    "### Pruebas Unitarias:\n",
    "Las Pruebas unitarías buscan comprobar el correcto funcionamiento de una unidad de código (fúnción, clase, módulo, etc.) y pretenden:\n",
    "\n",
    "* Detección temprana de errores en las nuevas funcionalidades o características desarrolladas.\n",
    "* Minimiza los costos de las pruebas a medida que se detectan problemas desde el principio.\n",
    "* Mejora la calidad del código con una mejor refactorización del código.\n",
    "* Apoya el proceso de desarrollo ágil.\n",
    "* Simplifica la integración y permite una buena documentación."
   ]
  },
  {
   "cell_type": "markdown",
   "metadata": {},
   "source": [
    "### Pruebas de integración:\n",
    "Las Pruebas de Integración implican probar diferentes módulos de una aplicación de software como grupo y buscan:\n",
    "    \n",
    "* Asegurar que todos los módulos de aplicación estén bien integrados y funcionen juntos según lo esperado.\n",
    "* Detectar problemas y conflictos interconectados para resolverlos antes de crear un gran problema.\n",
    "* Validar la funcionalidad, fiabilidad y estabilidad entre diferentes módulos.\n",
    "* Detectar excepciones ignoradas para mejorar la calidad del código."
   ]
  },
  {
   "cell_type": "markdown",
   "metadata": {},
   "source": [
    "En Python existen módulos especializados en realizar de manera autómatica pruebas unitarias, como:\n",
    "\n",
    "* [unittest](https://rico-schmidt.name/pymotw-3/unittest/index.html)\n",
    "* [doctest](https://docs.python.org/3/library/doctest.html)"
   ]
  },
  {
   "cell_type": "markdown",
   "metadata": {},
   "source": [
    "Otros aspectos de la verificación se refieren a la comprobación de pasos intermedios, mediante cálculos manuales.  \n",
    "\n",
    "También se pueden comparar las salidas de la simulación con los resultados teóricos."
   ]
  },
  {
   "cell_type": "markdown",
   "metadata": {},
   "source": [
    "## <font color='green'>Validación"
   ]
  },
  {
   "cell_type": "markdown",
   "metadata": {},
   "source": [
    "**Se refiere a poner a prueba al modelo en sí mismo.**"
   ]
  },
  {
   "cell_type": "markdown",
   "metadata": {},
   "source": [
    "En este punto es útil que las primeras versiones del programa impriman en pantalla los detalles de su operación para facilitar su validación."
   ]
  },
  {
   "cell_type": "markdown",
   "metadata": {},
   "source": [
    "La tabla resume algunas cuestiones sobre la verificación y la validación de la simulación. Para reflexionar sobre la construcción de modelos es útil la siguiente [Lectura](https://ciudadseva.com/texto/del-rigor-en-la-ciencia/)"
   ]
  },
  {
   "cell_type": "markdown",
   "metadata": {},
   "source": [
    "|                  **Modelo**        |   **Verificación**   |                     **Validación**                      | \n",
    "|-------------------------------------|----------------------|------------------------------------------------------------|\n",
    "| <font color='blue'>Modelo Conceptual</font>  | -  |<font color='blue'>¿Contiene todos los elementos, eventos y relaciones relevantes?|\n",
    "|                      -         |      -   |<font color='blue'> ¿El modelo responde la cuestión de interés?             | \n",
    "|<font color='red'>Modelo Lógico |<font color='red'>¿Los eventos están representados correctamente?|<font color='red'>¿Contiene todos los elementos incluidos en el modelo conceptual? |\n",
    "|-|<font color='red'>¿Son correctas las fórmulas y relaciones matemáticas? |<font color='red'>¿Contiene todas las relaciones del modelo conceptual?|\n",
    "|-|<font color='red'>¿Están correctamente formuladas las medidas estadisticas? |-|\n",
    "|<font color='green'>Simulación/Modelo computacional |<font color='green'>¿Contiene todos los aspectos del modelo lógico?|<font color='green'>¿Es una representación válida del sistema real?|\n",
    "|-|<font color='green'>¿Las fórmulas y estadísticas son correctas?|<font color='green'>¿Puede replicar el comportamiento del sistema?|\n",
    "|-|<font color='green'>¿Contiene errores de código?|<font color='green'>¿Las salidas tienen credibilidad?|"
   ]
  },
  {
   "cell_type": "code",
   "execution_count": null,
   "metadata": {},
   "outputs": [],
   "source": []
  }
 ],
 "metadata": {
  "kernelspec": {
   "display_name": "Python 3",
   "language": "python",
   "name": "python3"
  },
  "language_info": {
   "codemirror_mode": {
    "name": "ipython",
    "version": 3
   },
   "file_extension": ".py",
   "mimetype": "text/x-python",
   "name": "python",
   "nbconvert_exporter": "python",
   "pygments_lexer": "ipython3",
   "version": "3.7.3"
  }
 },
 "nbformat": 4,
 "nbformat_minor": 2
}

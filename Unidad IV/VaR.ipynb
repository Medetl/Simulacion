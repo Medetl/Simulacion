{
 "cells": [
  {
   "cell_type": "markdown",
   "metadata": {},
   "source": [
    "El «valor en riesgo» («VaR») es una medida del riesgo de una determinada acción, consistente en determinar la pérdida que se podría sufrir en condiciones normales de mercado en un intervalo de tiempo y con un cierto nivel de probabilidad o de confianza."
   ]
  },
  {
   "cell_type": "code",
   "execution_count": 8,
   "metadata": {},
   "outputs": [],
   "source": [
    "import matplotlib.pyplot as plt\n",
    "import yfinance as yf\n",
    "import numpy as np"
   ]
  },
  {
   "cell_type": "code",
   "execution_count": 12,
   "metadata": {},
   "outputs": [
    {
     "name": "stdout",
     "output_type": "stream",
     "text": [
      "Error fetching data for MSFT: Multi-dimensional indexing (e.g. `obj[:, None]`) is no longer supported. Convert to a numpy array before indexing instead.\n"
     ]
    },
    {
     "data": {
      "image/png": "[encoded data removed]",
      "text/plain": [
       "<Figure size 720x360 with 1 Axes>"
      ]
     },
     "metadata": {
      "needs_background": "light"
     },
     "output_type": "display_data"
    }
   ],
   "source": [
    "# Define the ticker symbol\n",
    "ticker_symbol = 'MSFT'\n",
    "\n",
    "# Get the data for the stock\n",
    "try:\n",
    "    ticker = yf.Ticker(ticker_symbol)\n",
    "    historical_data = ticker.history(period='1y')\n",
    "    \n",
    "    if historical_data.empty:\n",
    "        raise ValueError(f\"No data found for ticker symbol: {ticker_symbol}\")\n",
    "\n",
    "    # Plot the closing prices\n",
    "    plt.figure(figsize=(10, 5))\n",
    "    plt.plot(historical_data.index, historical_data['Close'], label='Close Price')\n",
    "    plt.title(f'Closing Prices of {ticker_symbol} for the Last Year')\n",
    "    plt.xlabel('Date')\n",
    "    plt.ylabel('Closing Price (USD)')\n",
    "    plt.legend()\n",
    "    plt.grid(True)\n",
    "    plt.show()\n",
    "\n",
    "except Exception as e:\n",
    "    print(f\"Error fetching data for {ticker_symbol}: {e}\")"
   ]
  },
  {
   "cell_type": "code",
   "execution_count": null,
   "metadata": {},
   "outputs": [],
   "source": []
  },
  {
   "cell_type": "code",
   "execution_count": 15,
   "metadata": {},
   "outputs": [
    {
     "data": {
      "text/html": [
       "<div>\n",
       "<style scoped>\n",
       "    .dataframe tbody tr th:only-of-type {\n",
       "        vertical-align: middle;\n",
       "    }\n",
       "\n",
       "    .dataframe tbody tr th {\n",
       "        vertical-align: top;\n",
       "    }\n",
       "\n",
       "    .dataframe thead th {\n",
       "        text-align: right;\n",
       "    }\n",
       "</style>\n",
       "<table border=\"1\" class=\"dataframe\">\n",
       "  <thead>\n",
       "    <tr style=\"text-align: right;\">\n",
       "      <th></th>\n",
       "      <th>Open</th>\n",
       "      <th>High</th>\n",
       "      <th>Low</th>\n",
       "      <th>Close</th>\n",
       "      <th>Volume</th>\n",
       "      <th>Dividends</th>\n",
       "      <th>Stock Splits</th>\n",
       "    </tr>\n",
       "    <tr>\n",
       "      <th>Date</th>\n",
       "      <th></th>\n",
       "      <th></th>\n",
       "      <th></th>\n",
       "      <th></th>\n",
       "      <th></th>\n",
       "      <th></th>\n",
       "      <th></th>\n",
       "    </tr>\n",
       "  </thead>\n",
       "  <tbody>\n",
       "    <tr>\n",
       "      <th>2023-12-12 00:00:00-05:00</th>\n",
       "      <td>238.550003</td>\n",
       "      <td>238.990005</td>\n",
       "      <td>233.869995</td>\n",
       "      <td>237.009995</td>\n",
       "      <td>95328300</td>\n",
       "      <td>0.0</td>\n",
       "      <td>0.0</td>\n",
       "    </tr>\n",
       "    <tr>\n",
       "      <th>2023-12-13 00:00:00-05:00</th>\n",
       "      <td>234.190002</td>\n",
       "      <td>240.300003</td>\n",
       "      <td>228.199997</td>\n",
       "      <td>239.289993</td>\n",
       "      <td>146286300</td>\n",
       "      <td>0.0</td>\n",
       "      <td>0.0</td>\n",
       "    </tr>\n",
       "    <tr>\n",
       "      <th>2023-12-14 00:00:00-05:00</th>\n",
       "      <td>241.220001</td>\n",
       "      <td>253.880005</td>\n",
       "      <td>240.789993</td>\n",
       "      <td>251.050003</td>\n",
       "      <td>160829200</td>\n",
       "      <td>0.0</td>\n",
       "      <td>0.0</td>\n",
       "    </tr>\n",
       "    <tr>\n",
       "      <th>2023-12-15 00:00:00-05:00</th>\n",
       "      <td>251.210007</td>\n",
       "      <td>254.130005</td>\n",
       "      <td>248.300003</td>\n",
       "      <td>253.500000</td>\n",
       "      <td>135720800</td>\n",
       "      <td>0.0</td>\n",
       "      <td>0.0</td>\n",
       "    </tr>\n",
       "    <tr>\n",
       "      <th>2023-12-18 00:00:00-05:00</th>\n",
       "      <td>253.779999</td>\n",
       "      <td>258.739990</td>\n",
       "      <td>251.360001</td>\n",
       "      <td>252.080002</td>\n",
       "      <td>116416500</td>\n",
       "      <td>0.0</td>\n",
       "      <td>0.0</td>\n",
       "    </tr>\n",
       "  </tbody>\n",
       "</table>\n",
       "</div>"
      ],
      "text/plain": [
       "                                 Open        High         Low       Close  \\\n",
       "Date                                                                        \n",
       "2023-12-12 00:00:00-05:00  238.550003  238.990005  233.869995  237.009995   \n",
       "2023-12-13 00:00:00-05:00  234.190002  240.300003  228.199997  239.289993   \n",
       "2023-12-14 00:00:00-05:00  241.220001  253.880005  240.789993  251.050003   \n",
       "2023-12-15 00:00:00-05:00  251.210007  254.130005  248.300003  253.500000   \n",
       "2023-12-18 00:00:00-05:00  253.779999  258.739990  251.360001  252.080002   \n",
       "\n",
       "                              Volume  Dividends  Stock Splits  \n",
       "Date                                                           \n",
       "2023-12-12 00:00:00-05:00   95328300        0.0           0.0  \n",
       "2023-12-13 00:00:00-05:00  146286300        0.0           0.0  \n",
       "2023-12-14 00:00:00-05:00  160829200        0.0           0.0  \n",
       "2023-12-15 00:00:00-05:00  135720800        0.0           0.0  \n",
       "2023-12-18 00:00:00-05:00  116416500        0.0           0.0  "
      ]
     },
     "execution_count": 15,
     "metadata": {},
     "output_type": "execute_result"
    }
   ],
   "source": [
    "tesla=yf.Ticker(\"TSLA\")\n",
    "df=tesla.history(start=\"2023-12-12\",interval=\"1d\")\n",
    "df.head()"
   ]
  },
  {
   "cell_type": "code",
   "execution_count": 16,
   "metadata": {},
   "outputs": [
    {
     "data": {
      "text/plain": [
       "Date\n",
       "2023-12-12 00:00:00-05:00    237.009995\n",
       "2023-12-13 00:00:00-05:00    239.289993\n",
       "2023-12-14 00:00:00-05:00    251.050003\n",
       "2023-12-15 00:00:00-05:00    253.500000\n",
       "2023-12-18 00:00:00-05:00    252.080002\n",
       "Name: Close, dtype: float64"
      ]
     },
     "execution_count": 16,
     "metadata": {},
     "output_type": "execute_result"
    }
   ],
   "source": [
    "df[\"Close\"].head()"
   ]
  },
  {
   "cell_type": "code",
   "execution_count": 17,
   "metadata": {},
   "outputs": [],
   "source": [
    "tesla_cierre=df[\"Close\"]"
   ]
  },
  {
   "cell_type": "code",
   "execution_count": 18,
   "metadata": {},
   "outputs": [
    {
     "data": {
      "text/plain": [
       "[<matplotlib.lines.Line2D at 0x1caf70a3bb0>]"
      ]
     },
     "execution_count": 18,
     "metadata": {},
     "output_type": "execute_result"
    },
    {
     "data": {
      "image/png": "[encoded data removed]",
      "text/plain": [
       "<Figure size 432x288 with 1 Axes>"
      ]
     },
     "metadata": {
      "needs_background": "light"
     },
     "output_type": "display_data"
    }
   ],
   "source": [
    "plt.plot(tesla_cierre)"
   ]
  },
  {
   "cell_type": "markdown",
   "metadata": {},
   "source": [
    "Para calcular el «VaR» necesitamos contar con una distribución de probabilidad, es necesario transformar los datos.\n",
    "\n",
    "Necesitaremos convertir la serie de no estacionaria (lo cual ya se aprecia facilmente en la gráfica, al verse una tendencia clara en la misma) en estacionaria (con media y varianza constantes). Algunos de los procedimientos para la realización de dicha transformación son el uso de logaritmos o calcular para cada valor, la diferencia entre dicho valor y su correspondiente valor anterior lageado «n» veces. En nuestro caso vamos a hacer uso conjunto de ambas técnicas usando un retardo (o «lag») de 1 (lo que significa que para el cálculo de las diferencias, restaremos a cada valor su correspondiente valor anterior."
   ]
  },
  {
   "cell_type": "code",
   "execution_count": 19,
   "metadata": {},
   "outputs": [],
   "source": [
    "#Cálculo de retornos\n",
    "tesla_retornos=np.log(tesla_cierre)-np.log(tesla_cierre.shift(1))\n",
    "tesla_ret=tesla_retornos.dropna() #elimina posiblesdatos vacios"
   ]
  },
  {
   "cell_type": "code",
   "execution_count": 20,
   "metadata": {},
   "outputs": [
    {
     "data": {
      "text/plain": [
       "Date\n",
       "2023-12-13 00:00:00-05:00    0.009574\n",
       "2023-12-14 00:00:00-05:00    0.047976\n",
       "2023-12-15 00:00:00-05:00    0.009712\n",
       "2023-12-18 00:00:00-05:00   -0.005617\n",
       "2023-12-19 00:00:00-05:00    0.020185\n",
       "Name: Close, dtype: float64"
      ]
     },
     "execution_count": 20,
     "metadata": {},
     "output_type": "execute_result"
    }
   ],
   "source": [
    "tesla_ret.head()"
   ]
  },
  {
   "cell_type": "code",
   "execution_count": 21,
   "metadata": {},
   "outputs": [
    {
     "data": {
      "text/plain": [
       "[<matplotlib.lines.Line2D at 0x1caf82de1c0>]"
      ]
     },
     "execution_count": 21,
     "metadata": {},
     "output_type": "execute_result"
    },
    {
     "data": {
      "image/png": "[encoded data removed]",
      "text/plain": [
       "<Figure size 432x288 with 1 Axes>"
      ]
     },
     "metadata": {
      "needs_background": "light"
     },
     "output_type": "display_data"
    }
   ],
   "source": [
    "plt.plot(tesla_ret)"
   ]
  },
  {
   "cell_type": "markdown",
   "metadata": {},
   "source": [
    "Con la serie de datos estacionales calculamops el VaR. Para ello, necesitábamos definir un intervalo (un año), un intervalo de confianza (95%)y una inversión inicial (1500):"
   ]
  },
  {
   "cell_type": "code",
   "execution_count": 22,
   "metadata": {},
   "outputs": [
    {
     "name": "stdout",
     "output_type": "stream",
     "text": [
      "-0.048363758313009875\n"
     ]
    }
   ],
   "source": [
    "#Calcular VaR para una inversion inicial\n",
    "inv_inicial=1500\n",
    "\n",
    "#intervalo de confianza\n",
    "percent=5\n",
    "var_95=np.percentile(tesla_ret,percent)\n",
    "print(var_95)"
   ]
  },
  {
   "cell_type": "code",
   "execution_count": 23,
   "metadata": {},
   "outputs": [
    {
     "name": "stdout",
     "output_type": "stream",
     "text": [
      "-72.54563746951482\n"
     ]
    }
   ],
   "source": [
    "print(var_95*inv_inicial)"
   ]
  },
  {
   "cell_type": "markdown",
   "metadata": {},
   "source": [
    "Existe 95% de probabilidades de que la pérdida no supere esta cantidad en un año."
   ]
  },
  {
   "cell_type": "code",
   "execution_count": 26,
   "metadata": {},
   "outputs": [
    {
     "name": "stdout",
     "output_type": "stream",
     "text": [
      "-0.07825161023586381\n"
     ]
    }
   ],
   "source": [
    "#valor en riesgo condicional\n",
    "cvar_95=tesla_ret[tesla_ret <= var_95].mean()\n",
    "print(cvar_95)"
   ]
  },
  {
   "cell_type": "code",
   "execution_count": null,
   "metadata": {},
   "outputs": [],
   "source": []
  }
 ],
 "metadata": {
  "kernelspec": {
   "display_name": "Python 3",
   "language": "python",
   "name": "python3"
  },
  "language_info": {
   "codemirror_mode": {
    "name": "ipython",
    "version": 3
   },
   "file_extension": ".py",
   "mimetype": "text/x-python",
   "name": "python",
   "nbconvert_exporter": "python",
   "pygments_lexer": "ipython3",
   "version": "3.8.3"
  }
 },
 "nbformat": 4,
 "nbformat_minor": 4
}

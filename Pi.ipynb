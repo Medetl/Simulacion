{
 "cells": [
  {
   "cell_type": "markdown",
   "metadata": {},
   "source": [
    "# Estimación del número $\\pi$"
   ]
  },
  {
   "cell_type": "code",
   "execution_count": null,
   "metadata": {},
   "outputs": [],
   "source": [
    "import random\n",
    "import numpy as np\n",
    "import matplotlib.pyplot as plt"
   ]
  },
  {
   "cell_type": "markdown",
   "metadata": {},
   "source": [
    "Partimos de un experimento que puede describirse como el lanzamiento al azar de un dardo.\n",
    "\n",
    "Los resultados posibles son: \n",
    "\n",
    "a) Cae dentro del cuarto de círculo\n",
    "b) Cae fuera del cuarto de círculo\n",
    "\n",
    "Y construimos un código para simular su repetición utilizando la generación de números aleatorios (uniformemente distribuidos)."
   ]
  },
  {
   "cell_type": "code",
   "execution_count": null,
   "metadata": {},
   "outputs": [],
   "source": [
    "N = 1000\n",
    "Aciertos = 0\n",
    "\n",
    "XCircle=[]  \n",
    "YCircle=[]  \n",
    "XSquare=[]  \n",
    "YSquare=[]  \n",
    "\n",
    "for p in range(N):\n",
    "    x=random.random()\n",
    "    y=random.random()\n",
    "    if(x**2+y**2 <= 1):\n",
    "        Aciertos+=1\n",
    "        XCircle.append(x)  \n",
    "        YCircle.append(y)        \n",
    "    else:\n",
    "        XSquare.append(x)  \n",
    "        YSquare.append(y)\n",
    "\n",
    "Pi = 4*Aciertos/N\n",
    "\n",
    "print(\"N=%d Aciertos=%d Pi=%.2f\" %(N,Aciertos,Pi))\n",
    "\n",
    "XLin=np.linspace(0,1)\n",
    "YLin=[]\n",
    "for x in XLin:\n",
    "    YLin.append(np.sqrt(1-x**2))\n",
    "\n",
    "fig = plt.figure(1, figsize=(8, 8)) \n",
    "plt.axis(\"equal\")                             \n",
    "plt.grid(which=\"major\")                        \n",
    "plt.plot(XLin , YLin, color=\"red\" , linewidth=\"1\") \n",
    "plt.scatter(XCircle, YCircle, color=\"blue\", marker   =\".\") \n",
    "plt.scatter(XSquare, YSquare, color=\"green\"  , marker   =\".\") \n",
    "plt.title(\"Estimación de $\\pi$ por el método de Monte Carlo\")\n",
    "plt.xlabel(\"X\")\n",
    "plt.ylabel(\"Y\")\n",
    " \n",
    "plt.show()"
   ]
  },
  {
   "cell_type": "markdown",
   "metadata": {},
   "source": [
    "Visualizamos el comportamiento de nuestra estimación en función del número de iteraciones."
   ]
  },
  {
   "cell_type": "code",
   "execution_count": null,
   "metadata": {},
   "outputs": [],
   "source": [
    "def pi_mc(n):\n",
    "    pi = 0\n",
    "    lx = []\n",
    "    ly = []\n",
    "    counter = 0\n",
    "    for i in range(n):\n",
    "        x = random.random()\n",
    "        y = random.random()\n",
    "        if x**2 + y**2 <1:\n",
    "            counter = counter + 1\n",
    "            lx.append(counter)\n",
    "            ly.append(4.0*float(counter)/(i + 1))\n",
    "        \n",
    "        pi = 4.0*float(counter)/(i + 1)\n",
    "        \n",
    "        e = np.absolute((pi - np.pi)/np.pi)\n",
    "    print(\"pi =\", pi)\n",
    "    print(\"error =\", e)\n",
    "    \n",
    "    fig = plt.figure(1, figsize=(8, 8))        \n",
    "    plt.xlabel(\"Iteraciones\")\n",
    "    plt.ylabel(\"Estimación de $\\pi$\")\n",
    "    plt.grid()\n",
    "    plt.plot(lx, ly, color=\"blue\", markersize=1)\n",
    "    plt.show()"
   ]
  },
  {
   "cell_type": "code",
   "execution_count": null,
   "metadata": {},
   "outputs": [],
   "source": [
    "pi_mc(1000)"
   ]
  },
  {
   "cell_type": "markdown",
   "metadata": {},
   "source": [
    "Ejercicio:\n",
    "    \n",
    "    Repetir el experimento, utilizando un cuarto de elipse."
   ]
  },
  {
   "cell_type": "markdown",
   "metadata": {},
   "source": [
    "Tarea:\n",
    "    \n",
    "https://www.youtube.com/watch?v=f5fcIEQEgWQ"
   ]
  },
  {
   "cell_type": "code",
   "execution_count": null,
   "metadata": {},
   "outputs": [],
   "source": []
  }
 ],
 "metadata": {
  "kernelspec": {
   "display_name": "Python 3",
   "language": "python",
   "name": "python3"
  },
  "language_info": {
   "codemirror_mode": {
    "name": "ipython",
    "version": 3
   },
   "file_extension": ".py",
   "mimetype": "text/x-python",
   "name": "python",
   "nbconvert_exporter": "python",
   "pygments_lexer": "ipython3",
   "version": "3.7.3"
  }
 },
 "nbformat": 4,
 "nbformat_minor": 2
}

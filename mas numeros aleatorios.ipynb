{
 "cells": [
  {
   "cell_type": "markdown",
   "metadata": {},
   "source": [
    "# Uso de los números aleatorios"
   ]
  },
  {
   "cell_type": "markdown",
   "metadata": {},
   "source": [
    "## 1. Introducción al Módulo random"
   ]
  },
  {
   "cell_type": "markdown",
   "metadata": {},
   "source": [
    "El módulo random de la librería estándar de Python incluye un conjunto de funciones que permiten obtener de distintos modos \n",
    "números pseudoaleatorios a través del algoritmo [Mersenne Twister](https://es.wikipedia.org/wiki/Mersenne_twister)."
   ]
  },
  {
   "cell_type": "code",
   "execution_count": 17,
   "metadata": {},
   "outputs": [],
   "source": [
    "#importamos el módulo que vamos a usar \n",
    "\n",
    "import random\n",
    "import numpy as np\n",
    "import matplotlib.pyplot as plt"
   ]
  },
  {
   "cell_type": "markdown",
   "metadata": {},
   "source": [
    "Las funciones de los módulos se invocan con el formato: módulo.función().\n",
    "\n",
    "En el módulo random existe la función random, que devuelve un número aleatorio que sigue una distribución uniforme. \n",
    "\n",
    "Así, para obtener $x \\sim U(0,1)$:"
   ]
  },
  {
   "cell_type": "code",
   "execution_count": 2,
   "metadata": {},
   "outputs": [
    {
     "name": "stdout",
     "output_type": "stream",
     "text": [
      "0.6443797839638138\n"
     ]
    }
   ],
   "source": [
    "x = random.random()  #Cada ejecución dará un número distinto.\n",
    "print(x)"
   ]
  },
  {
   "cell_type": "markdown",
   "metadata": {},
   "source": [
    "Se puede usar algún bucle si se desea generar una secuencia $x_i \\sim U(0,1)$ con $i = 1, 2, 3,..., N$:"
   ]
  },
  {
   "cell_type": "code",
   "execution_count": 3,
   "metadata": {},
   "outputs": [
    {
     "name": "stdout",
     "output_type": "stream",
     "text": [
      "0.7910 0.3347 0.9625 0.5076 0.5998 0.6390 0.9259 0.8151 0.1160 0.2399 \n"
     ]
    }
   ],
   "source": [
    "for i in range(10):\n",
    "    print('%05.4f' % random.random(), end=' ')  #El código en rojo indica la cantidad de dígitos y de decimales a mostrar.\n",
    "print()"
   ]
  },
  {
   "cell_type": "code",
   "execution_count": 4,
   "metadata": {},
   "outputs": [
    {
     "name": "stdout",
     "output_type": "stream",
     "text": [
      "0.5050\n",
      "0.6506\n",
      "0.0835\n",
      "0.3092\n",
      "0.5055\n",
      "0.4946\n",
      "0.9582\n",
      "0.2456\n",
      "0.4450\n",
      "0.3705\n",
      "\n"
     ]
    }
   ],
   "source": [
    "for i in range(10):\n",
    "    print('%05.4f' % random.random(), sep=\"\\t\")\n",
    "print()"
   ]
  },
  {
   "cell_type": "markdown",
   "metadata": {},
   "source": [
    "La función seed() fija el valor de la semilla en la generación de la secuencia de números aleatorios. \n",
    "Esto es útil cuando se quieren utilizar los mismos datos de entrada en una simulación."
   ]
  },
  {
   "cell_type": "code",
   "execution_count": 5,
   "metadata": {},
   "outputs": [
    {
     "name": "stdout",
     "output_type": "stream",
     "text": [
      "0.1344 0.8474 0.7638 0.2551 0.4954 0.4495 0.6516 0.7887 0.0939 0.0283 0.8358 0.4328 0.7623 0.0021 0.4454 0.7215 0.2288 0.9453 0.9014 0.0306 \n"
     ]
    }
   ],
   "source": [
    "random.seed(1) #primero fijamos la semilla\n",
    "\n",
    "for i in range(20):\n",
    "    print('%05.4f' % random.random(), end=' ')\n",
    "print()"
   ]
  },
  {
   "cell_type": "markdown",
   "metadata": {},
   "source": [
    "La función uniform() devuelve un número float incluido entre los valores indicados."
   ]
  },
  {
   "cell_type": "code",
   "execution_count": 6,
   "metadata": {},
   "outputs": [
    {
     "name": "stdout",
     "output_type": "stream",
     "text": [
      "2.2468 27.5292 47.0183 19.6790 11.6134 21.6837 2.4230 11.8629 22.4565 25.2948 \n"
     ]
    }
   ],
   "source": [
    "for i in range(10):\n",
    "    print('%5.4f' %random.uniform(1, 50), end=' ')\n",
    "print()"
   ]
  },
  {
   "cell_type": "markdown",
   "metadata": {},
   "source": [
    "La función randint() devuelve un número entero incluido entre los valores indicados. \n",
    "Los valores de los límites inferior y superior también pueden aparecer entre los valores devueltos."
   ]
  },
  {
   "cell_type": "code",
   "execution_count": 7,
   "metadata": {},
   "outputs": [
    {
     "name": "stdout",
     "output_type": "stream",
     "text": [
      "-41 -12 -41 73 -44 94 17 -26 -95 6 42 64 -75 -53 61 85 -25 -70 90 -15 \n"
     ]
    }
   ],
   "source": [
    "for i in range(20):\n",
    "    print(random.randint(-100, 100), end=' ')\n",
    "print()"
   ]
  },
  {
   "cell_type": "markdown",
   "metadata": {},
   "source": [
    "La función randrange() devuelve enteros que van desde un valor inicial a otro final \n",
    "separados entre sí un número de valores determinados."
   ]
  },
  {
   "cell_type": "code",
   "execution_count": 8,
   "metadata": {},
   "outputs": [
    {
     "name": "stdout",
     "output_type": "stream",
     "text": [
      "15 15 12 9 12 18 15 3 6 6 12 9 18 12 9 12 18 0 9 3 \n"
     ]
    }
   ],
   "source": [
    "for i in range(20):\n",
    "    print(random.randrange(0, 20, 3), end=' ')\n",
    "print()"
   ]
  },
  {
   "cell_type": "code",
   "execution_count": null,
   "metadata": {},
   "outputs": [],
   "source": []
  },
  {
   "cell_type": "markdown",
   "metadata": {},
   "source": [
    "La función random.choice() se utiliza para seleccionar elementos al azar de una lista."
   ]
  },
  {
   "cell_type": "code",
   "execution_count": 9,
   "metadata": {},
   "outputs": [],
   "source": [
    "Lista = ['Rome','New York','London','Berlin','Moskov', 'Los Angeles','Paris','Madrid','Tokio','Toronto']"
   ]
  },
  {
   "cell_type": "code",
   "execution_count": 10,
   "metadata": {},
   "outputs": [
    {
     "name": "stdout",
     "output_type": "stream",
     "text": [
      "La ciudad elegida es -  Paris\n"
     ]
    }
   ],
   "source": [
    "Ciudad = random.choice(Lista) \n",
    "print (\"La ciudad elegida es - \", Ciudad)"
   ]
  },
  {
   "cell_type": "code",
   "execution_count": 11,
   "metadata": {},
   "outputs": [
    {
     "name": "stdout",
     "output_type": "stream",
     "text": [
      "La ciudad elegida es -  Paris\n",
      "La ciudad elegida es -  London\n",
      "La ciudad elegida es -  Los Angeles\n",
      "La ciudad elegida es -  Tokio\n",
      "La ciudad elegida es -  Los Angeles\n",
      "La ciudad elegida es -  New York\n",
      "La ciudad elegida es -  Madrid\n",
      "La ciudad elegida es -  Tokio\n",
      "La ciudad elegida es -  New York\n",
      "La ciudad elegida es -  London\n"
     ]
    }
   ],
   "source": [
    "for i in range(10):\n",
    "    Ciudad = random.choice(Lista) \n",
    "    print (\"La ciudad elegida es - \", Ciudad)"
   ]
  },
  {
   "cell_type": "markdown",
   "metadata": {},
   "source": [
    "La función sample() devuelve de una lista de elementos un determinado número de elementos diferentes elegidos al azar."
   ]
  },
  {
   "cell_type": "code",
   "execution_count": 12,
   "metadata": {},
   "outputs": [
    {
     "name": "stdout",
     "output_type": "stream",
     "text": [
      "['Tokio', 'Paris', 'Los Angeles', 'Berlin', 'Madrid', 'Rome', 'Toronto', 'Moskov', 'New York']\n"
     ]
    }
   ],
   "source": [
    "print(random.sample(Lista, 9))"
   ]
  },
  {
   "cell_type": "markdown",
   "metadata": {},
   "source": [
    "La función shuffle() 'mezcla' o cambia aleatoriamente el orden de los elementos de una lista antes de realizar la selección de alguno de ellos. "
   ]
  },
  {
   "cell_type": "code",
   "execution_count": 13,
   "metadata": {},
   "outputs": [
    {
     "name": "stdout",
     "output_type": "stream",
     "text": [
      "mezcla1 ['Los Angeles', 'Madrid', 'Berlin', 'Rome', 'Tokio', 'Moskov', 'New York', 'London', 'Paris', 'Toronto']\n"
     ]
    }
   ],
   "source": [
    "random.shuffle(Lista)\n",
    "print('mezcla1', Lista)"
   ]
  },
  {
   "cell_type": "markdown",
   "metadata": {},
   "source": [
    "## Ejercicio:\n",
    "\n",
    "1. Elegir al azar una ciudad de la Lista despues de hacer una mezcla.\n",
    "2. Elegir al azar tres ciudades después de una mezcla."
   ]
  },
  {
   "cell_type": "markdown",
   "metadata": {},
   "source": [
    "La función random.gaus() genera una muestra de números aleatorios normalmente distribuidos."
   ]
  },
  {
   "cell_type": "code",
   "execution_count": 27,
   "metadata": {},
   "outputs": [
    {
     "data": {
      "image/png": "[encoded data removed]",
      "text/plain": [
       "<Figure size 432x288 with 1 Axes>"
      ]
     },
     "metadata": {
      "needs_background": "light"
     },
     "output_type": "display_data"
    }
   ],
   "source": [
    "#Generamos una lista de 100 números aleatorios normalmente distribuidos.\n",
    "\n",
    "nums = []\n",
    "mu = 100\n",
    "sigma = 50\n",
    "\n",
    "for i in range(100):\n",
    "    temp = random.gauss(mu, sigma)\n",
    "    nums.append(temp)\n",
    "\n",
    "plt.plot(nums)\n",
    "plt.show()"
   ]
  },
  {
   "cell_type": "code",
   "execution_count": 15,
   "metadata": {},
   "outputs": [
    {
     "data": {
      "image/png": "[encoded data removed]",
      "text/plain": [
       "<Figure size 432x288 with 1 Axes>"
      ]
     },
     "metadata": {
      "needs_background": "light"
     },
     "output_type": "display_data"
    }
   ],
   "source": [
    "# Construimos el histograma de una muestra de 10000 números aleatorios normalmente distribuidos\n",
    "\n",
    "nums = []\n",
    "mu = 100\n",
    "sigma = 50\n",
    "\n",
    "for i in range(10000):\n",
    "    temp = random.gauss(mu, sigma)\n",
    "    nums.append(temp)\n",
    "\n",
    "plt.hist(nums, bins = 200)\n",
    "plt.show()\n"
   ]
  },
  {
   "cell_type": "markdown",
   "metadata": {},
   "source": [
    "## Ejercicio:\n",
    "\n",
    "1. Generar muestras e histograma de las funciones: \n",
    "    triangular(), betavariate(), expovariate(), gammavariate(), \n",
    "    lognormvariate(), normalvariate(), vonmisesvariate(), paretovariate() y weibullvariate()"
   ]
  },
  {
   "cell_type": "markdown",
   "metadata": {},
   "source": [
    "## Podemos simular diversas variables aleatorias a partir de un generador de números aleatorios (uniformemente distribuidos). "
   ]
  },
  {
   "cell_type": "markdown",
   "metadata": {},
   "source": [
    "### La distribución exponencial\n",
    "\n",
    "Función de densidad:\n",
    "    \n",
    "$f_X (x) = \\lambda e^{-\\lambda x}$  para $x \\geq 0$\n",
    "\n",
    "y función de distribución:\n",
    "\n",
    "$F_X (x) = 1 - e^{-\\lambda x}$  para $x \\geq 0$"
   ]
  },
  {
   "cell_type": "markdown",
   "metadata": {},
   "source": [
    "Puede ser simulada por el método de inversión mediante el siguiente algoritmo:\n",
    "\n",
    "0. Hacer $L = -\\frac{1}{\\lambda}$\n",
    "1. Generar $U \\sim U(0, 1)$\n",
    "2. Devolver $X = L \\cdot Ln(U)$"
   ]
  },
  {
   "cell_type": "code",
   "execution_count": 22,
   "metadata": {},
   "outputs": [],
   "source": [
    "import random                                   # importamos el módulo random\n",
    "import numpy as np                              # importamos numpy con un alias (np)\n",
    "import matplotlib.pyplot as plt                 # ídem\n",
    "#from random import expovariate, gauss\n",
    "from statistics import mean, median, variance, stdev      # exportamos funciones especificas de statistics"
   ]
  },
  {
   "cell_type": "code",
   "execution_count": 12,
   "metadata": {},
   "outputs": [
    {
     "data": {
      "image/png": "[encoded data removed]",
      "text/plain": [
       "<Figure size 432x288 with 1 Axes>"
      ]
     },
     "metadata": {
      "needs_background": "light"
     },
     "output_type": "display_data"
    }
   ],
   "source": [
    "#Generamos una lista de números aleatorios que siguen la distribución exponencial.\n",
    "\n",
    "nums = []\n",
    "lamb = 0.01                                     # Párametro de la función exponencial\n",
    "L = -1.0/lamb #inversa de lambda\n",
    "\n",
    "for i in range(100):\n",
    "    temp = L*np.log(random.random())            # Pasos 1 y 2\n",
    "    nums.append(temp)\n",
    "\n",
    "plt.plot(nums)\n",
    "plt.show()"
   ]
  },
  {
   "cell_type": "code",
   "execution_count": 18,
   "metadata": {},
   "outputs": [
    {
     "data": {
      "image/png": "[encoded data removed]",
      "text/plain": [
       "<Figure size 432x288 with 1 Axes>"
      ]
     },
     "metadata": {
      "needs_background": "light"
     },
     "output_type": "display_data"
    }
   ],
   "source": [
    "nums = []\n",
    "lamb = 0.01                                     # Párametro de la función exponencial\n",
    "L = -1.0/lamb #inversa de lambda\n",
    "\n",
    "for i in range(1000):\n",
    "    temp = L*np.log(random.random())\n",
    "    nums.append(temp)\n",
    "\n",
    "plt.hist(nums, bins = 100)\n",
    "plt.show()\n"
   ]
  },
  {
   "cell_type": "markdown",
   "metadata": {},
   "source": [
    "### Lo podemos comparar con la salida de la función expovariate()"
   ]
  },
  {
   "cell_type": "code",
   "execution_count": 19,
   "metadata": {},
   "outputs": [
    {
     "data": {
      "image/png": "[encoded data removed]",
      "text/plain": [
       "<Figure size 432x288 with 1 Axes>"
      ]
     },
     "metadata": {
      "needs_background": "light"
     },
     "output_type": "display_data"
    }
   ],
   "source": [
    "# Construimos el histograma de una muestra de 10000 números aleatorios normalmente distribuidos\n",
    "\n",
    "nums = []\n",
    "lamb = 0.01\n",
    "\n",
    "\n",
    "for i in range(1000):\n",
    "    temp = random.expovariate(lamb)\n",
    "    nums.append(temp)\n",
    "\n",
    "plt.hist(nums, bins = 100)\n",
    "plt.show()\n"
   ]
  },
  {
   "cell_type": "markdown",
   "metadata": {},
   "source": [
    "Que se puede obtener de esta otra manera:"
   ]
  },
  {
   "cell_type": "code",
   "execution_count": 7,
   "metadata": {},
   "outputs": [
    {
     "data": {
      "image/png": "[encoded data removed]",
      "text/plain": [
       "<Figure size 432x288 with 1 Axes>"
      ]
     },
     "metadata": {
      "needs_background": "light"
     },
     "output_type": "display_data"
    }
   ],
   "source": [
    "#plt.figure(figsize = (8, 4))\n",
    "plt.hist([random.expovariate(100) for i in range(10000)], bins = 200)\n",
    "plt.show()"
   ]
  },
  {
   "cell_type": "markdown",
   "metadata": {},
   "source": [
    "Y podemos usar el módulo statistics para obtener algunos parámetros del histograma."
   ]
  },
  {
   "cell_type": "code",
   "execution_count": 23,
   "metadata": {},
   "outputs": [
    {
     "data": {
      "image/png": "[encoded data removed]",
      "text/plain": [
       "<Figure size 432x288 with 1 Axes>"
      ]
     },
     "metadata": {
      "needs_background": "light"
     },
     "output_type": "display_data"
    },
    {
     "name": "stdout",
     "output_type": "stream",
     "text": [
      "Media: 95.64119.  Mediana: 66.83830.\n",
      "Varianza: 9510.63796.  Desviación estándar: 97.52250.\n"
     ]
    }
   ],
   "source": [
    "#plt.figure(figsize = (8, 4))\n",
    "sample = [random.expovariate(0.01) for i in range(1000)]\n",
    "plt.hist(sample, bins = 200)\n",
    "plt.show()\n",
    "\n",
    "print(f'Media: {mean(sample):.5f}.  Mediana: {median(sample):.5f}.')\n",
    "print(f'Varianza: {variance(sample):.5f}.  Desviación estándar: {stdev(sample):.5f}.')"
   ]
  },
  {
   "cell_type": "markdown",
   "metadata": {},
   "source": [
    "## Ejercicio (03032022):\n",
    "\n",
    "Simular dos distribuciones de probabilidad (no la normal, no la exponencial), por el método que prefieran."
   ]
  },
  {
   "cell_type": "code",
   "execution_count": null,
   "metadata": {},
   "outputs": [],
   "source": []
  }
 ],
 "metadata": {
  "kernelspec": {
   "display_name": "Python 3",
   "language": "python",
   "name": "python3"
  },
  "language_info": {
   "codemirror_mode": {
    "name": "ipython",
    "version": 3
   },
   "file_extension": ".py",
   "mimetype": "text/x-python",
   "name": "python",
   "nbconvert_exporter": "python",
   "pygments_lexer": "ipython3",
   "version": "3.7.3"
  }
 },
 "nbformat": 4,
 "nbformat_minor": 2
}

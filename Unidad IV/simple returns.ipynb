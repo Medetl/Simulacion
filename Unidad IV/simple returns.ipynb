{
 "cells": [
  {
   "cell_type": "code",
   "execution_count": null,
   "id": "16137154",
   "metadata": {},
   "outputs": [],
   "source": [
    "import numpy as np\n",
    "import matplotlib.pyplot as plt\n",
    "import pandas as pd\n",
    "import yfinance as yf\n",
    "import datetime"
   ]
  },
  {
   "cell_type": "code",
   "execution_count": null,
   "id": "c9aaedee",
   "metadata": {},
   "outputs": [],
   "source": [
    "ticker='PG'\n",
    "start = datetime.datetime(1995,1,1)\n",
    "end = datetime.datetime(2017,3,23)\n",
    "\n",
    "try:\n",
    "    data = yf.download(ticker, start=start, end=end)['Adj Close']\n",
    "    PG = pd.DataFrame(data)\n",
    "    #data.columns = [ticker]\n",
    "    #print(data.head())\n",
    "except Exception as e:\n",
    "    print(f\"Ocurrio un error al intentar descargar los datos:{e}\")"
   ]
  },
  {
   "cell_type": "code",
   "execution_count": null,
   "id": "ad51b9c0",
   "metadata": {},
   "outputs": [],
   "source": [
    "PG.head()"
   ]
  },
  {
   "cell_type": "code",
   "execution_count": null,
   "id": "e1a69adf",
   "metadata": {},
   "outputs": [],
   "source": [
    "PG.tail()"
   ]
  },
  {
   "cell_type": "markdown",
   "id": "eee8bcf8",
   "metadata": {},
   "source": [
    "Simple rate of return"
   ]
  },
  {
   "cell_type": "markdown",
   "id": "b05e5ea6",
   "metadata": {},
   "source": [
    "$$\\frac{P_1-P_0}{P_0}=\\frac{P_1}{P_0}-1$$"
   ]
  },
  {
   "cell_type": "code",
   "execution_count": null,
   "id": "2a09a138",
   "metadata": {},
   "outputs": [],
   "source": [
    "PG['simple_return'] = (PG['Adj Close'] / PG['Adj Close'].shift(1) - 1)"
   ]
  },
  {
   "cell_type": "code",
   "execution_count": null,
   "id": "18d72a16",
   "metadata": {},
   "outputs": [],
   "source": [
    "print(PG['simple_return'])"
   ]
  },
  {
   "cell_type": "code",
   "execution_count": null,
   "id": "165bad50",
   "metadata": {},
   "outputs": [],
   "source": [
    "PG['simple_return'].plot(figsize=(8,5))"
   ]
  },
  {
   "cell_type": "code",
   "execution_count": null,
   "id": "aa4c90b1",
   "metadata": {},
   "outputs": [],
   "source": [
    "avg_returns_d = PG['simple_return'].mean()\n",
    "avg_returns_d\n",
    "\n",
    "# Este es el retorno diario"
   ]
  },
  {
   "cell_type": "code",
   "execution_count": null,
   "id": "8366f938",
   "metadata": {},
   "outputs": [],
   "source": [
    "# El retorno anual, se calcula no multiplicando por 365, pues no hay actividad diaria realmente.\n",
    "# Por quitar días sabado, domingo y feriados.\n",
    "# Lo correcto es 250, a veces 251 o 252 \n",
    "# Así, el retorno anual es"
   ]
  },
  {
   "cell_type": "code",
   "execution_count": null,
   "id": "d52d8c2c",
   "metadata": {},
   "outputs": [],
   "source": [
    "avg_returns_a = PG['simple_return'].mean() * 250\n",
    "avg_returns_a"
   ]
  },
  {
   "cell_type": "code",
   "execution_count": null,
   "id": "351adbcb",
   "metadata": {},
   "outputs": [],
   "source": [
    "print(str(round(avg_returns_a, 5) * 100) + '%') "
   ]
  },
  {
   "cell_type": "code",
   "execution_count": null,
   "id": "90d3f995",
   "metadata": {},
   "outputs": [],
   "source": []
  }
 ],
 "metadata": {
  "kernelspec": {
   "display_name": "Python 3 (ipykernel)",
   "language": "python",
   "name": "python3"
  },
  "language_info": {
   "codemirror_mode": {
    "name": "ipython",
    "version": 3
   },
   "file_extension": ".py",
   "mimetype": "text/x-python",
   "name": "python",
   "nbconvert_exporter": "python",
   "pygments_lexer": "ipython3",
   "version": "3.7.3"
  }
 },
 "nbformat": 4,
 "nbformat_minor": 5
}

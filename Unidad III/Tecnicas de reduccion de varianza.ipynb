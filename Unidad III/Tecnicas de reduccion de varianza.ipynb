{
 "cells": [
  {
   "cell_type": "markdown",
   "metadata": {},
   "source": [
    "# <font color='blue'>Técnicas de Reducción de Varianza"
   ]
  },
  {
   "cell_type": "markdown",
   "metadata": {},
   "source": [
    "\n",
    "En las simulaciones Monte Carlo, como en otras técnicas de muestreo <font color='red'> el error es proporcional a $\\frac{1}{\\sqrt{N}}$, siendo $N$ el tamaño de la muestra.</font>"
   ]
  },
  {
   "cell_type": "markdown",
   "metadata": {},
   "source": [
    "Si consideramos la **precisión** como proporcional a la desviación estándar, entonces se sigue que la cantidad de trabajo computacional requerido varía con el cuadrado de la precisión deseada.\n",
    "\n",
    "Los **métodos de reducción de varianza** buscan reducir esa constante de proporcionalidad para aumentar la precisión sin tener que aumentar el trabajo computacional.\n",
    "\n",
    "Entre esos métodos, podemos mencionar:\n",
    "\n",
    "* Variables antitéticas.\n",
    "* Muestreo Importancia.\n",
    "* Muestreo estratificado. \n",
    "* Variables de control.\n",
    "* Monte Carlo condicional."
   ]
  },
  {
   "cell_type": "markdown",
   "metadata": {},
   "source": [
    "## <font color='blue'> Variables Antitéticas"
   ]
  },
  {
   "cell_type": "markdown",
   "metadata": {},
   "source": [
    "Esta técnica se basa en el uso del teorema:"
   ]
  },
  {
   "cell_type": "markdown",
   "metadata": {},
   "source": [
    "$$Var(\\frac{X_1+X_2}{2})=\\frac{1}{4}[Var(X_1)+Var(X_1)+2Cov(X_1+X_2)]$$"
   ]
  },
  {
   "cell_type": "markdown",
   "metadata": {},
   "source": [
    "Supongamos que $\\hat{\\theta_1}$ es un estimador insesgado del párametro $\\theta$ y que además $\\hat{\\theta_1}$ es una función de $m$ números aleatorios $R_1, ..., R_m$. Debido a que $1 - R_m$ sigue la misma distribución que $R_m$ (ambos $U(0,1)$), podemos construir otro estimador simplemente sustituyendo $R_m$ por $1-R_m$.  "
   ]
  },
  {
   "cell_type": "code",
   "execution_count": null,
   "metadata": {},
   "outputs": [],
   "source": []
  },
  {
   "cell_type": "markdown",
   "metadata": {},
   "source": [
    "Consideremos la estimación de la integral:\n",
    "\n",
    " <font color='red'> $$\\mathcal{I}=\\int_0^1 \\frac{1}{1+x} dx$$"
   ]
  },
  {
   "cell_type": "markdown",
   "metadata": {},
   "source": [
    "## Ejercicio:\n",
    "\n",
    "* Calcular el valor exacto de esta integral."
   ]
  },
  {
   "cell_type": "markdown",
   "metadata": {},
   "source": [
    "Podemos estimar el valor de esta integral por el método de la media muestral:\n",
    "\n",
    "$$\\mathcal{I} \\approx \\frac{1}{1 + u_1} + \\frac{1}{1 + u_2} + \\frac{1}{1 + u_3} + ... + \\frac{1}{1 + u_m}$$"
   ]
  },
  {
   "cell_type": "code",
   "execution_count": null,
   "metadata": {},
   "outputs": [],
   "source": [
    "import numpy as np\n",
    "import matplotlib.pyplot as plt"
   ]
  },
  {
   "cell_type": "code",
   "execution_count": null,
   "metadata": {},
   "outputs": [],
   "source": [
    "#Definimos la función de prueba.\n",
    "def funcion(x):\n",
    "    return 1.0/(1+x) "
   ]
  },
  {
   "cell_type": "code",
   "execution_count": null,
   "metadata": {},
   "outputs": [],
   "source": [
    "#Graficamos la función de prueba.\n",
    "X=np.linspace(0,1,1000)\n",
    "plt.plot(X,funcion(X), color='red', label=\"$y=1/(1+x)$\")\n",
    "plt.fill_between(X,funcion(X))\n",
    "plt.legend()\n",
    "plt.xlim(0.0, 1.2)\n",
    "plt.ylim(0.0, 1.2)\n",
    "plt.grid(True)\n",
    "plt.title('Función de prueba', color='b')\n",
    "plt.xlabel('X')\n",
    "plt.ylabel('Y')\n",
    "plt.show()"
   ]
  },
  {
   "cell_type": "markdown",
   "metadata": {},
   "source": [
    "Podemos estimar el valor de esta integral por el método de la media muestral:\n",
    "\n",
    "$$\\mathcal{I} \\approx \\frac{1}{1 + u_1} + \\frac{1}{1 + u_2} + \\frac{1}{1 + u_3} + ... + \\frac{1}{1 + u_m}$$"
   ]
  },
  {
   "cell_type": "code",
   "execution_count": null,
   "metadata": {},
   "outputs": [],
   "source": [
    "def integ(func=funcion, n=3000):\n",
    "    muestreo=[]\n",
    "    suma=[]\n",
    "    for i in range(n):\n",
    "        u= np.random.random_sample()\n",
    "        muestreo.append(u)\n",
    "        y=funcion(u)\n",
    "        suma.append(y)\n",
    "\n",
    "    return np.mean(suma), np.std(suma)/np.sqrt(n)\n",
    "\n",
    "print(\"El valor de la integral es:\", round(integ()[0],5))\n",
    "print(\"El error estándar es:\", round(integ()[1],5))"
   ]
  },
  {
   "cell_type": "code",
   "execution_count": null,
   "metadata": {},
   "outputs": [],
   "source": [
    "def integ(func=funcion, n=3000):\n",
    "    muestreo=[]\n",
    "    suma=[]\n",
    "    for i in range(n):\n",
    "        u= np.random.random_sample()\n",
    "        muestreo.append(u)\n",
    "        y=funcion(1-u)\n",
    "        suma.append(y)\n",
    "\n",
    "    return np.mean(suma), np.std(suma)/np.sqrt(n), suma\n",
    "\n",
    "print(\"El valor de la integral es:\", round(integ()[0],5))\n",
    "print(\"El error estándar es:\", round(integ()[1],5))"
   ]
  },
  {
   "cell_type": "code",
   "execution_count": null,
   "metadata": {},
   "outputs": [],
   "source": [
    "def integ(func=funcion, n=3000):\n",
    "    muestreo=[]\n",
    "    suma=[]\n",
    "    for i in range(n):\n",
    "        u= np.random.random_sample()\n",
    "        muestreo.append(u)\n",
    "        y=(funcion(u) + funcion(1-u))/2.0\n",
    "        suma.append(y)\n",
    "\n",
    "    return np.mean(suma), np.std(suma)/np.sqrt(n)\n",
    "\n",
    "print(\"El valor de la integral es:\", round(integ()[0],5))\n",
    "print(\"El error estándar es:\", round(integ()[1],5))"
   ]
  },
  {
   "cell_type": "code",
   "execution_count": null,
   "metadata": {},
   "outputs": [],
   "source": [
    "def mc_crudo(funcion, n):\n",
    "    integral=[]\n",
    "    suma=[]\n",
    "    for i in range(n):\n",
    "        u= np.random.random_sample()\n",
    "        y=(funcion(u) + funcion(1-u))/2.0\n",
    "        suma.append(y)\n",
    "        integral.append(np.mean(suma))\n",
    "        \n",
    "    print(\"El valor de la integral con v antiteticas es:\", round(np.mean(suma),5))\n",
    "    print(\"El error estándar es:\", round(np.std(suma)/np.sqrt(n),5))\n",
    "    \n",
    "    return np.mean(suma), np.std(suma)/np.sqrt(n), integral"
   ]
  },
  {
   "cell_type": "code",
   "execution_count": null,
   "metadata": {},
   "outputs": [],
   "source": [
    "def mc_crudo1(funcion, n):\n",
    "    integral=[]\n",
    "    suma=[]\n",
    "    for i in range(n):\n",
    "        u= np.random.random_sample()\n",
    "        y=funcion(u)\n",
    "        suma.append(y)\n",
    "        integral.append(np.mean(suma))\n",
    "        \n",
    "    print(\"El valor de la integral es:\", round(np.mean(suma),5))\n",
    "    print(\"El error estándar es:\", round(np.std(suma)/np.sqrt(n),5))\n",
    "    \n",
    "    return np.mean(suma), np.std(suma)/np.sqrt(n), integral"
   ]
  },
  {
   "cell_type": "code",
   "execution_count": null,
   "metadata": {},
   "outputs": [],
   "source": [
    "X1=mc_crudo1(funcion, n=1000)[2]\n",
    "X=mc_crudo(funcion, n=1000)[2]\n",
    "\n",
    "plt.plot(X, color='red', label='antiteticas')\n",
    "plt.plot(X1, color='green', label='u')\n",
    "plt.legend()"
   ]
  },
  {
   "cell_type": "markdown",
   "metadata": {},
   "source": [
    "Supongamos que $\\hat{\\theta_1}$ es un estimador insesgado del párametro $\\theta$ y que además $\\hat{\\theta_1}$ es una función de $m$ números aleatorios $R_1, ..., R_m$. Debido a que $1 - R_m$ sigue la misma distribución que $R_m$ (ambos $U(0,1)$), podemos construir otro estimador simplemente sustituyendo $R_m$ por $1-R_m$.  "
   ]
  },
  {
   "cell_type": "markdown",
   "metadata": {},
   "source": [
    "## <font color='blue'> Variables de control"
   ]
  },
  {
   "cell_type": "markdown",
   "metadata": {},
   "source": [
    "Aplicamos esta técnica cuando al estimar el parámetro $\\theta$ mediante la variable aleatoria $X$ también contamos con otra variable $Y$, con $E(Y) = \\mu_y$."
   ]
  },
  {
   "cell_type": "markdown",
   "metadata": {},
   "source": [
    "La variable:\n",
    "\n",
    "$$Z = X + c(Y-\\mu_y)$$"
   ]
  },
  {
   "cell_type": "markdown",
   "metadata": {},
   "source": [
    "tiene el mismo valor esperado que $X$ para todo $c$."
   ]
  },
  {
   "cell_type": "markdown",
   "metadata": {},
   "source": [
    "La idea de esta técnica consiste en encontrar el valor $c$ que haga la varianza lo más pequeña posible."
   ]
  },
  {
   "cell_type": "markdown",
   "metadata": {},
   "source": [
    "$$V(Z)=V(x)+2cCov(X,Y)+ c^2V(Y)$$"
   ]
  },
  {
   "cell_type": "markdown",
   "metadata": {},
   "source": [
    "Que tiene un mínimo para \n",
    "\n",
    "$$c= -\\frac{Cov(X,Y)}{V(Y)}$$"
   ]
  },
  {
   "cell_type": "markdown",
   "metadata": {},
   "source": [
    "Y ese mínimo tiene el valor:\n",
    "    \n",
    "$$V(Z)=V(X)-\\frac{Cov(X,Y)^2}{V(Y)}$$"
   ]
  },
  {
   "cell_type": "markdown",
   "metadata": {},
   "source": [
    "Y recordando que el coeficiente de correlación entre $X$ y $Y$ es:\n",
    "\n",
    "$$r_{XY}=\\frac{Cov(X,Y)}{\\sqrt{V(X)V(Y)}}$$"
   ]
  },
  {
   "cell_type": "markdown",
   "metadata": {},
   "source": [
    "Se tiene:\n",
    "\n",
    "$$V(Z)=V(X)(1-r_{XY})$$"
   ]
  },
  {
   "cell_type": "markdown",
   "metadata": {},
   "source": [
    "### Ejemplo\n",
    "\n",
    "Calcular $\\int_0^1 \\frac{1}{1+x^2}dx$"
   ]
  },
  {
   "cell_type": "markdown",
   "metadata": {},
   "source": [
    "Si usamos el método de Monte Carlo crudo (o de la media muestral) para estimar esta integral, nuestro estimador es:\n",
    "    \n",
    "$$X=\\frac{\\frac{1}{1 + U_1^2}+...+\\frac{1}{1 + U_n^2}}{n}$$"
   ]
  },
  {
   "cell_type": "markdown",
   "metadata": {},
   "source": [
    "La variable de control puede ser\n",
    "\n",
    "$$Y=\\frac{U_1+...+U_n}{n}$$"
   ]
  },
  {
   "cell_type": "markdown",
   "metadata": {},
   "source": [
    "### Ejercicio:\n",
    "\n",
    "Comprobar que $Cov(X,Y)=\\frac{\\frac{log(2)}{2}-\\frac{\\pi}{8}}{n}$\n",
    "\n",
    "y\n",
    "\n",
    "$c=-12 \\frac{log(2)}{2}-\\frac{\\pi}{8}=0.5535$"
   ]
  },
  {
   "cell_type": "code",
   "execution_count": null,
   "metadata": {},
   "outputs": [],
   "source": []
  },
  {
   "cell_type": "markdown",
   "metadata": {},
   "source": [
    "Aquí completamos el ejercicio."
   ]
  },
  {
   "cell_type": "code",
   "execution_count": null,
   "metadata": {},
   "outputs": [],
   "source": [
    "#Definimos la función de prueba.\n",
    "def funcion(x):\n",
    "    return 1.0/(1+x**2) "
   ]
  },
  {
   "cell_type": "code",
   "execution_count": null,
   "metadata": {},
   "outputs": [],
   "source": [
    "def integ(func=funcion, n=10000):\n",
    "    muestreo=[]\n",
    "    suma=[]\n",
    "    for i in range(n):\n",
    "        u= np.random.random_sample()\n",
    "        muestreo.append(u)\n",
    "        y=funcion(u)\n",
    "        suma.append(y)\n",
    "\n",
    "    return np.mean(suma), np.std(suma)/np.sqrt(n)\n",
    "\n",
    "print(\"El valor de la integral es:\", round(integ()[0],5))\n",
    "print(\"El error estándar es:\", round(integ()[1],5))"
   ]
  },
  {
   "cell_type": "code",
   "execution_count": null,
   "metadata": {},
   "outputs": [],
   "source": [
    "def integ_control(func=funcion, n=10000):\n",
    "    muestreo=[]\n",
    "    suma=[]\n",
    "    for i in range(n):\n",
    "        u= np.random.random_sample()\n",
    "        muestreo.append(u)\n",
    "        y=funcion(u) + 0.5535*(u - 0.5)\n",
    "        suma.append(y)\n",
    "\n",
    "    return np.mean(suma), np.std(suma)/np.sqrt(n)\n",
    "\n",
    "print(\"El valor de la integral es:\", round(integ_control()[0],5))\n",
    "print(\"El error estándar es:\", round(integ_control()[1],5))"
   ]
  },
  {
   "cell_type": "markdown",
   "metadata": {},
   "source": [
    "La reducción es de un 90% aprox."
   ]
  },
  {
   "cell_type": "code",
   "execution_count": null,
   "metadata": {},
   "outputs": [],
   "source": []
  },
  {
   "cell_type": "code",
   "execution_count": null,
   "metadata": {},
   "outputs": [],
   "source": []
  },
  {
   "cell_type": "code",
   "execution_count": null,
   "metadata": {},
   "outputs": [],
   "source": []
  },
  {
   "cell_type": "code",
   "execution_count": null,
   "metadata": {},
   "outputs": [],
   "source": []
  },
  {
   "cell_type": "code",
   "execution_count": null,
   "metadata": {},
   "outputs": [],
   "source": []
  },
  {
   "cell_type": "markdown",
   "metadata": {},
   "source": [
    "## <font color='blue'> Jakknife"
   ]
  },
  {
   "cell_type": "code",
   "execution_count": null,
   "metadata": {},
   "outputs": [],
   "source": [
    "import random\n",
    "import statistics \n",
    "import matplotlib.pyplot as plt"
   ]
  },
  {
   "cell_type": "code",
   "execution_count": null,
   "metadata": {},
   "outputs": [],
   "source": [
    "PopData = list()\n",
    "\n",
    "random.seed(5)\n",
    "\n",
    "for i in range(100):\n",
    "    DataElem = 10 * random.random()\n",
    "    PopData.append(DataElem)"
   ]
  },
  {
   "cell_type": "code",
   "execution_count": null,
   "metadata": {},
   "outputs": [],
   "source": [
    "PopData"
   ]
  },
  {
   "cell_type": "code",
   "execution_count": null,
   "metadata": {},
   "outputs": [],
   "source": [
    "def CVCalc(Dat):\n",
    "    CVCalc = statistics.stdev(Dat)/statistics.mean(Dat) \n",
    "    return CVCalc"
   ]
  },
  {
   "cell_type": "code",
   "execution_count": null,
   "metadata": {},
   "outputs": [],
   "source": [
    "CVPopData = CVCalc(PopData)\n",
    "print(CVPopData)"
   ]
  },
  {
   "cell_type": "code",
   "execution_count": null,
   "metadata": {},
   "outputs": [],
   "source": [
    "N = len(PopData)\n",
    "JackVal = list()\n",
    "PseudoVal = list()\n",
    "for i in range(N-1):\n",
    "    JackVal.append(0)\n",
    "for i in range(N):\n",
    "    PseudoVal.append(0)\n",
    "\n",
    "for i in range(N):\n",
    "    for j in range(N):\n",
    "        if(j < i): \n",
    "            JackVal[j] = PopData[j]\n",
    "        else:\n",
    "            if(j > i):\n",
    "                JackVal[j-1]= PopData[j]\n",
    "    PseudoVal[i] = N*CVCalc(PopData)-(N-1)*CVCalc(JackVal)"
   ]
  },
  {
   "cell_type": "code",
   "execution_count": null,
   "metadata": {},
   "outputs": [],
   "source": [
    "plt.hist(PseudoVal)\n",
    "plt.show()"
   ]
  },
  {
   "cell_type": "code",
   "execution_count": null,
   "metadata": {},
   "outputs": [],
   "source": [
    "MeanPseudoVal=statistics.mean(PseudoVal)\n",
    "print(MeanPseudoVal)"
   ]
  },
  {
   "cell_type": "code",
   "execution_count": null,
   "metadata": {},
   "outputs": [],
   "source": [
    "VariancePseudoVal=statistics.variance(PseudoVal)\n",
    "print(VariancePseudoVal)"
   ]
  },
  {
   "cell_type": "code",
   "execution_count": null,
   "metadata": {},
   "outputs": [],
   "source": [
    "MeanPseudoVal=statistics.mean(PseudoVal)\n",
    "print(MeanPseudoVal)"
   ]
  },
  {
   "cell_type": "code",
   "execution_count": null,
   "metadata": {},
   "outputs": [],
   "source": []
  },
  {
   "cell_type": "code",
   "execution_count": null,
   "metadata": {},
   "outputs": [],
   "source": []
  },
  {
   "cell_type": "markdown",
   "metadata": {},
   "source": [
    "## <font color='blue'> Bootstrap"
   ]
  },
  {
   "cell_type": "code",
   "execution_count": null,
   "metadata": {},
   "outputs": [],
   "source": [
    "import random\n",
    "import numpy as np \n",
    "import matplotlib.pyplot as plt"
   ]
  },
  {
   "cell_type": "code",
   "execution_count": null,
   "metadata": {},
   "outputs": [],
   "source": [
    "PopData = list()\n",
    "\n",
    "random.seed(7)\n",
    "\n",
    "for i in range(1000):\n",
    "    DataElem = 50 * random.random()\n",
    "    PopData.append(DataElem)"
   ]
  },
  {
   "cell_type": "code",
   "execution_count": null,
   "metadata": {},
   "outputs": [],
   "source": [
    "PopData"
   ]
  },
  {
   "cell_type": "code",
   "execution_count": null,
   "metadata": {},
   "outputs": [],
   "source": [
    "PopSample = random.choices(PopData, k=100)"
   ]
  },
  {
   "cell_type": "code",
   "execution_count": null,
   "metadata": {},
   "outputs": [],
   "source": [
    "PopSampleMean = list()\n",
    "for i in range(10000):  \n",
    "    SampleI = random.choices(PopData, k=100)\n",
    "    PopSampleMean.append(np.mean(SampleI))\n",
    "\n",
    "plt.hist(PopSampleMean)\n",
    "plt.show()"
   ]
  },
  {
   "cell_type": "code",
   "execution_count": null,
   "metadata": {},
   "outputs": [],
   "source": [
    "MeanPopSampleMean = np.mean(PopSampleMean)\n",
    "print(\"The mean of the Bootstrap estimator is \",MeanPopSampleMean)"
   ]
  },
  {
   "cell_type": "code",
   "execution_count": null,
   "metadata": {},
   "outputs": [],
   "source": [
    "MeanPopData = np.mean(PopData)\n",
    "print(\"The mean of the population is \",MeanPopData)"
   ]
  },
  {
   "cell_type": "code",
   "execution_count": null,
   "metadata": {},
   "outputs": [],
   "source": [
    "MeanPopSample = np.mean(PopSample)\n",
    "print(\"The mean of the simple random sample is \",MeanPopSample)"
   ]
  }
 ],
 "metadata": {
  "kernelspec": {
   "display_name": "Python 3",
   "language": "python",
   "name": "python3"
  },
  "language_info": {
   "codemirror_mode": {
    "name": "ipython",
    "version": 3
   },
   "file_extension": ".py",
   "mimetype": "text/x-python",
   "name": "python",
   "nbconvert_exporter": "python",
   "pygments_lexer": "ipython3",
   "version": "3.7.3"
  }
 },
 "nbformat": 4,
 "nbformat_minor": 2
}

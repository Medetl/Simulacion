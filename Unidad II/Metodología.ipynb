{
 "cells": [
  {
   "cell_type": "markdown",
   "id": "a5cc0a87",
   "metadata": {},
   "source": [
    "# Metodología de la Simulación"
   ]
  },
  {
   "cell_type": "markdown",
   "id": "0e218d98",
   "metadata": {},
   "source": [
    "### 1. Identifique las variables \n",
    "\n",
    "Aquellas cuyo comportamiento define el comportamiento o la evoución global del sistema real."
   ]
  },
  {
   "cell_type": "markdown",
   "id": "3ebcd0f2",
   "metadata": {},
   "source": [
    "### 2. Determine la distribución de probabilidad\n",
    "\n",
    "Elija el tipo de distribución de probabilidad que mejor defina el comportamiento aleatorio de cada una de las variables del sistema identificadas en el paso anterior."
   ]
  },
  {
   "cell_type": "markdown",
   "id": "803801d5",
   "metadata": {},
   "source": [
    "### 3. Modele las variables aleatorias \n",
    "\n",
    "Cosntruya un modelo fiel de la aleatoriedad de las variables del sistema. Simular el comportamiento del sistema implica generar muestras aleatorias de cada variable que sigan fielmente la distribución de probabilidad correspondiente."
   ]
  },
  {
   "cell_type": "markdown",
   "id": "33709223",
   "metadata": {},
   "source": [
    "### 4. Defina el modelo del sistema y los objetivos de la simulación \n",
    "\n",
    "Fije los objetivos y diseñe un modelo del sistema real que abstraiga sus propiedades más relevantes. Todo error en el modelo (o su implementación computacional) puede dar lugar a conclusiones equivocadas. \n",
    "\n",
    "Antes de experimentar con el modelo, asegurarse de que refleja fielmente el sistema real **validando** el mismo a partir de datos reales, para ello compare los resultados obtenidos de la simulación con los producidos por el sistema."
   ]
  },
  {
   "cell_type": "markdown",
   "id": "7f853065",
   "metadata": {},
   "source": [
    "### 5. Diseñe el experimento\n",
    "\n",
    "Diseñe un experimento así como las ejecuciones concretas del mismo, los escenarios que desea estudiar para alcanzar los objetivos fijados. El experimento consiste en generar valores de las variables cuyo comportamiento define el comportamiento del sistema y analizar este ante dichos valores."
   ]
  },
  {
   "cell_type": "markdown",
   "id": "15ae61c8",
   "metadata": {},
   "source": [
    "### 6. Repita el experimento $n$ veces \n",
    "\n",
    "Así dispondrá de $n$ observaciones sobre el comportamiento del sistema, lo que permitirá entender su funcionamiento así como evaluar el desempeño del mismo frente a los diversos escenarios establecidos.\n",
    "\n",
    "El **método Monte Carlo** se basa en la **Ley Fuerte de los Grandes Números** y el **Teorema del Límite Central**."
   ]
  },
  {
   "cell_type": "markdown",
   "id": "51ce3fa1",
   "metadata": {},
   "source": [
    "## Ejemplo\n",
    "\n",
    "Calcule la probabilidad de que aparezcan dos caras lanzando tres veces una moneda al aire.\n",
    "\n",
    "1. Analíticamente.\n",
    "2. Mediante simulación."
   ]
  },
  {
   "cell_type": "markdown",
   "id": "6f1b4105",
   "metadata": {},
   "source": [
    "Analiticamente:"
   ]
  },
  {
   "cell_type": "code",
   "execution_count": null,
   "id": "bb5e678d",
   "metadata": {},
   "outputs": [],
   "source": []
  },
  {
   "cell_type": "markdown",
   "id": "564ca694",
   "metadata": {},
   "source": [
    "Por simulación: Construimos el modelo en varios pasos."
   ]
  },
  {
   "cell_type": "markdown",
   "id": "fbbc8571",
   "metadata": {},
   "source": [
    "**PASO 1**. Defina las variables que intervienen en el modelo."
   ]
  },
  {
   "cell_type": "code",
   "execution_count": null,
   "id": "37c5f31c",
   "metadata": {},
   "outputs": [],
   "source": []
  },
  {
   "cell_type": "markdown",
   "id": "4d3899f3",
   "metadata": {},
   "source": [
    "**PASO 2**. Formule la distribución de probabilidad de cada variable."
   ]
  },
  {
   "cell_type": "markdown",
   "id": "fefa1334",
   "metadata": {},
   "source": [
    "\n",
    "|      |**Sol**|**Aguila**|\n",
    "|------|-------|----------|\n",
    "|f(x)|         |          |"
   ]
  },
  {
   "cell_type": "markdown",
   "id": "fd02116a",
   "metadata": {},
   "source": [
    "**PASO 3**. Enumere la distribución acumulada de probabilidad de cada variable."
   ]
  },
  {
   "cell_type": "markdown",
   "id": "59e252c6",
   "metadata": {},
   "source": [
    "|      |**Sol**|**Aguila**|\n",
    "|------|-------|----------|\n",
    "|f(x)  |       |          |\n",
    "|F(x)  |       |          |"
   ]
  },
  {
   "cell_type": "markdown",
   "id": "4852dcac",
   "metadata": {},
   "source": [
    "**PASO 4**. Establezca el intervalo de números aleatorios correspondiente a cada valor de cada una de las variables."
   ]
  },
  {
   "cell_type": "markdown",
   "id": "905db069",
   "metadata": {},
   "source": [
    "|           |**Sol**|**Aguila**|\n",
    "|-----------|-------|----------|\n",
    "|f(x)       |       |          |\n",
    "|F(x)       |       |          |\n",
    "|Intervalos |       |          |"
   ]
  },
  {
   "cell_type": "markdown",
   "id": "edb6b074",
   "metadata": {},
   "source": [
    "**PASO 5**. Genere números aleatorios."
   ]
  },
  {
   "cell_type": "markdown",
   "id": "15006d48",
   "metadata": {},
   "source": []
  },
  {
   "cell_type": "markdown",
   "id": "f38f3396",
   "metadata": {},
   "source": [
    "**PASO 6**. Simule un lanzamiento."
   ]
  },
  {
   "cell_type": "markdown",
   "id": "a68ba17e",
   "metadata": {},
   "source": [
    "Si Número de caras = 2       \n",
    "\n",
    "¿Aparecen dos caras? = **1**\n",
    "\n",
    "Si Número de caras ≠ 2       \n",
    "\n",
    "¿Aparecen dos caras? = **0**"
   ]
  },
  {
   "cell_type": "markdown",
   "id": "d270399e",
   "metadata": {},
   "source": [
    "**PASO 7**. Obtenga la gráfica de estabilización que indica que el tamaño de muestra utilizado es suficiente para \n",
    "garantizar la convergencia del resultado."
   ]
  },
  {
   "cell_type": "code",
   "execution_count": null,
   "id": "de554553",
   "metadata": {},
   "outputs": [],
   "source": []
  },
  {
   "cell_type": "markdown",
   "id": "4b616586",
   "metadata": {},
   "source": [
    "**PASO 8**. Replique el modelo."
   ]
  },
  {
   "cell_type": "code",
   "execution_count": null,
   "id": "b3beace6",
   "metadata": {},
   "outputs": [],
   "source": []
  },
  {
   "cell_type": "markdown",
   "id": "ed50eae0",
   "metadata": {},
   "source": [
    "**PASO 9**. Calcule la probabilidad de que aparezcan dos caras lanzando tres veces una moneda al aire y su desviación \n",
    "estándar."
   ]
  },
  {
   "cell_type": "code",
   "execution_count": null,
   "id": "d3ddd8fd",
   "metadata": {},
   "outputs": [],
   "source": []
  },
  {
   "cell_type": "markdown",
   "id": "e5b90e8e",
   "metadata": {},
   "source": [
    "**PASO 10**. Halle el intervalo de confianza de la probabilidad de queaparezcan dos caras lanzando tres veces una moneda \n",
    "al aire con un nivel de confianza del $95 \\%$."
   ]
  },
  {
   "cell_type": "code",
   "execution_count": null,
   "id": "2fd22e33",
   "metadata": {},
   "outputs": [],
   "source": []
  }
 ],
 "metadata": {
  "kernelspec": {
   "display_name": "Python 3 (ipykernel)",
   "language": "python",
   "name": "python3"
  },
  "language_info": {
   "codemirror_mode": {
    "name": "ipython",
    "version": 3
   },
   "file_extension": ".py",
   "mimetype": "text/x-python",
   "name": "python",
   "nbconvert_exporter": "python",
   "pygments_lexer": "ipython3",
   "version": "3.7.3"
  }
 },
 "nbformat": 4,
 "nbformat_minor": 5
}

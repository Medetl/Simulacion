{
 "cells": [
  {
   "cell_type": "markdown",
   "metadata": {},
   "source": [
    "# Líneas de espera"
   ]
  },
  {
   "cell_type": "code",
   "execution_count": null,
   "metadata": {},
   "outputs": [],
   "source": [
    "import random\n",
    "from matplotlib.pyplot import *\n",
    "from statistics import mean, median, stdev, variance\n",
    "import matplotlib.pyplot as plt"
   ]
  },
  {
   "cell_type": "markdown",
   "metadata": {},
   "source": [
    "### La distribución exponencial\n",
    "\n",
    "Función de densidad:\n",
    "    \n",
    "$f_X (x) = \\lambda e^{-\\lambda x}$  para $x \\geq 0$\n",
    "\n",
    "y función de distribución:\n",
    "\n",
    "$F_X (x) = 1 - e^{-\\lambda x}$  para $x \\geq 0$"
   ]
  },
  {
   "cell_type": "markdown",
   "metadata": {},
   "source": [
    "Puede ser simulada por el método de inversión mediante el siguiente algoritmo:\n",
    "\n",
    "0. Hacer $L = -\\frac{1}{\\lambda}$\n",
    "1. Generar $U \\sim U(0, 1)$\n",
    "2. Devolver $X = L \\cdot Ln(U)$"
   ]
  },
  {
   "cell_type": "code",
   "execution_count": null,
   "metadata": {},
   "outputs": [],
   "source": [
    "#Generamos una lista de números aleatorios que siguen la distribución exponencial.\n",
    "\n",
    "nums = []\n",
    "lamb = 0.01                                     # Párametro de la función exponencial\n",
    "L = -1.0/lamb #inversa de lambda\n",
    "\n",
    "for i in range(100):\n",
    "    temp = L*np.log(random.random())            # Pasos 1 y 2\n",
    "    nums.append(temp)\n",
    "\n",
    "plt.plot(nums)\n",
    "plt.show()"
   ]
  },
  {
   "cell_type": "code",
   "execution_count": null,
   "metadata": {},
   "outputs": [],
   "source": [
    "sample = []\n",
    "lamb = 0.01                                     # Párametro de la función exponencial\n",
    "L = -1.0/lamb #inversa de lambda\n",
    "\n",
    "for i in range(1000):\n",
    "    temp = L*np.log(random.random())\n",
    "    sample.append(temp)\n",
    "\n",
    "plt.hist(sample, bins = 100)\n",
    "plt.show()\n",
    "\n",
    "\n",
    "print(f'Media: {mean(sample):.5f}.  Mediana: {median(sample):.5f}.')\n",
    "print(f'Varianza: {variance(sample):.5f}.  Desviación estándar: {stdev(sample):.5f}.')"
   ]
  },
  {
   "cell_type": "markdown",
   "metadata": {},
   "source": [
    "La función exponencial tiene una propiedad muy importante.\n",
    "Amnesia o falta de memoria:\n",
    "\n",
    "$P(t>T+S| t>S) = P(t>T)$"
   ]
  },
  {
   "cell_type": "markdown",
   "metadata": {},
   "source": [
    "## Ejercicio:\n",
    "\n",
    "1. Demostrar la propiedad anterior."
   ]
  },
  {
   "cell_type": "markdown",
   "metadata": {},
   "source": [
    "Una simulación de eventos discretos permite modelar una línea de espera."
   ]
  },
  {
   "cell_type": "code",
   "execution_count": null,
   "metadata": {},
   "outputs": [],
   "source": [
    "Avg_IAT = 2.0 # Promedio de Tiempo Inter-Arrivo\n",
    "Sim_Time = 100 # Tiempo total de simulacion\n",
    "\n",
    "N = 0 # Numero de arrivos\n",
    "\n",
    "clock = 0 # Tiempo de simulación\n",
    "\n",
    "while clock <= Sim_Time:\n",
    "    N = N + 1\n",
    "    # Avance del tiempo de simulacion\n",
    "    clock = clock + expovariate(1/Avg_IAT)\n",
    "\n",
    "print('Númeor Total de Arrivos = ', N)"
   ]
  },
  {
   "cell_type": "code",
   "execution_count": null,
   "metadata": {},
   "outputs": [],
   "source": [
    "\n",
    "Avg_IAT = 2.0\n",
    "\n",
    "Avg_ST = 1.0 # Tiempo de servicio promedio\n",
    "Sim_Time = 100 # Tiempo Total de Simulacion\n",
    "\n",
    "N = 0\n",
    "clock = 0 # Tiempo de simulacion\n",
    "X = [] # Tiempo de eventos\n",
    "Y = [] # Valores de N\n",
    "\n",
    "while clock <= Sim_Time:\n",
    "    IAT = expovariate(1 / Avg_IAT)\n",
    "    ST = expovariate(1 / Avg_ST)\n",
    "    if IAT <= ST:\n",
    "        N += 1\n",
    "        clock = clock + IAT\n",
    "        X.append(clock)\n",
    "        Y.append(N)\n",
    "    else:\n",
    "        if N > 0:\n",
    "            N -= 1\n",
    "            clock = clock + ST\n",
    "            X.append(clock)\n",
    "            Y.append(N)\n",
    "\n",
    "fig = figure(1, figsize=(16, 8))\n",
    "step(X, Y, Linewidth=1.2, color='black')\n",
    "xlabel('Time', size=16)\n",
    "ylabel('N', size=16)\n",
    "xlim(0, 101)\n",
    "show()"
   ]
  },
  {
   "cell_type": "code",
   "execution_count": null,
   "metadata": {},
   "outputs": [],
   "source": []
  },
  {
   "cell_type": "code",
   "execution_count": null,
   "metadata": {},
   "outputs": [],
   "source": []
  }
 ],
 "metadata": {
  "kernelspec": {
   "display_name": "Python 3",
   "language": "python",
   "name": "python3"
  },
  "language_info": {
   "codemirror_mode": {
    "name": "ipython",
    "version": 3
   },
   "file_extension": ".py",
   "mimetype": "text/x-python",
   "name": "python",
   "nbconvert_exporter": "python",
   "pygments_lexer": "ipython3",
   "version": "3.7.3"
  }
 },
 "nbformat": 4,
 "nbformat_minor": 2
}

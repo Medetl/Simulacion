{
 "cells": [
  {
   "cell_type": "markdown",
   "metadata": {},
   "source": [
    "# Uso de los números aleatorios"
   ]
  },
  {
   "cell_type": "markdown",
   "metadata": {},
   "source": [
    "## 1. Introducción al Módulo random"
   ]
  },
  {
   "cell_type": "markdown",
   "metadata": {},
   "source": [
    "El módulo random de la librería estándar de Python incluye un conjunto de funciones que permiten obtener de distintos modos \n",
    "números pseudoaleatorios a través del algoritmo [Mersenne Twister](https://es.wikipedia.org/wiki/Mersenne_twister)."
   ]
  },
  {
   "cell_type": "code",
   "execution_count": null,
   "metadata": {},
   "outputs": [],
   "source": [
    "#importamos el módulo que vamos a usar \n",
    "\n",
    "import random   "
   ]
  },
  {
   "cell_type": "markdown",
   "metadata": {},
   "source": [
    "Las funciones de los módulos se invocan con el formato: módulo.función().\n",
    "\n",
    "En el módulo random existe la función random, que devuelve un número aleatorio que sigue una distribución uniforme. \n",
    "\n",
    "Así, para obtener $x \\sim U(0,1)$:"
   ]
  },
  {
   "cell_type": "code",
   "execution_count": null,
   "metadata": {},
   "outputs": [],
   "source": [
    "x = random.random()  #Cada ejecución dará un número distinto.\n",
    "print(x)"
   ]
  },
  {
   "cell_type": "markdown",
   "metadata": {},
   "source": [
    "Se puede usar algún bucle si se desea generar una secuencia $x_i \\sim U(0,1)$ con $i = 1, 2, 3,..., N$:"
   ]
  },
  {
   "cell_type": "code",
   "execution_count": null,
   "metadata": {},
   "outputs": [],
   "source": [
    "for i in range(10):\n",
    "    print('%05.4f' % random.random(), end=' ')  #El código en rojo indica la cantidad de dígitos y de decimales a mostrar.\n",
    "print()"
   ]
  },
  {
   "cell_type": "code",
   "execution_count": null,
   "metadata": {},
   "outputs": [],
   "source": [
    "for i in range(10):\n",
    "    print('%05.4f' % random.random(), sep=\"\\t\")\n",
    "print()"
   ]
  },
  {
   "cell_type": "markdown",
   "metadata": {},
   "source": [
    "La función seed() fija el valor de la semilla en la generación de la secuencia de números aleatorios. \n",
    "Esto es útil cuando se quieren utilizar los mismos datos de entrada en una simulación."
   ]
  },
  {
   "cell_type": "code",
   "execution_count": null,
   "metadata": {},
   "outputs": [],
   "source": [
    "random.seed(1) #primero fijamos la semilla\n",
    "\n",
    "for i in range(20):\n",
    "    print('%05.4f' % random.random(), end=' ')\n",
    "print()"
   ]
  },
  {
   "cell_type": "markdown",
   "metadata": {},
   "source": [
    "## Ejercicio 1: \n",
    "    a)Usar la función random() para simular 1 volado.\n",
    "    b)Usar la función random() para simular 1000 volados.\n",
    "    c)Determinar de b) la probabilidad de que ocurra \"sol\" en un volado. "
   ]
  },
  {
   "cell_type": "markdown",
   "metadata": {},
   "source": [
    "La función uniform() devuelve un número float incluido entre los valores indicados."
   ]
  },
  {
   "cell_type": "code",
   "execution_count": null,
   "metadata": {},
   "outputs": [],
   "source": [
    "for i in range(10):\n",
    "    print('%5.4f' %random.uniform(1, 50), end=' ')\n",
    "print()"
   ]
  },
  {
   "cell_type": "markdown",
   "metadata": {},
   "source": [
    "La función randint() devuelve un número entero incluido entre los valores indicados. \n",
    "Los valores de los límites inferior y superior también pueden aparecer entre los valores devueltos."
   ]
  },
  {
   "cell_type": "code",
   "execution_count": null,
   "metadata": {},
   "outputs": [],
   "source": [
    "for i in range(20):\n",
    "    print(random.randint(-100, 100), end=' ')\n",
    "print()"
   ]
  },
  {
   "cell_type": "markdown",
   "metadata": {},
   "source": [
    "## Ejercicio 2:\n",
    "    a) Simular un sorteo de los colores blanco, negro, rojo, azul y verde.\n",
    "    b) Simular 5 sorteos con sustitución."
   ]
  },
  {
   "cell_type": "markdown",
   "metadata": {},
   "source": [
    "La función randrange() devuelve enteros que van desde un valor inicial a otro final \n",
    "separados entre sí un número de valores determinados."
   ]
  },
  {
   "cell_type": "code",
   "execution_count": null,
   "metadata": {},
   "outputs": [],
   "source": [
    "for i in range(20):\n",
    "    print(random.randrange(0, 20, 3), end=' ')\n",
    "print()"
   ]
  },
  {
   "cell_type": "markdown",
   "metadata": {},
   "source": [
    "# 2. Estimación del número $\\pi$"
   ]
  },
  {
   "cell_type": "code",
   "execution_count": null,
   "metadata": {},
   "outputs": [],
   "source": [
    "import matplotlib.pyplot as plt\n",
    "import numpy as np"
   ]
  },
  {
   "cell_type": "code",
   "execution_count": null,
   "metadata": {},
   "outputs": [],
   "source": [
    "x = np.linspace(0, 1, 100)\n",
    "y = np.sqrt(1 - x**2)               # Ecuación del círculo en el primer cuadrante \n",
    "\n",
    "\n",
    "x_1 = random.random()\n",
    "y_1 = random.random()\n",
    "\n",
    "fig = plt.figure(1, figsize=(8, 8))        # Aquí fijamos el formato de la gráfica para que sea cuadrada.\n",
    "plt.plot(x, y, color=\"red\", markersize=1) \n",
    "plt.scatter(x_1, y_1, s=20, c=\"blue\")\n",
    "plt.title(\"Estimación de $\\pi$\")\n",
    "plt.xlabel(\"X\")\n",
    "plt.ylabel(\"Y\")\n",
    "plt.grid()\n",
    "plt.show()"
   ]
  },
  {
   "cell_type": "markdown",
   "metadata": {},
   "source": [
    "# Tarea 1. \n",
    "    Estimar el valor de pi usando la función random"
   ]
  },
  {
   "cell_type": "code",
   "execution_count": null,
   "metadata": {},
   "outputs": [],
   "source": []
  },
  {
   "cell_type": "markdown",
   "metadata": {},
   "source": [
    "## La aproximación analítica"
   ]
  },
  {
   "cell_type": "markdown",
   "metadata": {},
   "source": [
    "Partamos de la ecuación:\n",
    "\n",
    "##     $\\pi = 4\\arctan 1$\n",
    "\n",
    "y usemos la aproximación de Taylor para expandir en una serie de potencias.\n",
    "\n",
    "Recordar:\n",
    "\n",
    "$f(x) = f(0) + f´(x)x + \\frac{1}{2}f´´(0)x^2 + ...$\n",
    "\n",
    "$Si f(x) = \\arctan x$ entonces:\n",
    "\n",
    "$f´(x) = \\frac{d \\arctan x}{dx} = \\frac{1}{1 + x^2} \\rightarrow f´(0) = 1$\n",
    "\n",
    "$f´´(x) = \\frac{d^2 \\arctan x}{d^2x} = - \\frac{2x}{(1 + x^2)^2} \\rightarrow f´´(0) = 0$\n",
    "\n",
    "...\n",
    "\n",
    "$f^{2i + 1}(x) = (-1)^{i} \\frac{(2i)!}{(1 + x^2)^{2i + 1}} \\rightarrow f^{2i + 1}(0) = (-1)(2i)!$\n",
    "\n",
    "$f^{2i}(x) = 0$\n",
    "\n",
    "Entonces:\n",
    "\n",
    "$\\arctan x = \\sum_{i = 0} (-1)^{i} \\frac{x^{2i + 1}}{2i + 1}$\n",
    "\n",
    "Por tanto:\n",
    "\n",
    "## $\\pi = \\sum_{i = 0} (-1)^{i} \\frac{4}{2i + 1}$"
   ]
  },
  {
   "cell_type": "code",
   "execution_count": null,
   "metadata": {},
   "outputs": [],
   "source": [
    "def pi_taylor(n):\n",
    "    pi = 0\n",
    "    for i in range(n):\n",
    "        pi = pi + 4.0/(2*i+1)*(-1)**i\n",
    "        print(i, pi)"
   ]
  },
  {
   "cell_type": "code",
   "execution_count": null,
   "metadata": {},
   "outputs": [],
   "source": [
    "pi_taylor(10)"
   ]
  },
  {
   "cell_type": "code",
   "execution_count": null,
   "metadata": {},
   "outputs": [],
   "source": [
    "def pi_Taylor(n):\n",
    "    pi = 0\n",
    "    L =[]\n",
    "    for i in range(n):\n",
    "        pi = pi + 4.0/(2*i+1)*(-1)**i\n",
    "        L.append(pi)\n",
    "    fig = plt.figure(1, figsize=(8, 8))        \n",
    "#    plt.plot(y=3, color=\"red\", markersize=1) \n",
    "    plt.plot(L, color=\"red\", markersize=1)\n",
    "    plt.xlabel(\"Iteraciones\")\n",
    "    plt.ylabel(\"Estimación\")\n",
    "    plt.grid()\n",
    "    plt.show()"
   ]
  },
  {
   "cell_type": "code",
   "execution_count": null,
   "metadata": {},
   "outputs": [],
   "source": [
    "pi_Taylor(200)"
   ]
  },
  {
   "cell_type": "markdown",
   "metadata": {},
   "source": [
    "## Ejercicio 3:\n",
    "\n",
    "Graficar las salidas obtenidas en la Tarea 1"
   ]
  },
  {
   "cell_type": "code",
   "execution_count": null,
   "metadata": {},
   "outputs": [],
   "source": []
  }
 ],
 "metadata": {
  "kernelspec": {
   "display_name": "Python 3",
   "language": "python",
   "name": "python3"
  },
  "language_info": {
   "codemirror_mode": {
    "name": "ipython",
    "version": 3
   },
   "file_extension": ".py",
   "mimetype": "text/x-python",
   "name": "python",
   "nbconvert_exporter": "python",
   "pygments_lexer": "ipython3",
   "version": "3.7.3"
  }
 },
 "nbformat": 4,
 "nbformat_minor": 2
}

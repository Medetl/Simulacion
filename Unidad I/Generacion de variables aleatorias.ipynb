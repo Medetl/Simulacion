{
 "cells": [
  {
   "cell_type": "markdown",
   "id": "15b71444",
   "metadata": {},
   "source": [
    "# **Generación de variable aleatorias**"
   ]
  },
  {
   "cell_type": "code",
   "execution_count": null,
   "id": "d0333f65",
   "metadata": {},
   "outputs": [],
   "source": [
    "import matplotlib.pyplot as plt\n",
    "import numpy as np\n",
    "import random"
   ]
  },
  {
   "cell_type": "markdown",
   "id": "45fe6983",
   "metadata": {},
   "source": [
    "Generamos una lista vacía para guardar la sucesión de números aleatorios a generar."
   ]
  },
  {
   "cell_type": "code",
   "execution_count": null,
   "id": "802546b0",
   "metadata": {},
   "outputs": [],
   "source": [
    "Lista=[]"
   ]
  },
  {
   "cell_type": "markdown",
   "id": "1c6da234",
   "metadata": {},
   "source": [
    "La función randint() devuelve valores enteros en un intervalo dado."
   ]
  },
  {
   "cell_type": "code",
   "execution_count": null,
   "id": "a13381d4",
   "metadata": {},
   "outputs": [],
   "source": [
    "for i in range(10):        \n",
    "    Lista.append(random.randint(0, 10)) "
   ]
  },
  {
   "cell_type": "markdown",
   "id": "13f98a10",
   "metadata": {},
   "source": [
    "Podemos construir el histograma y comparar con los valores esperados de la función de distribución de probabilidad, si sabemos que $x_i \\sim U(0,10)$ "
   ]
  },
  {
   "cell_type": "code",
   "execution_count": null,
   "id": "aacb6d44",
   "metadata": {},
   "outputs": [],
   "source": [
    "plt.hist(Lista, bins = 10, color = \"blue\", rwidth=0.9)\n",
    "plt.title(\"Ejemplo Histograma\")\n",
    "plt.xlabel(\"Números Aleatorios\")\n",
    "plt.ylabel(\"Frecuencia\")\n",
    "plt.show()"
   ]
  },
  {
   "cell_type": "markdown",
   "id": "5f23c61d",
   "metadata": {},
   "source": [
    "Y podemos calcular la media, la varianza y la desviación estándar para comprobar:"
   ]
  },
  {
   "cell_type": "code",
   "execution_count": null,
   "id": "ecefa912",
   "metadata": {},
   "outputs": [],
   "source": [
    "np.mean(Lista)"
   ]
  },
  {
   "cell_type": "code",
   "execution_count": null,
   "id": "464e1f53",
   "metadata": {},
   "outputs": [],
   "source": [
    "np.var(Lista)"
   ]
  },
  {
   "cell_type": "code",
   "execution_count": null,
   "id": "30ce2169",
   "metadata": {},
   "outputs": [],
   "source": [
    "np.std(Lista)"
   ]
  },
  {
   "cell_type": "code",
   "execution_count": null,
   "id": "ea088c1e",
   "metadata": {},
   "outputs": [],
   "source": []
  },
  {
   "cell_type": "markdown",
   "id": "4ba67944",
   "metadata": {},
   "source": [
    "## ¿Cómo podemos generar una lista de números aleatorios que sigan una distribución normal?"
   ]
  },
  {
   "cell_type": "markdown",
   "id": "855f2e6a",
   "metadata": {},
   "source": [
    "Podemos utilizar el Teorema Centra del Límite: Dadas las variables $T_1, T_2,..., T_n$ identicamente distribuidas e independientes, se tiene que:\n",
    "\n",
    "$$\\frac{\\bar{T}-\\mu_T}{\\frac{\\sigma_T}{\\sqrt{n}}}=\\frac{\\sqrt{n}(\\frac{1}{n}\\sum_{i=1}^n T_i - E(T_i)) }{\\sqrt{Var(T_i)}} \\sim N(0,1)$$\n",
    "\n",
    "para $n$ suficientemente grande."
   ]
  },
  {
   "cell_type": "markdown",
   "id": "b5f104e6",
   "metadata": {},
   "source": [
    "**Ejercicio:** Genere números aleatorios distribuidos uniformenete entre 0 y 1 y use la fórmula anterior para generar números distribuidos de manera normal en el mismo intervalo. Elabore el histograma correspondiente. "
   ]
  },
  {
   "cell_type": "code",
   "execution_count": null,
   "id": "ed81a320",
   "metadata": {},
   "outputs": [],
   "source": []
  }
 ],
 "metadata": {
  "kernelspec": {
   "display_name": "Python 3 (ipykernel)",
   "language": "python",
   "name": "python3"
  },
  "language_info": {
   "codemirror_mode": {
    "name": "ipython",
    "version": 3
   },
   "file_extension": ".py",
   "mimetype": "text/x-python",
   "name": "python",
   "nbconvert_exporter": "python",
   "pygments_lexer": "ipython3",
   "version": "3.7.3"
  }
 },
 "nbformat": 4,
 "nbformat_minor": 5
}

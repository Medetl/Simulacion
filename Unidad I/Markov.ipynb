{
 "cells": [
  {
   "cell_type": "code",
   "execution_count": null,
   "id": "72300dcb",
   "metadata": {},
   "outputs": [],
   "source": [
    "import numpy as np "
   ]
  },
  {
   "cell_type": "markdown",
   "id": "bb44d6de",
   "metadata": {},
   "source": [
    "Modelo 1\n",
    "Para definir la primera Cadena de Markov, se describe el siguiente escenario:\n",
    "Un robot de servicio se encuentra en un hotel como ayudante general, para lo cual se\n",
    "precisa conocer la ubicación de este cada minuto, lo cual está definido en este primer\n",
    "modelo únicamente con las siguientes localidades:\n",
    "a = Lobby\n",
    "b = Cocina"
   ]
  },
  {
   "cell_type": "code",
   "execution_count": null,
   "id": "37becaa6",
   "metadata": {},
   "outputs": [],
   "source": [
    "#Primer modelo\n",
    "#Se consideran únicamente las locaciones a y b\n",
    "\n",
    "#Definir la matriz de probabilidad para a y b (ejemplo de la forma matricial)\n",
    "M = np.matrix([[0.8,0.4],[0.2,0.6]])\n",
    "print(M)"
   ]
  },
  {
   "cell_type": "code",
   "execution_count": null,
   "id": "9ffc08d6",
   "metadata": {},
   "outputs": [],
   "source": [
    "#conocer la probabilidad de que se encuentre en otra ubicación en el futuro, \n",
    "#durante los siguientes n ensayos, al saber con certidumbre que el agente se\n",
    "#encuentra en la ubicación b\n",
    "\n",
    "#se define estado inicial b\n",
    "\n",
    "P = np.matrix([[0], [1]])"
   ]
  },
  {
   "cell_type": "code",
   "execution_count": null,
   "id": "4b5c558e",
   "metadata": {},
   "outputs": [],
   "source": [
    "P"
   ]
  },
  {
   "cell_type": "code",
   "execution_count": null,
   "id": "ecdf88e0",
   "metadata": {},
   "outputs": [],
   "source": [
    "#definición de la distribución de probabilidad\n",
    "\n",
    "def dist_prob(T,x_0,n):\n",
    "    x_n = np.matmul(np.linalg.matrix_power(M,n),x_0)\n",
    "    print('P(t+'+str(n)+')=\\n'+str(x_n))"
   ]
  },
  {
   "cell_type": "code",
   "execution_count": null,
   "id": "e8ed7068",
   "metadata": {},
   "outputs": [],
   "source": [
    "P_7 = dist_prob(M,P,6) #llamar a los ensayos que se requieran, en este caso hasta 6"
   ]
  },
  {
   "cell_type": "code",
   "execution_count": null,
   "id": "10795f57",
   "metadata": {},
   "outputs": [],
   "source": [
    "#en P_7 conocemos únicamente este valor, pero si se desan conocer los valores de \n",
    "#P_1 a P_7, realizar el siguiente ciclo for \n",
    "\n",
    "for i in range(7):\n",
    "    dist_prob(M,P,i)\n",
    "    \n",
    "#en el ensayo anterior en 6, es posible reconocer que se llega a una convergencia, pero \n",
    "#cómo saber cuándo llegar a esta convergencia, sin la necesidad de calcular lo anterior"
   ]
  },
  {
   "cell_type": "code",
   "execution_count": null,
   "id": "f93c6a87",
   "metadata": {},
   "outputs": [],
   "source": [
    "#se calculan eigenvectores\n",
    "\n",
    "e,s = np.linalg.eig(M)\n",
    "print(e)\n",
    "print(s)"
   ]
  },
  {
   "cell_type": "code",
   "execution_count": null,
   "id": "c88dd635",
   "metadata": {},
   "outputs": [],
   "source": [
    "#Identificar la columna correspondiente al eigenvalor 1\n",
    "#normalizarlo\n",
    "\n",
    "e_v = s[:,0] / sum(s[:,0])\n",
    "print(e_v)\n",
    "\n",
    "#notar que el resultado es el mismo que en P(t+6), es decir, conocemos la convergencia\n",
    "#sin necesidad de caluclar todos los valores anteriores"
   ]
  },
  {
   "cell_type": "markdown",
   "id": "b77a9b28",
   "metadata": {},
   "source": [
    "Modelo 2\n",
    "Ahora el robot de servicio se encuentra en este modelo dada por las siguientes\n",
    "localidades:\n",
    "a = Lobby\n",
    "b = Cocina\n",
    "c = Estacionamiento"
   ]
  },
  {
   "cell_type": "code",
   "execution_count": null,
   "id": "a45c1b1b",
   "metadata": {},
   "outputs": [],
   "source": [
    "#Segundo modelo\n",
    "#Se consideran  las locaciones a, b y c\n",
    "\n",
    "#Definir la matriz de probabilidad para a y b (ejemplo de la forma matricial)\n",
    "\n",
    "M = np.matrix([[0.6,0.1,0.2], [0.3,0.7,0.3], [0.1,0.2,0.5]])\n",
    "print(M)"
   ]
  },
  {
   "cell_type": "code",
   "execution_count": null,
   "id": "a8420b36",
   "metadata": {},
   "outputs": [],
   "source": [
    "#conocer la probabilidad de que se encuentre en otra ubicación en el futuro, \n",
    "#durante los siguientes n ensayos, al saber con certidumbre que el agente se\n",
    "#encuentra en la ubicación a\n",
    "\n",
    "#se define estado inicial a\n",
    "\n",
    "P = np.matrix([[1], [0], [0]])\n"
   ]
  },
  {
   "cell_type": "code",
   "execution_count": null,
   "id": "6d8f19d6",
   "metadata": {},
   "outputs": [],
   "source": [
    "P"
   ]
  },
  {
   "cell_type": "code",
   "execution_count": null,
   "id": "7096a849",
   "metadata": {},
   "outputs": [],
   "source": [
    "#definición de la distribución de probabilidad\n",
    "\n",
    "def dist_prob(T,x_0,n):\n",
    "    x_n = np.matmul(np.linalg.matrix_power(M,n),x_0)\n",
    "    print('P(t+'+str(n)+')=\\n'+str(x_n))\n",
    "    \n",
    "P_7 = dist_prob(M,P,6) #llamar a los ensayos que se requieran, en este caso hasta 6\n"
   ]
  },
  {
   "cell_type": "code",
   "execution_count": null,
   "id": "f2b82286",
   "metadata": {},
   "outputs": [],
   "source": [
    "#en P_7 conocemos únicamente este valor, pero si se desan conocer los valores de \n",
    "#P_1 a P_7, realizar el siguiente ciclo for \n",
    "\n",
    "for i in range(6):\n",
    "    dist_prob(M,P,i)"
   ]
  },
  {
   "cell_type": "code",
   "execution_count": null,
   "id": "e9331f1a",
   "metadata": {},
   "outputs": [],
   "source": [
    "#en el ensayo anterior en 6, es posible reconocer que se llega a una convergencia, pero \n",
    "#cómo saber cuándo llegar a esta convergencia, sin la necesidad de calcular lo anterior\n",
    "    \n",
    "#se calculan eigenvectores\n",
    "\n",
    "e,s = np.linalg.eig(M)\n",
    "print(e)\n",
    "print(s)"
   ]
  },
  {
   "cell_type": "code",
   "execution_count": null,
   "id": "94131040",
   "metadata": {},
   "outputs": [],
   "source": [
    "#Identificar la columna correspondiente al eigenvalor 1\n",
    "\n",
    "e_v = s[:,0] / sum(s[:,0])\n",
    "print(e_v)\n"
   ]
  },
  {
   "cell_type": "markdown",
   "id": "9cf2a8d1",
   "metadata": {},
   "source": [
    "Modelo 3\n",
    "En el tercer modelo, se precisa conocer la ubicación del robot de servicio, dadas las\n",
    "siguientes localidades:\n",
    "a = Lobby\n",
    "b = Cocina\n",
    "c = Estacionamiento\n",
    "d = Restaurante"
   ]
  },
  {
   "cell_type": "code",
   "execution_count": null,
   "id": "791944fa",
   "metadata": {},
   "outputs": [],
   "source": [
    "#Tercer modelo\n",
    "#Se consideran  las locaciones a, b, c y d\n",
    "\n",
    "#primero se define la matriz de probabilidad\n",
    "\n",
    "#Definir la matriz de probabilidad para a y b (ejemplo de la forma matricial)\n",
    "\n",
    "M = np.matrix([[0.4,0.2,0.1,0.3], [0.3,0.5,0.3,0.1], [0.2,0.2,0.4,0.2], [0.1,0.1,0.2,0.4]])\n",
    "print(M)"
   ]
  },
  {
   "cell_type": "code",
   "execution_count": null,
   "id": "16dda780",
   "metadata": {},
   "outputs": [],
   "source": [
    "#definir el estado inicial\n",
    "#agente se encuentra en el estado d\n",
    "\n",
    "P = np.matrix([[0], [0], [0], [1]])"
   ]
  },
  {
   "cell_type": "code",
   "execution_count": null,
   "id": "9c5fd85b",
   "metadata": {},
   "outputs": [],
   "source": [
    "P"
   ]
  },
  {
   "cell_type": "code",
   "execution_count": null,
   "id": "fe38cf3a",
   "metadata": {},
   "outputs": [],
   "source": [
    "#definición de la distribución de probabilidad\n",
    "\n",
    "def dist_prob(T,x_0,n):\n",
    "    x_n = np.matmul(np.linalg.matrix_power(M,n),x_0)\n",
    "    print('P(t+'+str(n)+')=\\n'+str(x_n))"
   ]
  },
  {
   "cell_type": "code",
   "execution_count": null,
   "id": "058201ec",
   "metadata": {},
   "outputs": [],
   "source": [
    "P_7 = dist_prob(M,P,6) #llamar a los ensayos que se requieran, en este caso hasta 6"
   ]
  },
  {
   "cell_type": "code",
   "execution_count": null,
   "id": "f6e6d7ca",
   "metadata": {},
   "outputs": [],
   "source": [
    "#en P_7 conocemos únicamente este valor, pero si se desan conocer los valores de \n",
    "#P_1 a P_7, realizar el siguiente ciclo for \n",
    "\n",
    "for i in range(6):\n",
    "    dist_prob(M,P,i)\n",
    "    "
   ]
  },
  {
   "cell_type": "code",
   "execution_count": null,
   "id": "5274b578",
   "metadata": {},
   "outputs": [],
   "source": [
    "#en el ensayo anterior en 6, es posible reconocer que se llega a una convergencia, pero \n",
    "#cómo saber cuándo llegar a esta convergencia, sin la necesidad de calcular lo anterior\n",
    "    \n",
    "#se calculan eigenvectores\n",
    "e,s = np.linalg.eig(M)\n",
    "print(e)\n",
    "print(s)"
   ]
  },
  {
   "cell_type": "code",
   "execution_count": null,
   "id": "f5518619",
   "metadata": {},
   "outputs": [],
   "source": [
    "#Identificar la columna correspondiente al eigenvalor 1\n",
    "\n",
    "e_v = s[:,0] / sum(s[:,0])\n",
    "print(e_v)"
   ]
  },
  {
   "cell_type": "code",
   "execution_count": null,
   "id": "3785f04b",
   "metadata": {},
   "outputs": [],
   "source": []
  }
 ],
 "metadata": {
  "kernelspec": {
   "display_name": "Python 3 (ipykernel)",
   "language": "python",
   "name": "python3"
  },
  "language_info": {
   "codemirror_mode": {
    "name": "ipython",
    "version": 3
   },
   "file_extension": ".py",
   "mimetype": "text/x-python",
   "name": "python",
   "nbconvert_exporter": "python",
   "pygments_lexer": "ipython3",
   "version": "3.7.3"
  }
 },
 "nbformat": 4,
 "nbformat_minor": 5
}

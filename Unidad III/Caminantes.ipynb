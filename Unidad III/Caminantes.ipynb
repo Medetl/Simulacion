{
 "cells": [
  {
   "cell_type": "code",
   "execution_count": null,
   "metadata": {},
   "outputs": [],
   "source": [
    "%matplotlib inline\n",
    "from matplotlib import pyplot as plt\n",
    "import seaborn as sns; sns.set(color_codes=True)\n",
    "import scipy.stats as st\n",
    "from itertools import accumulate\n",
    "import numpy as np\n",
    "import math \n",
    "from mpl_toolkits.mplot3d import Axes3D"
   ]
  },
  {
   "cell_type": "markdown",
   "metadata": {},
   "source": [
    "## "
   ]
  },
  {
   "cell_type": "code",
   "execution_count": null,
   "metadata": {},
   "outputs": [],
   "source": [
    "def bivariate_normal(X, Y, sigmax=1.0, sigmay=1.0,\n",
    "                 mux=0.0, muy=0.0, sigmaxy=0.0):\n",
    "    \"\"\"\n",
    "    Bivariate Gaussian distribution for equal shape *X*, *Y*.\n",
    "    See `bivariate normal\n",
    "    <http://mathworld.wolfram.com/BivariateNormalDistribution.html>`_\n",
    "    at mathworld.\n",
    "    \"\"\"\n",
    "    Xmu = X-mux\n",
    "    Ymu = Y-muy\n",
    "\n",
    "    rho = sigmaxy/(sigmax*sigmay)\n",
    "    z = Xmu**2/sigmax**2 + Ymu**2/sigmay**2 - 2*rho*Xmu*Ymu/(sigmax*sigmay)\n",
    "    denom = 2*np.pi*sigmax*sigmay*np.sqrt(1-rho**2)\n",
    "    return np.exp(-z/(2*(1-rho**2))) / denom\n",
    "\n",
    "def plot_dist(x,y):\n",
    "    ''' plotting environment we frequently use to visualise the \n",
    "    sampling algorithms.'''\n",
    "    \n",
    "    sns.set_style('white')\n",
    "    plt.rcdefaults()\n",
    "\n",
    "    # plot contour\n",
    "    #g = (sns.JointGrid(x, y).plot_joint(sns.kdeplot, n_levels=4, cmap=\"BuPu\", shade=True, shade_lowest=False)) \n",
    "    #Error en la librería en size/height\n",
    "    g = sns.JointGrid(x=x, y=y, height=10).plot_joint(sns.kdeplot, n_levels=4, cmap=\"BuPu\", shade=True, shade_lowest=False)\n",
    "\n",
    "    # add scatter plot of data\n",
    "    g = g.plot_joint(plt.scatter, c=\"r\", s=30, linewidth=1)\n",
    "    plt.plot(x, y, linestyle='-', marker='', alpha=0.4, )\n",
    "    \n",
    "    # set axis labels\n",
    "    g.set_axis_labels(\"$X$\", \"$Y$\")\n",
    "    \n",
    "def traceplot(x):\n",
    "    '''traceplot in the x-dimension with the cumulative mean (r)\n",
    "    and the actual mean (--)'''\n",
    "    sns.tsplot(x)\n",
    "    l = list(accumulate(x))\n",
    "    nl = [v/i for i, v in enumerate(l,1)]\n",
    "    plt.plot(nl, 'r')\n",
    "    plt.axhline(y=0.0, color='k', linestyle='--')\n",
    "    plt.ylabel('x')\n",
    "    plt.xlabel('Iteration')\n",
    "    \n",
    "def autocorrelation_plot(x, l):\n",
    "    '''plots the autocorrelation of x to lag = l'''\n",
    "    plt.acorr(x - np.mean(x), maxlags=l,  normed=True, usevlines=False);\n",
    "    plt.xlim((0, 100))\n",
    "    plt.ylabel('Autocorrelation')\n",
    "    plt.xlabel('Lag')\n"
   ]
  },
  {
   "cell_type": "code",
   "execution_count": null,
   "metadata": {},
   "outputs": [],
   "source": [
    "# set mean and covariance for Q\n",
    "mean = np.array([0, 1])\n",
    "var = np.array([[1, .5], [.5, 1]])"
   ]
  },
  {
   "cell_type": "code",
   "execution_count": null,
   "metadata": {},
   "outputs": [],
   "source": [
    "# create grid for 3D plot\n",
    "x, y = np.linspace(-5, 5, 200), np.linspace(-5, 5, 200)\n",
    "X,Y = np.meshgrid(x, y)\n",
    "\n",
    "# generate bivariate normal \n",
    "Z = bivariate_normal(X,Y,var[0][0],var[1][1],mean[0],mean[1])\n",
    "\n",
    "# plot surface in 3D\n",
    "fig = plt.figure(figsize=(12,8.5))\n",
    "ax = fig.add_subplot(111, projection='3d')\n",
    "ax.plot_surface(X, Y, Z, cmap= 'BuPu')\n",
    "\n",
    "ax.set_xlabel('x')\n",
    "ax.set_ylabel('y')\n",
    "ax.set_zlabel('$\\pi(x,y)$')"
   ]
  },
  {
   "cell_type": "markdown",
   "metadata": {},
   "source": [
    "### Definimos la 2D distribución objetivo:"
   ]
  },
  {
   "cell_type": "code",
   "execution_count": null,
   "metadata": {},
   "outputs": [],
   "source": [
    "def ptarget(x, y):\n",
    "    return st.multivariate_normal.pdf([x, y], mean=mean, cov=var)"
   ]
  },
  {
   "cell_type": "markdown",
   "metadata": {},
   "source": [
    "### Construimos un método para el algoritmo Metropolis-Hastings, sus parámetros de entrada serán:\n",
    "- p: distribución objetivo\n",
    "- n: número de iteraciones del algoritmo\n",
    "- x0, y0: punto de partida.\n",
    "- step: tamaño del paso"
   ]
  },
  {
   "cell_type": "code",
   "execution_count": null,
   "metadata": {},
   "outputs": [],
   "source": [
    "def metropolis_hastings(p, n, x0, y0, step):\n",
    "    x = x0\n",
    "    y = y0\n",
    "    \n",
    "    points = np.zeros((n, 2)) # Lista inicial de muestras, al momento, con puros ceros\n",
    "\n",
    "    for i in range(n):\n",
    "        \n",
    "        # Proponemos nuevos valores para el estado actual mediante el muestreo Q(x',y' | x,y)\n",
    "        x_star, y_star = np.array([x, y]) + np.random.normal(scale=step,size=2)\n",
    "\n",
    "        # Condición de Metropolis-Hastings\n",
    "        if np.random.rand() < p(x_star, y_star) / p(x, y):\n",
    "            x, y = x_star, y_star\n",
    "\n",
    "        # Se actualiza la lista de muestras\n",
    "        points[i] = np.array([x, y])\n",
    "\n",
    "    return points"
   ]
  },
  {
   "cell_type": "code",
   "execution_count": null,
   "metadata": {},
   "outputs": [],
   "source": [
    "# generate the samples\n",
    "samples = metropolis_hastings(ptarget, 300, -5, -5, 0.4)\n",
    "\n",
    "# visualise \n",
    "plot_dist(samples[:, 0], samples[:, 1])\n",
    "plt.savefig('caminates.png')\n",
    "\n"
   ]
  },
  {
   "cell_type": "code",
   "execution_count": null,
   "metadata": {},
   "outputs": [],
   "source": [
    "def simulated_annealing(p, n, x0, y0, step):\n",
    "    '''Samples p, the target distribution, n times according to \n",
    "    the Metropolis-Hastings algorithm while Q(x'|x) becomes a narrower \n",
    "    distribution. This means exploration is increasingly localised \n",
    "    along the chain '''\n",
    "\n",
    "    global step_size\n",
    "    step_size = step\n",
    "    \n",
    "    def anneal(step):\n",
    "        global step_size \n",
    "        step_size *= 0.99\n",
    "        return step_size\n",
    "        \n",
    "    x = x0\n",
    "    y = y0\n",
    "    \n",
    "    points = np.zeros((n, 2)) # list of samples to fill\n",
    "\n",
    "    for i in range(n):\n",
    "        \n",
    "        # propose new parameters from current state by sampling Q(x',y' | x,y)\n",
    "        x_star, y_star = np.array([x, y]) + np.random.normal(scale=step_size, size=2)\n",
    "\n",
    "        # Metropolis-Hastings condition\n",
    "        if np.random.rand() < p(x_star, y_star) / p(x, y):\n",
    "            x, y = x_star, y_star\n",
    "\n",
    "        # update samples list\n",
    "        points[i] = np.array([x, y])\n",
    "        \n",
    "        # reduce step size\n",
    "        anneal(step_size)\n",
    "\n",
    "    return points\n"
   ]
  },
  {
   "cell_type": "code",
   "execution_count": null,
   "metadata": {},
   "outputs": [],
   "source": [
    "# generate the samples\n",
    "samples = simulated_annealing(ptarget, 500, -5, -5, 0.8)\n",
    "\n",
    "# visualise \n",
    "plot_dist(samples[:, 0], samples[:, 1])"
   ]
  },
  {
   "cell_type": "code",
   "execution_count": null,
   "metadata": {},
   "outputs": [],
   "source": []
  }
 ],
 "metadata": {
  "kernelspec": {
   "display_name": "Python 3 (ipykernel)",
   "language": "python",
   "name": "python3"
  },
  "language_info": {
   "codemirror_mode": {
    "name": "ipython",
    "version": 3
   },
   "file_extension": ".py",
   "mimetype": "text/x-python",
   "name": "python",
   "nbconvert_exporter": "python",
   "pygments_lexer": "ipython3",
   "version": "3.7.3"
  }
 },
 "nbformat": 4,
 "nbformat_minor": 2
}

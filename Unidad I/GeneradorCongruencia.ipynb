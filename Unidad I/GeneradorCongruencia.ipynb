{
 "cells": [
  {
   "cell_type": "code",
   "execution_count": null,
   "metadata": {},
   "outputs": [],
   "source": [
    "import tabulate"
   ]
  },
  {
   "cell_type": "code",
   "execution_count": null,
   "metadata": {},
   "outputs": [],
   "source": [
    "def generador(a,b,m,x0):\n",
    "    x1=(a*x0+b) %m\n",
    "    return x1"
   ]
  },
  {
   "cell_type": "code",
   "execution_count": null,
   "metadata": {},
   "outputs": [],
   "source": [
    "n=64\n",
    "a=5\n",
    "b=7\n",
    "m=64\n",
    "x0=1\n",
    "\n",
    "muestra=[]\n",
    "datos=[]\n",
    "\n",
    "for i in range(n):\n",
    "    nuevo=generador(a,b,m,x0)\n",
    "    muestra.append([i,x0,nuevo/64])\n",
    "    datos.append(x0/64)\n",
    "    x0=nuevo\n",
    "\n",
    "encabezados=[\"i\", \"x_i\", \"X_{i+1}\"]\n",
    "print(tabulate.tabulate(muestra, headers=encabezados,tablefmt=\"psql\",numalign=\"center\"))"
   ]
  },
  {
   "cell_type": "code",
   "execution_count": null,
   "metadata": {},
   "outputs": [],
   "source": [
    "print(datos)"
   ]
  },
  {
   "cell_type": "code",
   "execution_count": null,
   "metadata": {},
   "outputs": [],
   "source": []
  }
 ],
 "metadata": {
  "kernelspec": {
   "display_name": "Python 3",
   "language": "python",
   "name": "python3"
  },
  "language_info": {
   "codemirror_mode": {
    "name": "ipython",
    "version": 3
   },
   "file_extension": ".py",
   "mimetype": "text/x-python",
   "name": "python",
   "nbconvert_exporter": "python",
   "pygments_lexer": "ipython3",
   "version": "3.8.3"
  }
 },
 "nbformat": 4,
 "nbformat_minor": 4
}

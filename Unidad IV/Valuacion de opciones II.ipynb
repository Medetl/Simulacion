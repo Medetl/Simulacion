{
 "cells": [
  {
   "cell_type": "markdown",
   "metadata": {},
   "source": [
    "# <font color='blue'> Movimiento browniano "
   ]
  },
  {
   "cell_type": "markdown",
   "metadata": {},
   "source": [
    "La colección de variables aleatorias $X(t), t \\geq 0$ es un **movimiento browniano** de parámetros $\\mu$ y $\\sigma^2$ si satisface:  \n",
    "\n",
    "* $X(0)$ es una constante dada.\n",
    "\n",
    "* Para todo $y$ y $t$ positivos, la variable aleatoria $X(t+y)-X(y)$ es independiente de los valores del proceso hasta el  tiempo $y$ y tiene una distribución normal con media $μt$ y varianza $t \\sigma^2$ "
   ]
  },
  {
   "cell_type": "markdown",
   "metadata": {},
   "source": [
    "Comentarios.\n",
    "\n",
    "* El proceso queda determinado solo por el valor presente y ninguno del pasado el que determina los valores futuros.\n",
    "* $X(t)$ es, con probabilidad 1, una función continua de $t$.\n",
    "* Pero no es diferenciable.\n",
    "* EL movimiento browniano es el límite de modelos más simples, como las caminatas aleatorias (del modelo binomial)."
   ]
  },
  {
   "cell_type": "markdown",
   "metadata": {},
   "source": [
    "### <font color='blue'> Movimiento Browniano Geometrico"
   ]
  },
  {
   "cell_type": "markdown",
   "metadata": {},
   "source": [
    "Sea  $X(t), t \\geq 0$ un movimiento browniano de parámetros $\\mu$ y $\\sigma^2$, y sea:\n",
    "    \n",
    "$$S(t)=e^{X(t)}, t \\geq 0$$\n",
    "\n",
    "El proceso $S(t), t \\geq 0$ se dice que es un movimiento browniano geometrico con parámetros $\\mu$ y $\\sigma^2$. \n",
    "    "
   ]
  },
  {
   "cell_type": "markdown",
   "metadata": {},
   "source": [
    "Entonces:\n",
    "\n",
    "$$\\log \\Bigg( \\frac{S(t+y)}{S(y)} \\Bigg)$$\n",
    "\n",
    "es independiente del proceso y tiene distribución normal con media $\\mu t$ y varianza $\\sigma^2 t$."
   ]
  },
  {
   "cell_type": "markdown",
   "metadata": {},
   "source": [
    "#### Modelación de las acciones."
   ]
  },
  {
   "cell_type": "markdown",
   "metadata": {},
   "source": [
    "Si $P_t$ es el precio de una acción en el tiempo $t$, entonces el rendimiento logaritmizado \n",
    "es $R_t = \\log(\\frac{P_t}{P_{t-1}})$, para $t=1,2,3...$ y normalmente ocurre que:\n",
    "\n",
    "$$R_t \\sim N(\\mu, \\sigma)$$"
   ]
  },
  {
   "cell_type": "markdown",
   "metadata": {},
   "source": [
    "El uso del rendimiento logaritmizado se justifica como una buena aproximación:\n",
    "\n",
    "$$R_t \\approx \\frac{P_t - P_{t-1}}{P_{t-1}}$$ \n",
    "\n",
    "debido a que el orden de los rendimientos es de $10^{-3}$ y se hace uso de $\\log (1 + x) \\approx x$."
   ]
  },
  {
   "cell_type": "markdown",
   "metadata": {},
   "source": [
    "Ahora, si se reescribe la cantidad $\\frac{P_t}{P_0}$ como:\n",
    "\n",
    "$$\\frac{P_t}{P_0} = \\frac{P_t}{P_{t-1}} \\cdot \\frac{P_{t-1}}{P_{t-2}} \\cdot \\frac{P_{t-2}}{P_{t-3}} \\cdot ... \\cdot \\frac{P_2}{P_1} \\cdot \\frac{P_1}{P_0} $$"
   ]
  },
  {
   "cell_type": "markdown",
   "metadata": {},
   "source": [
    "Al tomar el logaritmo:\n",
    "\n",
    "$$\\log( \\frac{P_t}{P_0}) = R_t + R_{t-1} + ... + R_2 + R_1$$"
   ]
  },
  {
   "cell_type": "markdown",
   "metadata": {},
   "source": [
    "Si suponemos que los rendimientos $R_i$ son independientes y tienen una misma distribución, \n",
    "con $E[R_i]= \\mu$ y $V[R_i]=\\sigma^2$, entonces para $t$ grande, por el teorema central del límite esto \n",
    "sigue una distribución normal (para más de 30 días) y se tendrá:"
   ]
  },
  {
   "cell_type": "markdown",
   "metadata": {},
   "source": [
    "$$E \\Bigg[\\log \\frac{P_t}{P_o} \\Bigg]= E[R_t]+E[R_{t-1}]+...+E[R_1]= t\\mu$$\n",
    "\n",
    "\n",
    "$$V \\Bigg[\\log \\frac{P_t}{P_o} \\Bigg]= V[R_t]+V[R_{t-1}]+...+V[R_1]= t\\sigma^2$$"
   ]
  },
  {
   "cell_type": "markdown",
   "metadata": {},
   "source": [
    "Y se tendría que:\n",
    "\n",
    "$$\\log \\Bigg( \\frac{P_t}{P_0} \\Bigg) \\sim N(\\mu t, \\sigma \\sqrt t)$$"
   ]
  },
  {
   "cell_type": "markdown",
   "metadata": {},
   "source": [
    "Por lo que se puede escribir:\n",
    "\n",
    "$$P_t=P_0 e^{\\mu t +\\sigma \\beta_t}$$"
   ]
  },
  {
   "cell_type": "markdown",
   "metadata": {},
   "source": [
    "donde $\\beta_t$ es un movimiento browniano en $(0,t)$ y $E[\\beta_t]=0$ y $V[\\beta_t]=t$"
   ]
  },
  {
   "cell_type": "markdown",
   "metadata": {},
   "source": [
    "Y la igualdad anterior también se puede escribir como:\n",
    "\n",
    "$$P_t=P_0 e^{\\mu t + \\sigma \\sqrt t z}$$\n",
    "\n",
    "donde $z \\sim N(0,1)$."
   ]
  },
  {
   "cell_type": "markdown",
   "metadata": {},
   "source": [
    "Esta última ecuación nos permite ya construir una simulación."
   ]
  },
  {
   "cell_type": "code",
   "execution_count": null,
   "metadata": {},
   "outputs": [],
   "source": [
    "from random import gauss\n",
    "from math import exp\n",
    "import matplotlib.pyplot as plt"
   ]
  },
  {
   "cell_type": "code",
   "execution_count": null,
   "metadata": {},
   "outputs": [],
   "source": [
    "mu=0.001 \n",
    "sigma=0.04  #sigma\n",
    "p0=10\n",
    "t=30"
   ]
  },
  {
   "cell_type": "code",
   "execution_count": null,
   "metadata": {},
   "outputs": [],
   "source": [
    "def trayectoria(mu,sigma,p0,t):\n",
    "    l=[p0]\n",
    "    pt=p0\n",
    "    for i in range(t):\n",
    "        pt=pt*exp(mu + sigma*gauss(0,1))\n",
    "        l.append(pt)\n",
    "    return l"
   ]
  },
  {
   "cell_type": "code",
   "execution_count": null,
   "metadata": {},
   "outputs": [],
   "source": [
    "l=trayectoria(mu, sigma,p0,t)"
   ]
  },
  {
   "cell_type": "code",
   "execution_count": null,
   "metadata": {},
   "outputs": [],
   "source": [
    "print(l)"
   ]
  },
  {
   "cell_type": "code",
   "execution_count": null,
   "metadata": {},
   "outputs": [],
   "source": [
    "\n",
    "plt.plot(l)\n",
    "plt.show()"
   ]
  },
  {
   "cell_type": "code",
   "execution_count": null,
   "metadata": {},
   "outputs": [],
   "source": [
    "mu=0.001\n",
    "sigma=0.04\n",
    "p0=10\n",
    "t=200"
   ]
  },
  {
   "cell_type": "code",
   "execution_count": null,
   "metadata": {},
   "outputs": [],
   "source": [
    "for i in range(10):\n",
    "    l=trayectoria(mu,sigma,p0,t)\n",
    "    plt.plot(l)\n",
    "plt.show()"
   ]
  },
  {
   "cell_type": "markdown",
   "metadata": {},
   "source": [
    "#### Ejercicio \n",
    "\n",
    "Estudiar el comportamiento de las trayectorias al variar $\\mu$ y $\\sigma$."
   ]
  },
  {
   "cell_type": "markdown",
   "metadata": {},
   "source": []
  },
  {
   "cell_type": "markdown",
   "metadata": {},
   "source": [
    "Entonces, sabiendo que $P_t=P_0 e^{\\mu t +\\sigma \\beta_t}=P_t=P_0 e^{\\mu t + \\sigma \\sqrt t z}$, \n",
    "¿cuál es el valor esperado de $P_t$?\n",
    "\n",
    "Tendríamos:"
   ]
  },
  {
   "cell_type": "markdown",
   "metadata": {},
   "source": [
    "$$E[P_t]=E[P_0 e^{\\mu t + \\sigma \\sqrt t z}] = P_0 E[e^{\\mu t + \\sigma \\sqrt t z}]$$"
   ]
  },
  {
   "cell_type": "markdown",
   "metadata": {},
   "source": [
    "Y para poder evaluar esto, necesitamos utilizar la función generadora de momentos:\n",
    "    \n",
    "$$\\mu_x(s)=e^{\\mu s + \\frac{\\sigma^2 s^2}{2}}$$"
   ]
  },
  {
   "cell_type": "markdown",
   "metadata": {},
   "source": [
    "De manera que:\n",
    "    \n",
    "$$E[P_t]=P_0 e^{(\\mu + \\frac{\\sigma}{2})t}$$"
   ]
  },
  {
   "cell_type": "markdown",
   "metadata": {},
   "source": [
    "Y la varianza:\n",
    "    \n",
    "$$V[P_t]=P_0^2e^{2\\mu t}(e^{2t\\sigma^2}-e^{t\\sigma^2})$$"
   ]
  },
  {
   "cell_type": "markdown",
   "metadata": {},
   "source": [
    "Pero la cuestión práctica es: ¿Dados los precios de una acción, $P_0, P_1,...,P_t$, ¿cómo estimar $\\mu$ y $\\sigma$?"
   ]
  },
  {
   "cell_type": "markdown",
   "metadata": {},
   "source": [
    "Recordando que:\n",
    "\n",
    "$$R_t \\sim N(\\mu, \\sigma)$$\n",
    "\n",
    "y\n",
    "\n",
    "$$\\hat{\\mu} = \\frac{\\sum_{t=1}^{T}R_t}{T}$$\n",
    "\n",
    "y\n",
    "\n",
    "$$\\hat{\\sigma}=\\sqrt{\\frac{1}{T-1} \\sum_{t=1}^T (R_t - \\hat{\\mu})^2}$$"
   ]
  },
  {
   "cell_type": "markdown",
   "metadata": {},
   "source": [
    "En la práctica, dados:\n",
    "$$P_0, P_1, P_2, P_3, ...$$\n",
    "\n",
    "Calculamos:\n",
    "    \n",
    "$$R_1=\\log(\\frac{P_1}{P_0})$$\n",
    "\n",
    "$$R_1=\\log(\\frac{P_2}{P_1})$$\n",
    "\n",
    "$$R_1=\\log(\\frac{P_3}{P_2})$$\n",
    "\n",
    "$$R_1=\\log(\\frac{P_4}{P_3})$$\n",
    "\n",
    "$$...$$"
   ]
  },
  {
   "cell_type": "markdown",
   "metadata": {},
   "source": [
    "Y calculamos la media y la desviación estándar de estos valores, y podemos observar que:\n",
    "\n",
    "* Si $\\hat{\\mu} + \\frac{\\hat{\\sigma}}{2} > 0$, la acción tiende a crecer.\n",
    "\n",
    "* Si $\\hat{\\mu} + \\frac{\\hat{\\sigma}}{2} \\approx 0$, la acción tiende a permanecer constante.\n",
    "\n",
    "* Si $\\hat{\\mu} + \\frac{\\hat{\\sigma}}{2} < 0$, la acción tiende a decrecer."
   ]
  },
  {
   "cell_type": "markdown",
   "metadata": {},
   "source": [
    "Y podemos implementar esto con el siguiente código, usando la librería investpy."
   ]
  },
  {
   "cell_type": "code",
   "execution_count": null,
   "metadata": {},
   "outputs": [],
   "source": [
    "from statistics import mean,stdev,pstdev\n",
    "from math import log\n",
    "import pandas_datareader as pdr\n",
    "import datetime\n",
    "import pandas as pd\n",
    "import matplotlib.pyplot as plt\n",
    "import investpy"
   ]
  },
  {
   "cell_type": "markdown",
   "metadata": {},
   "source": [
    "Pero antes, recordemos un poco de Pandas"
   ]
  },
  {
   "cell_type": "markdown",
   "metadata": {},
   "source": [
    "Cargamos los datos y los guardamos."
   ]
  },
  {
   "cell_type": "code",
   "execution_count": null,
   "metadata": {},
   "outputs": [],
   "source": [
    "df=investpy.get_stock_historical_data(stock=\"DIS\",country=\"Mexico\",from_date=\"01/01/2022\", to_date=\"31/05/2022\")\n",
    "\n",
    "df.to_csv(\"datos.csv\")"
   ]
  },
  {
   "cell_type": "markdown",
   "metadata": {},
   "source": [
    "Podemos usar las funciones de Pandas para analizar los datos."
   ]
  },
  {
   "cell_type": "code",
   "execution_count": null,
   "metadata": {},
   "outputs": [],
   "source": [
    "type(df) # Checamos el tipo de dato"
   ]
  },
  {
   "cell_type": "code",
   "execution_count": null,
   "metadata": {},
   "outputs": [],
   "source": [
    "df.shape # Este es un atributo, no una función. Devuelve (número de renglones, número de columnas)"
   ]
  },
  {
   "cell_type": "code",
   "execution_count": null,
   "metadata": {},
   "outputs": [],
   "source": [
    "df"
   ]
  },
  {
   "cell_type": "code",
   "execution_count": null,
   "metadata": {},
   "outputs": [],
   "source": [
    "print(df.head()) # La función head() muestra los primeros 5 renglones del data frame"
   ]
  },
  {
   "cell_type": "markdown",
   "metadata": {},
   "source": [
    "Generalmente, comenzamos a analizar un data frame conociendo su tamaño y la información que contiene."
   ]
  },
  {
   "cell_type": "code",
   "execution_count": null,
   "metadata": {},
   "outputs": [],
   "source": [
    "df.columns # Da el nombre de las columnas"
   ]
  },
  {
   "cell_type": "markdown",
   "metadata": {},
   "source": [
    "Cada columna debe ser del mismo tipo, pero un renglón puede tener objetos de diferentes tipos."
   ]
  },
  {
   "cell_type": "code",
   "execution_count": null,
   "metadata": {},
   "outputs": [],
   "source": [
    "df.dtypes # Da el tipo de objeto que guardan las columnas"
   ]
  },
  {
   "cell_type": "code",
   "execution_count": null,
   "metadata": {},
   "outputs": [],
   "source": [
    "df.info() # Esta función da información más amplia"
   ]
  },
  {
   "cell_type": "markdown",
   "metadata": {},
   "source": [
    "Podemos elegir columnas en particular para visualizar."
   ]
  },
  {
   "cell_type": "code",
   "execution_count": null,
   "metadata": {},
   "outputs": [],
   "source": [
    "c_df=df['Close'] # Elejimos la columna y la guardamos como una nueva variable"
   ]
  },
  {
   "cell_type": "code",
   "execution_count": null,
   "metadata": {},
   "outputs": [],
   "source": [
    "c_df.head() # mostramos los primeros 5 renglones"
   ]
  },
  {
   "cell_type": "code",
   "execution_count": null,
   "metadata": {},
   "outputs": [],
   "source": [
    "c_df.tail() # mostramos los últimos 5 renglones"
   ]
  },
  {
   "cell_type": "code",
   "execution_count": null,
   "metadata": {},
   "outputs": [],
   "source": [
    "o_df=df.Open # También podemos elegir la columna nombrandola directamente"
   ]
  },
  {
   "cell_type": "code",
   "execution_count": null,
   "metadata": {},
   "outputs": [],
   "source": [
    "o_df.head()"
   ]
  },
  {
   "cell_type": "code",
   "execution_count": null,
   "metadata": {},
   "outputs": [],
   "source": [
    "subset=df[['Open','Close']] # Para especificar varias columnas usamos corchetes dobles"
   ]
  },
  {
   "cell_type": "code",
   "execution_count": null,
   "metadata": {},
   "outputs": [],
   "source": [
    "subset.head()"
   ]
  },
  {
   "cell_type": "code",
   "execution_count": null,
   "metadata": {},
   "outputs": [],
   "source": [
    "subset.head(n=10) # podemos ver más renglones"
   ]
  },
  {
   "cell_type": "code",
   "execution_count": null,
   "metadata": {},
   "outputs": [],
   "source": [
    "subset.tail()"
   ]
  },
  {
   "cell_type": "code",
   "execution_count": null,
   "metadata": {},
   "outputs": [],
   "source": [
    "subset # se puede imprimir todo"
   ]
  },
  {
   "cell_type": "code",
   "execution_count": null,
   "metadata": {},
   "outputs": [],
   "source": [
    "subset.ix[0] # revisar: iloc, loe"
   ]
  },
  {
   "cell_type": "code",
   "execution_count": null,
   "metadata": {},
   "outputs": [],
   "source": [
    "df[50:55]['Close']"
   ]
  },
  {
   "cell_type": "markdown",
   "metadata": {},
   "source": [
    "Podemos graficar los precios y calcular las estadisticas de los rendimientos logaritmizados"
   ]
  },
  {
   "cell_type": "code",
   "execution_count": null,
   "metadata": {},
   "outputs": [],
   "source": [
    "datos=investpy.get_stock_historical_data(stock=\"DIS\",country=\"Mexico\",from_date=\"24/05/2021\", to_date=\"24/05/2022\")\n",
    "\n",
    "datos.to_csv(\"datos.csv\")\n",
    "\n",
    "\n",
    "datos=pd.read_csv(\"datos.csv\",header=0,index_col=\"Date\",parse_dates=True) #le peidmos leer los datos del csv \n",
    "\n",
    "\n",
    "ts=datos[\"Close\"] #que tome los valores de precio de cierre de la acci+on \n",
    "print(ts)\n",
    "\n",
    "lp=[] #creamos una lista vacia para los precios \n",
    "\n",
    "for i in range(len(ts)):\n",
    "     lp.append(ts.iloc[i])\n",
    "plt.plot(lp) #grafica de los precios\n",
    "plt.show()\n",
    "\n",
    "#calcular los rendimientos\n",
    "\n",
    "lr=[] #lista de rendimientos\n",
    "for i in range(1,len(lp)):\n",
    "     lr.append((lp[i-1]/lp[i])-1) #para lso rendimientos usamos la formula de el precio de cierre anterior entre el precio de cierre actual menos 1\n",
    "\n",
    "print(f\"\\n El rendimiento medio es: {mean(lr)},\\n La desviación muestral es: {stdev(lr)} \\n La desviación poblacional es: {pstdev(lr)}\")\n",
    "\n",
    "\n"
   ]
  },
  {
   "cell_type": "markdown",
   "metadata": {},
   "source": [
    "Y podemos visualizar el rendimiento"
   ]
  },
  {
   "cell_type": "code",
   "execution_count": null,
   "metadata": {},
   "outputs": [],
   "source": [
    "lr=[]\n",
    "for i in range(1,len(lp)):\n",
    "    lr.append(log(lp[i]/lp[i-1]))\n",
    "plt.plot(lr)\n",
    "plt.show()\n",
    "print(mean(lr), stdev(lr))"
   ]
  },
  {
   "cell_type": "markdown",
   "metadata": {},
   "source": [
    "Y graficarlos juntos, mostrará las fluctuaciones en los mismos puntos"
   ]
  },
  {
   "cell_type": "code",
   "execution_count": null,
   "metadata": {},
   "outputs": [],
   "source": [
    "fig, ax=plt.subplots(2,1,figsize=(16,8), sharex=True)\n",
    "ax[0].plot(lp)\n",
    "ax[1].plot(lr)"
   ]
  },
  {
   "cell_type": "code",
   "execution_count": null,
   "metadata": {},
   "outputs": [],
   "source": []
  }
 ],
 "metadata": {
  "kernelspec": {
   "display_name": "Python 3",
   "language": "python",
   "name": "python3"
  },
  "language_info": {
   "codemirror_mode": {
    "name": "ipython",
    "version": 3
   },
   "file_extension": ".py",
   "mimetype": "text/x-python",
   "name": "python",
   "nbconvert_exporter": "python",
   "pygments_lexer": "ipython3",
   "version": "3.7.3"
  }
 },
 "nbformat": 4,
 "nbformat_minor": 2
}

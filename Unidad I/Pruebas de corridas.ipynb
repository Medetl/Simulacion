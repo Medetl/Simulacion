{
 "cells": [
  {
   "cell_type": "markdown",
   "metadata": {},
   "source": [
    "# Pruebas de corridas"
   ]
  },
  {
   "cell_type": "markdown",
   "metadata": {},
   "source": [
    "Son pruebas estadísticas no paramétricas para verificar la aleatoriedad de datos. Utiliza series de datos para decidir si son aleatorios o no."
   ]
  },
  {
   "cell_type": "markdown",
   "metadata": {},
   "source": [
    "Una **corrida** se define como una serie de eventos similares. El número de tales eventos es la duración de la corrida."
   ]
  },
  {
   "cell_type": "markdown",
   "metadata": {},
   "source": [
    "#### Ejemplo: \n",
    "\n",
    "En un volado,\n",
    "    \n",
    "$$a, s, s, a, a, a, s, a ,s, s$$"
   ]
  },
  {
   "cell_type": "markdown",
   "metadata": {},
   "source": [
    "¿Cuántas corridas hay?"
   ]
  },
  {
   "cell_type": "markdown",
   "metadata": {},
   "source": [
    "#### Ejemplo: "
   ]
  },
  {
   "cell_type": "code",
   "execution_count": null,
   "metadata": {},
   "outputs": [],
   "source": [
    "l = [1, 3, 9, 8, 0, 4, 6, 5, 2, 7]"
   ]
  },
  {
   "cell_type": "code",
   "execution_count": null,
   "metadata": {},
   "outputs": [],
   "source": [
    "m = [0, 1, 2, 3, 4, 5, 6, 7, 8, 9]"
   ]
  },
  {
   "cell_type": "markdown",
   "metadata": {},
   "source": [
    "Hay varias formas de definir corridas, sin embargo, en todos los casos la formulación debe producir una secuencia dicotómica de valores. En nuestro caso, los valores por encima de la mediana se tratan como positivos y los valores por debajo de la mediana como negativos. Una corrida se define como una serie de valores consecutivos positivos o negativos.\n",
    "\n",
    "El primer paso en la prueba de corridas es contar el número de corridas en la secuencia de datos."
   ]
  },
  {
   "cell_type": "markdown",
   "metadata": {},
   "source": [
    "Formulamos entonces la hipótesis nula y alternativa:"
   ]
  },
  {
   "cell_type": "markdown",
   "metadata": {},
   "source": [
    "$H_0:$ La secuencia se produjo de forma aleatoria.\n",
    "\n",
    "$H_1:$ La secuencia no se produjo de forma aleatoria."
   ]
  },
  {
   "cell_type": "markdown",
   "metadata": {},
   "source": [
    "Usamos el estadistico $Z$ como prueba:"
   ]
  },
  {
   "cell_type": "markdown",
   "metadata": {},
   "source": [
    "$$Z = \\frac{R - \\bar{R}}{S_{R}}$$"
   ]
  },
  {
   "cell_type": "markdown",
   "metadata": {},
   "source": [
    "donde $R$ es el número de corridas observadas, $\\bar{R}$, definido como:"
   ]
  },
  {
   "cell_type": "markdown",
   "metadata": {},
   "source": [
    "$$\\bar{R}=\\frac{2n_1 n_2}{n_1 + n_2} + 1$$"
   ]
  },
  {
   "cell_type": "markdown",
   "metadata": {},
   "source": [
    "es el número de corridas esperadas. Y la desviación estándar del número de corridas es:"
   ]
  },
  {
   "cell_type": "markdown",
   "metadata": {},
   "source": [
    "$$S_R^2 = \\frac{2n_1 n_2 (2n_1 n_2 - n_1 - n_2)}{(n_1+n_2)^2 (n_1 + n_2 - 1)}$$"
   ]
  },
  {
   "cell_type": "markdown",
   "metadata": {},
   "source": [
    "Y $n_1$ y $n_2$ son los números de valores positivos y negativos de la serie."
   ]
  },
  {
   "cell_type": "markdown",
   "metadata": {},
   "source": [
    "Entonces comparamos el valor del estadístico $Z$ calculado con el $Z_{crítico}$  para un nivel de confianza dado ($Z_{crítico} = 1.96$ para un nivel de confianza del 95%). La hipótesis nula se rechaza, es decir, se declara que los números no son aleatorios si $| Z |> Z_{crítico}$."
   ]
  },
  {
   "cell_type": "markdown",
   "metadata": {},
   "source": [
    "#### Para hacer un programa que haga la prueba de corridas"
   ]
  },
  {
   "cell_type": "code",
   "execution_count": null,
   "metadata": {},
   "outputs": [],
   "source": [
    "import random \n",
    "import math \n",
    "from statistics import mean, median"
   ]
  },
  {
   "cell_type": "code",
   "execution_count": null,
   "metadata": {},
   "outputs": [],
   "source": [
    "l= [946,1058,1133,869,927,742,1113,665,955,1288,1074,838,815,910,1193,\n",
    "    1386,955,1187,891,1302,867,837,1138,868,969,737,1143,947,763,1029]"
   ]
  },
  {
   "cell_type": "code",
   "execution_count": null,
   "metadata": {},
   "outputs": [],
   "source": [
    "# Esta funcion implementa una prueba de corridas\n",
    "def prueba_corridas(l):\n",
    "    \n",
    "    l_median = mean(l)  # Hacemos la prueba respecto a la media/mediana\n",
    "    \n",
    "    R, n1, n2 = 1, 0, 0   # iniciamos los contadores\n",
    "        \n",
    "    for i in range(len(l)):    \n",
    "        \n",
    "        # Aumentamos R cuando 2 entradas están una arriba y otra abajo de la media/mediana:\n",
    "        if (l[i] >= l_median and l[i-1] < l_median) or (l[i] < l_median and l[i-1] >= l_median):\n",
    "            R += 1\n",
    "        # Contamos las que están arriba y las que están abajo\n",
    "        if(l[i]) >= l_median:\n",
    "            n1 += 1\n",
    "        else:\n",
    "            n2 += 1   \n",
    "    # calculamos los parámetros y el estadistico\n",
    "    R_exp = ((2*n1*n2)/(n1+n2))+1\n",
    "    stan_dev = math.sqrt((2*n1*n2*(2*n1*n2-n1-n2))/(((n1+n2)**2)*(n1+n2-1))) \n",
    "  \n",
    "    z = (R - R_exp)/stan_dev \n",
    "  \n",
    "    return R, n1, n2, R_exp, z, stan_dev "
   ]
  },
  {
   "cell_type": "code",
   "execution_count": null,
   "metadata": {},
   "outputs": [],
   "source": [
    "R = prueba_corridas(l)[0]\n",
    "n1 = prueba_corridas(l)[1]\n",
    "n2 = prueba_corridas(l)[2]\n",
    "R_exp = abs(prueba_corridas(l)[3])\n",
    "Z = abs(prueba_corridas(l)[4]) \n",
    "stan_dev = abs(prueba_corridas(l)[5])\n",
    "\n",
    "print('Estadistico = ', Z)\n",
    "print('  R = ', R, '  R_exp = ', R_exp, '\\n n1 = ', n1, '\\n n2 = ', n2, '\\nVarianza = ', stan_dev**2)"
   ]
  },
  {
   "cell_type": "markdown",
   "metadata": {},
   "source": [
    "### Ejercicio:\n",
    "\n",
    "* Completar la función para que imprima todas las salidas de interés.\n",
    "* Desordenar la lista y volver a aplicar la prueba de corridas. Comparar el resultado.\n",
    "* Repetir el ejercicio con la lista l_1"
   ]
  },
  {
   "cell_type": "code",
   "execution_count": null,
   "metadata": {},
   "outputs": [],
   "source": []
  },
  {
   "cell_type": "code",
   "execution_count": null,
   "metadata": {},
   "outputs": [],
   "source": [
    "l_1 = [0.809, 0.042,  0.432,  0.538,  0.225,  0.88,  0.688,  0.772,  0.036,  0.854, 0.397,  0.268,  0.821,  0.897,  \n",
    "     0.07,  0.721,  0.087,  0.35,  0.779,  0.482, 0.136,  0.855,  0.453,  0.197,  0.444,  0.799,  0.809,  0.691,  \n",
    "     0.545,  0.857, 0.692,  0.055,  0.348, 0.373,  0.436,  0.29,  0.015,  0.834,  0.599,  0.724,  0.564,  0.709,  \n",
    "     0.946,  0.754,  0.677,  0.128,  0.012,  0.498,  0.6,  0.913]"
   ]
  },
  {
   "cell_type": "code",
   "execution_count": null,
   "metadata": {},
   "outputs": [],
   "source": []
  }
 ],
 "metadata": {
  "kernelspec": {
   "display_name": "Python 3",
   "language": "python",
   "name": "python3"
  },
  "language_info": {
   "codemirror_mode": {
    "name": "ipython",
    "version": 3
   },
   "file_extension": ".py",
   "mimetype": "text/x-python",
   "name": "python",
   "nbconvert_exporter": "python",
   "pygments_lexer": "ipython3",
   "version": "3.7.3"
  }
 },
 "nbformat": 4,
 "nbformat_minor": 2
}

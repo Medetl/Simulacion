{
 "cells": [
  {
   "cell_type": "markdown",
   "metadata": {},
   "source": [
    "# <font color='blue'> Análisis Estadístico de Parámetros de Estado Estable "
   ]
  },
  {
   "cell_type": "markdown",
   "metadata": {},
   "source": [
    "Por lo general, los estudios de simulación se realizan para determinar el valor de cierta cantidad $\\theta$ relacionada con el modelo estocástico particular. Una simulación del sistema en cuestión produce los datos de salida $X$, una variable aleatoria cuyo valor esperado es la cantidad de interés $\\theta$, y se realiza durante $n$ ejecuciones. "
   ]
  },
  {
   "cell_type": "markdown",
   "metadata": {},
   "source": [
    "El promedio de estos $n$ valores, "
   ]
  },
  {
   "cell_type": "markdown",
   "metadata": {},
   "source": [
    "<font color='red'>$$\\bar{X} = \\sum_{i=1}^n \\frac{X_i}{n}$$"
   ]
  },
  {
   "cell_type": "markdown",
   "metadata": {},
   "source": [
    "sirve como estimador, o aproximador de $\\theta$. Este promedio aritmético es la **media muestral**."
   ]
  },
  {
   "cell_type": "markdown",
   "metadata": {},
   "source": [
    "Para determinar la \"bondad\" de $\\bar{X}$ como estimador de la media poblacional $\\theta$, consideramos el error cuadrático medio:"
   ]
  },
  {
   "cell_type": "markdown",
   "metadata": {},
   "source": [
    "$$\\mathbb{E}[(\\bar{X}-\\theta)^2]=\\mathbb{Var}(\\bar{X})=\\frac{\\sigma^2}{n}$$"
   ]
  },
  {
   "cell_type": "markdown",
   "metadata": {},
   "source": [
    "donde $\\mathbb{E}[\\bar{X}]=\\theta$ y $\\mathbb{Var}(X_i)=\\sigma^2$"
   ]
  },
  {
   "cell_type": "markdown",
   "metadata": {},
   "source": [
    "Entonces, $\\bar{X}$ es un buen estimador de $\\theta$ cuando $\\frac{\\sigma}{\\sqrt{n}}$ es pequeño."
   ]
  },
  {
   "cell_type": "markdown",
   "metadata": {},
   "source": [
    "La dificultad de este indicador de bondad es que por lo general no se conoce la varianza poblacional $\\sigma^2$, así que también debe estimarse."
   ]
  },
  {
   "cell_type": "markdown",
   "metadata": {},
   "source": [
    "Para ello se usa la varianza muestral, $S^2$:"
   ]
  },
  {
   "cell_type": "markdown",
   "metadata": {},
   "source": [
    "<font color='red'>$$S^2=\\frac{\\sum_{i=1}^n (X_i-\\bar{X})^2}{n-1}$$"
   ]
  },
  {
   "cell_type": "markdown",
   "metadata": {},
   "source": [
    "$S^2$ es la **varianza poblacional** y $s=\\sqrt{S^2}$ es la **desviación estándar muestral**."
   ]
  },
  {
   "cell_type": "markdown",
   "metadata": {},
   "source": [
    "### <font color='blue'> Ejercicio"
   ]
  },
  {
   "cell_type": "markdown",
   "metadata": {},
   "source": [
    "Estimemos el valor de la integral $\\int_0^1 \\sqrt( \\arctan x ) dx$."
   ]
  },
  {
   "cell_type": "markdown",
   "metadata": {},
   "source": [
    "Modificar el ejercicio ya realizado para obtener una estimación de la integral y una medida de su bondad. "
   ]
  },
  {
   "cell_type": "code",
   "execution_count": null,
   "metadata": {},
   "outputs": [],
   "source": []
  },
  {
   "cell_type": "code",
   "execution_count": 7,
   "metadata": {},
   "outputs": [],
   "source": [
    "import numpy as np\n",
    "import matplotlib.pyplot as plt"
   ]
  },
  {
   "cell_type": "code",
   "execution_count": 12,
   "metadata": {},
   "outputs": [],
   "source": [
    "#Definimos la función de prueba.\n",
    "def funcion(x):\n",
    "    return np.sqrt(np.arctan(x)) "
   ]
  },
  {
   "cell_type": "code",
   "execution_count": 17,
   "metadata": {},
   "outputs": [
    {
     "data": {
      "image/png": "[encoded data removed]",
      "text/plain": [
       "<Figure size 432x288 with 1 Axes>"
      ]
     },
     "metadata": {
      "needs_background": "light"
     },
     "output_type": "display_data"
    }
   ],
   "source": [
    "#Graficamos la función de prueba.\n",
    "X=np.linspace(0,1,1000)\n",
    "plt.plot(X,funcion(X), color='red', label=\"$y=1/(1+x)$\")\n",
    "#plt.fill_between(X,funcion(X))\n",
    "plt.legend()\n",
    "plt.xlim(0.0, 1.2)\n",
    "plt.ylim(0.0, 1.2)\n",
    "plt.grid(True)\n",
    "plt.title('Función de prueba', color='b')\n",
    "plt.xlabel('X')\n",
    "plt.ylabel('Y')\n",
    "plt.show()"
   ]
  },
  {
   "cell_type": "code",
   "execution_count": 14,
   "metadata": {},
   "outputs": [
    {
     "name": "stdout",
     "output_type": "stream",
     "text": [
      "El valor de la integral es: 0.62767\n",
      "El error estándar es: 0.20433\n"
     ]
    }
   ],
   "source": [
    "def integ(func=funcion, n=3000):\n",
    "    muestreo=[]\n",
    "    suma=[]\n",
    "    for i in range(n):\n",
    "        u= np.random.random_sample()\n",
    "        muestreo.append(u)\n",
    "        y=funcion(u)\n",
    "        suma.append(y)\n",
    "\n",
    "    return np.mean(suma), np.std(suma)\n",
    "\n",
    "print(\"El valor de la integral es:\", round(integ()[0],5))\n",
    "print(\"El error estándar es:\", round(integ()[1],5))"
   ]
  },
  {
   "cell_type": "code",
   "execution_count": null,
   "metadata": {},
   "outputs": [],
   "source": []
  },
  {
   "cell_type": "markdown",
   "metadata": {},
   "source": [
    "### Método para determinar cuando detenerse al generar nuevos datos"
   ]
  },
  {
   "cell_type": "markdown",
   "metadata": {},
   "source": [
    "1. Elegir un valor aceptable $d$ para la desviación estándar del estimador.\n",
    "\n",
    "2. Generar al menos 30 datos.\n",
    "\n",
    "3. Continuar generando más datos, hasta detenerse cuando se hayan generado $k$ valores y $\\frac{S}{\\sqrt{k}}<d$, donde $S$ es la desviación estándar muestral basada en estos $k$ valores.\n",
    "\n",
    "4. La estimación de $\\theta$ está dada por $\\bar{X}=\\sum_{i=1}^k \\frac{X-i}{k}$."
   ]
  },
  {
   "cell_type": "code",
   "execution_count": null,
   "metadata": {},
   "outputs": [],
   "source": []
  }
 ],
 "metadata": {
  "kernelspec": {
   "display_name": "Python 3",
   "language": "python",
   "name": "python3"
  },
  "language_info": {
   "codemirror_mode": {
    "name": "ipython",
    "version": 3
   },
   "file_extension": ".py",
   "mimetype": "text/x-python",
   "name": "python",
   "nbconvert_exporter": "python",
   "pygments_lexer": "ipython3",
   "version": "3.7.3"
  }
 },
 "nbformat": 4,
 "nbformat_minor": 2
}

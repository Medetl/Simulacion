{
 "cells": [
  {
   "cell_type": "markdown",
   "metadata": {},
   "source": [
    "# <font color='blue'> Modelo binomial "
   ]
  },
  {
   "cell_type": "code",
   "execution_count": null,
   "metadata": {},
   "outputs": [],
   "source": []
  },
  {
   "cell_type": "markdown",
   "metadata": {},
   "source": [
    "### Notación"
   ]
  },
  {
   "cell_type": "markdown",
   "metadata": {},
   "source": [
    "S = Precio actual de la acción\n",
    "\n",
    "E = Precio de ejercicio de la opción de compra\n",
    "\n",
    "r ¿o R? = Tasa de rendimiento anual, libre de riesgo, compuesta continuamente\n",
    "\n",
    "$\\sigma^2$ = Variación (por año) del rendimiento continuo de la acción\n",
    "\n",
    "t = Tiempo (en años) que falta para la fecha de vencimiento"
   ]
  },
  {
   "cell_type": "markdown",
   "metadata": {},
   "source": [
    "### Hipótesis"
   ]
  },
  {
   "cell_type": "markdown",
   "metadata": {},
   "source": [
    "1. La distribución de los precios de las acciones es una binomial multiplicativa.\n",
    "\n",
    "2. Los multiplicadores son los mismos para todos los periodos.\n",
    "\n",
    "3. No hay costes de transición, por lo que se establece una cobertura sin riesgo.\n",
    "\n",
    "4. Los tipos de interés son constantes"
   ]
  },
  {
   "cell_type": "markdown",
   "metadata": {},
   "source": [
    "### Fórmulas"
   ]
  },
  {
   "cell_type": "markdown",
   "metadata": {},
   "source": [
    "$$c=\\frac{1}{(1+R_f)^n} \\sum_{k=0}^n \\binom{n}{k} \\Bigg( m^k (1-m)^{n-k} máx(Su^k d^{n-k} - E,0) \\Bigg)$$"
   ]
  },
  {
   "cell_type": "code",
   "execution_count": null,
   "metadata": {},
   "outputs": [],
   "source": []
  },
  {
   "cell_type": "code",
   "execution_count": null,
   "metadata": {},
   "outputs": [],
   "source": [
    "import numpy as np\n",
    "from scipy.stats import binom\n",
    "import matplotlib as mpl\n",
    "import matplotlib.pyplot as plt"
   ]
  },
  {
   "cell_type": "markdown",
   "metadata": {},
   "source": [
    "Calculamos el precio de la opción mediante esta función."
   ]
  },
  {
   "cell_type": "code",
   "execution_count": null,
   "metadata": {},
   "outputs": [],
   "source": [
    "def prima(tipo,spot,strik,anyos,volatilidad,n,tInt):\n",
    "  r=np.log(1+tInt)            # r es el tanto instantáneo\n",
    "  deltaT=anyos/n\n",
    "  u=np.exp(volatilidad*np.sqrt(deltaT))\n",
    "  d=1/u\n",
    "  p=(np.exp(r*deltaT)-d)/(u-d)\n",
    "  Sn=[0]*(n+1)                #Sn es la lista de precios del activo subyacene a fecha de vto.\n",
    "  payoff=[0]*(n+1)            #inicilizamos a cero la lista del payoff\n",
    "  prima=0\n",
    "  for i in range(n+1):\n",
    "    Sn[i]=spot*u**(n-i)*d**i\n",
    "    if tipo.lower()=='call':\n",
    "      payoff[i]=max(0,Sn[i]-strik)\n",
    "    if tipo.lower()=='put':\n",
    "      payoff[i]=max(0,strik-Sn[i])\n",
    "    prima+=payoff[i]*binom.pmf(n-i, n, p)\n",
    "  prima*=np.exp(-r*anyos)     #descontamos a valor actual, hasta t=0\n",
    "  return prima"
   ]
  },
  {
   "cell_type": "markdown",
   "metadata": {},
   "source": [
    "Haciendo un árbol de 1 has m pasos"
   ]
  },
  {
   "cell_type": "code",
   "execution_count": null,
   "metadata": {},
   "outputs": [],
   "source": [
    "m=200   #200\n",
    "evolucion=[0]*(m)\n",
    "for j in range(m):\n",
    "  evolucion[j]=prima('call',100,110,1,0.2,j+1,0.09)\n",
    "print(evolucion[j])"
   ]
  },
  {
   "cell_type": "markdown",
   "metadata": {},
   "source": [
    "Y podemos graficar los resultados para evaluar su evolución"
   ]
  },
  {
   "cell_type": "code",
   "execution_count": null,
   "metadata": {},
   "outputs": [],
   "source": [
    "fig = plt.figure(figsize=(10, 8))\n",
    "ax = fig.add_subplot(111)\n",
    "last = 1\n",
    "bound = m\n",
    "ax.plot(evolucion)\n",
    "fig.savefig('graph.png')\n",
    "print('Prima(1)=', evolucion[0])\n",
    "print('Prima(2)=', evolucion[1])\n",
    "print('Prima('+str(m)+')=', evolucion[m-1])\n",
    "plt.show()"
   ]
  },
  {
   "cell_type": "code",
   "execution_count": null,
   "metadata": {},
   "outputs": [],
   "source": []
  }
 ],
 "metadata": {
  "kernelspec": {
   "display_name": "Python 3",
   "language": "python",
   "name": "python3"
  },
  "language_info": {
   "codemirror_mode": {
    "name": "ipython",
    "version": 3
   },
   "file_extension": ".py",
   "mimetype": "text/x-python",
   "name": "python",
   "nbconvert_exporter": "python",
   "pygments_lexer": "ipython3",
   "version": "3.7.3"
  }
 },
 "nbformat": 4,
 "nbformat_minor": 2
}

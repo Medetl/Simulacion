{
 "cells": [
  {
   "cell_type": "markdown",
   "id": "c21e5530",
   "metadata": {},
   "source": [
    "# Ejemplo: Flecha y cojinete"
   ]
  },
  {
   "cell_type": "markdown",
   "id": "61f9bd36",
   "metadata": {},
   "source": [
    "Una flecha será embonada en un cojinete como se muestra a continuación\n",
    "\n",
    "<img src=\"cojinete.png\">"
   ]
  },
  {
   "cell_type": "markdown",
   "id": "5f658ca1",
   "metadata": {},
   "source": [
    "Si $x_1$ sigue una distribución normal con media $1.5$ y varianza $0.0016$, y $x_2$ esta misma distribución con media $1.48$ y varianza $0.0009$, determine:\n",
    "\n",
    "a) La probabilidad de que haya interferencia.\n",
    "\n",
    "b) El número de veces que es necesario simular el experimento, si se quiere que la probabilidad de interferencia estimada difiera de su valor verdadero en menos de $0.01$, con un nivel de seguridad del $95\\%.$"
   ]
  },
  {
   "cell_type": "markdown",
   "id": "fac00420",
   "metadata": {},
   "source": [
    "Vamos a resolver este problema, procurando seguir la metodología vista en el curso."
   ]
  },
  {
   "cell_type": "markdown",
   "id": "ccd32164",
   "metadata": {},
   "source": [
    "### 1. Identifique las variables \n",
    "\n",
    "Tenemos dos: $x_1$ y $x_2$."
   ]
  },
  {
   "cell_type": "markdown",
   "id": "ae8735e5",
   "metadata": {},
   "source": [
    "### 2 y 3. Determine la distribución de probabilidad y modele las variables aleatorias \n",
    "\n",
    "En el planteamiento ya se especifica que $x_1 \\sim N(1.5, 0.04)$ y que $x_1 \\sim N(1.48, 0.03)$."
   ]
  },
  {
   "cell_type": "markdown",
   "id": "b1b57a13",
   "metadata": {},
   "source": [
    "### 4. Defina el modelo del sistema y los objetivos de la simulación \n",
    "\n",
    "La diferencia $x_1 - x_2$ modela adecuadamente el sistema.\n",
    "\n",
    "Si $x_2 - x_1 > 0$ el diametro de la flecha es más grande que el espacio en el cojinte y, por tanto, hay interferencia. De lo contrario, las piezas embonan sin problema.\n",
    "\n",
    "Objetivo: determinar la frecuencia con que esto ocurre, lo cual nos da una esrimación de la probabilidad de interefrencia.\n",
    "\n",
    "Una forma de implementarlo es mediante el siguiente código."
   ]
  },
  {
   "cell_type": "code",
   "execution_count": null,
   "id": "191b1e9b",
   "metadata": {},
   "outputs": [],
   "source": [
    "import numpy as np\n",
    "import random\n",
    "import matplotlib.pyplot as plt\n",
    "from scipy.stats import norm"
   ]
  },
  {
   "cell_type": "code",
   "execution_count": null,
   "id": "e64c27d2",
   "metadata": {},
   "outputs": [],
   "source": [
    "def interferencia():                #Esta función devuelve el valor 1 si hay interferencia o 0 si no la hay.\n",
    "    interf=0                      \n",
    "    x_1 = random.gauss(1.50,0.04)    #La funcion gauss genera un número que sigue una distribucion normal con\n",
    "    x_2 = random.gauss(1.48,0.03)   # la media y la desvicion estandar especificados.\n",
    "    if 0.0 < x_2 - x_1:\n",
    "        interf += 1\n",
    "    return interf"
   ]
  },
  {
   "cell_type": "code",
   "execution_count": null,
   "id": "ebe51777",
   "metadata": {},
   "outputs": [],
   "source": [
    "interferencia()"
   ]
  },
  {
   "cell_type": "markdown",
   "id": "d6186dac",
   "metadata": {},
   "source": [
    "### 5. Diseñe el experimento\n",
    "\n",
    "Para estimar la probabilidad de interferencia, ejecutamos $n$ veces la función anterior y calculamos de manera acumulativa\n",
    "la probabilidad de interferencia."
   ]
  },
  {
   "cell_type": "code",
   "execution_count": null,
   "id": "f9a766a5",
   "metadata": {},
   "outputs": [],
   "source": [
    "def prob_inter(n):                    \n",
    "    prob = []                       # Esta funcion devuelve esta lista \"prob\", con los valores de la probabilidad\n",
    "    inter = 0                       # estimada al contar las veces que hay interferencia y dividir entre las veces que \n",
    "    for i in range(n):              # se ha reptido la observacion mientras aumenta el numero de iteraciones.\n",
    "        inter += interferencia()\n",
    "        prob.append(inter/(i+1))\n",
    "    return prob"
   ]
  },
  {
   "cell_type": "code",
   "execution_count": null,
   "id": "8099a245",
   "metadata": {},
   "outputs": [],
   "source": [
    "X = prob_inter(500)                # Asignamos valores a n y realizamos el experimento"
   ]
  },
  {
   "cell_type": "code",
   "execution_count": null,
   "id": "c5a5a3c2",
   "metadata": {},
   "outputs": [],
   "source": [
    "plt.plot(X)                         # La gráfica muestra que la convergencia está garantizada con 500 iteraciones\n",
    "                                    # Sin embargo, diferentes ejecuciones darán resultados distintos"
   ]
  },
  {
   "cell_type": "code",
   "execution_count": null,
   "id": "4ac4c689",
   "metadata": {},
   "outputs": [],
   "source": [
    "print(np.mean(X), np.std(X))"
   ]
  },
  {
   "cell_type": "markdown",
   "id": "34727279",
   "metadata": {},
   "source": [
    "### 6. Repita el experimento $n$ veces \n",
    "\n",
    "Una forma de hacerlo es mediante el siguiente codigo."
   ]
  },
  {
   "cell_type": "code",
   "execution_count": null,
   "id": "908f1884",
   "metadata": {},
   "outputs": [],
   "source": [
    "def modelo(n):\n",
    "    lista=[]\n",
    "    for i in range(n):\n",
    "        s = prob_inter(500)\n",
    "        lista.append(np.mean(s))\n",
    "    return lista"
   ]
  },
  {
   "cell_type": "code",
   "execution_count": null,
   "id": "34868564",
   "metadata": {},
   "outputs": [],
   "source": [
    "Y=modelo(120)"
   ]
  },
  {
   "cell_type": "code",
   "execution_count": null,
   "id": "8a95845e",
   "metadata": {},
   "outputs": [],
   "source": [
    "plt.hist(Y)\n",
    "plt.show()"
   ]
  },
  {
   "cell_type": "code",
   "execution_count": null,
   "id": "e892a16c",
   "metadata": {},
   "outputs": [],
   "source": [
    "print(np.mean(Y), np.std(Y))"
   ]
  },
  {
   "cell_type": "markdown",
   "id": "e5dc2362",
   "metadata": {},
   "source": [
    "### Paso 7. Hallamos el intervalo de confianza.\n",
    "\n",
    "$$\\bar{x}-z_{\\alpha/2} \\cdot \\frac{s}{\\sqrt{n}} < \\mu < \\bar{x}+z_{\\alpha/2}\\cdot \\frac{s}{\\sqrt{n}}$$"
   ]
  },
  {
   "cell_type": "code",
   "execution_count": null,
   "id": "23d0b48e",
   "metadata": {},
   "outputs": [],
   "source": [
    "np.mean(Y)"
   ]
  },
  {
   "cell_type": "code",
   "execution_count": null,
   "id": "b29c74e6",
   "metadata": {},
   "outputs": [],
   "source": [
    "np.mean(Y) - 1.96*np.std(Y)/np.sqrt(50), np.mean(Y) + 1.96*np.std(Y)/np.sqrt(50)"
   ]
  },
  {
   "cell_type": "code",
   "execution_count": null,
   "id": "3f2cecf1",
   "metadata": {},
   "outputs": [],
   "source": []
  },
  {
   "cell_type": "markdown",
   "id": "112c0954",
   "metadata": {},
   "source": [
    "### Para determinar el número de simulaciones"
   ]
  },
  {
   "cell_type": "markdown",
   "id": "0a1a63e7",
   "metadata": {},
   "source": [
    "$$ N > \\Bigg( \\frac{2 \\sigma z_{\\alpha/2}}{\\epsilon} \\Bigg) ^2 $$"
   ]
  },
  {
   "cell_type": "code",
   "execution_count": null,
   "id": "1478d745",
   "metadata": {},
   "outputs": [],
   "source": [
    "N = (2*np.std(X)*1.96/0.01)**2"
   ]
  },
  {
   "cell_type": "code",
   "execution_count": null,
   "id": "fa6ae0ce",
   "metadata": {},
   "outputs": [],
   "source": [
    "print(N)"
   ]
  },
  {
   "cell_type": "markdown",
   "id": "a6d1c695",
   "metadata": {},
   "source": [
    "### Podemos comparar con la sulución analítica del problema.\n",
    "\n",
    "Para ello usamos la teoría sobre la suma de variables con distribución normal."
   ]
  },
  {
   "cell_type": "code",
   "execution_count": null,
   "id": "7284bee0",
   "metadata": {},
   "outputs": [],
   "source": [
    "norm.cdf(-0.04, -0.02, 0.05)"
   ]
  },
  {
   "cell_type": "code",
   "execution_count": null,
   "id": "a1a842a2",
   "metadata": {},
   "outputs": [],
   "source": [
    "norm.cdf(-0.04, -0.02, 0.05)-np.mean(Y)"
   ]
  }
 ],
 "metadata": {
  "kernelspec": {
   "display_name": "Python 3 (ipykernel)",
   "language": "python",
   "name": "python3"
  },
  "language_info": {
   "codemirror_mode": {
    "name": "ipython",
    "version": 3
   },
   "file_extension": ".py",
   "mimetype": "text/x-python",
   "name": "python",
   "nbconvert_exporter": "python",
   "pygments_lexer": "ipython3",
   "version": "3.7.3"
  }
 },
 "nbformat": 4,
 "nbformat_minor": 5
}

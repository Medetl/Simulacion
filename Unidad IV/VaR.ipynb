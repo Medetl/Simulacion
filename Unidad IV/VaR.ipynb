{
 "cells": [
  {
   "cell_type": "markdown",
   "metadata": {},
   "source": [
    "El «valor en riesgo» («VaR») es una medida del riesgo de una determinada acción, consistente en determinar la pérdida que se podría sufrir en condiciones normales de mercado en un intervalo de tiempo y con un cierto nivel de probabilidad o de confianza."
   ]
  },
  {
   "cell_type": "code",
   "execution_count": null,
   "metadata": {},
   "outputs": [],
   "source": [
    "import matplotlib.pyplot as plt\n",
    "import yfinance as yf\n",
    "import numpy as np"
   ]
  },
  {
   "cell_type": "code",
   "execution_count": null,
   "metadata": {},
   "outputs": [],
   "source": [
    "# Define the ticker symbol\n",
    "ticker_symbol = 'MSFT'\n",
    "\n",
    "# Get the data for the stock\n",
    "try:\n",
    "    ticker = yf.Ticker(ticker_symbol)\n",
    "    historical_data = ticker.history(period='1y')\n",
    "    \n",
    "    if historical_data.empty:\n",
    "        raise ValueError(f\"No data found for ticker symbol: {ticker_symbol}\")\n",
    "\n",
    "    # Plot the closing prices\n",
    "    plt.figure(figsize=(10, 5))\n",
    "    plt.plot(historical_data.index, historical_data['Close'], label='Close Price')\n",
    "    plt.title(f'Closing Prices of {ticker_symbol} for the Last Year')\n",
    "    plt.xlabel('Date')\n",
    "    plt.ylabel('Closing Price (USD)')\n",
    "    plt.legend()\n",
    "    plt.grid(True)\n",
    "    plt.show()\n",
    "\n",
    "except Exception as e:\n",
    "    print(f\"Error fetching data for {ticker_symbol}: {e}\")"
   ]
  },
  {
   "cell_type": "code",
   "execution_count": null,
   "metadata": {},
   "outputs": [],
   "source": []
  },
  {
   "cell_type": "code",
   "execution_count": null,
   "metadata": {},
   "outputs": [],
   "source": [
    "tesla=yf.Ticker(\"TSLA\")\n",
    "df=tesla.history(start=\"2023-12-12\",interval=\"1d\")\n",
    "df.head()"
   ]
  },
  {
   "cell_type": "code",
   "execution_count": null,
   "metadata": {},
   "outputs": [],
   "source": [
    "df[\"Close\"].head()"
   ]
  },
  {
   "cell_type": "code",
   "execution_count": null,
   "metadata": {},
   "outputs": [],
   "source": [
    "tesla_cierre=df[\"Close\"]"
   ]
  },
  {
   "cell_type": "code",
   "execution_count": null,
   "metadata": {},
   "outputs": [],
   "source": [
    "plt.plot(tesla_cierre)"
   ]
  },
  {
   "cell_type": "markdown",
   "metadata": {},
   "source": [
    "Para calcular el «VaR» necesitamos contar con una distribución de probabilidad, es necesario transformar los datos.\n",
    "\n",
    "Necesitaremos convertir la serie de no estacionaria (lo cual ya se aprecia facilmente en la gráfica, al verse una tendencia clara en la misma) en estacionaria (con media y varianza constantes). Algunos de los procedimientos para la realización de dicha transformación son el uso de logaritmos o calcular para cada valor, la diferencia entre dicho valor y su correspondiente valor anterior lageado «n» veces. En nuestro caso vamos a hacer uso conjunto de ambas técnicas usando un retardo (o «lag») de 1 (lo que significa que para el cálculo de las diferencias, restaremos a cada valor su correspondiente valor anterior."
   ]
  },
  {
   "cell_type": "code",
   "execution_count": null,
   "metadata": {},
   "outputs": [],
   "source": [
    "#Cálculo de retornos\n",
    "tesla_retornos=np.log(tesla_cierre)-np.log(tesla_cierre.shift(1))\n",
    "tesla_ret=tesla_retornos.dropna() #elimina posiblesdatos vacios"
   ]
  },
  {
   "cell_type": "code",
   "execution_count": null,
   "metadata": {},
   "outputs": [],
   "source": [
    "tesla_ret.head()"
   ]
  },
  {
   "cell_type": "code",
   "execution_count": null,
   "metadata": {},
   "outputs": [],
   "source": [
    "plt.plot(tesla_ret)"
   ]
  },
  {
   "cell_type": "markdown",
   "metadata": {},
   "source": [
    "Con la serie de datos estacionales calculamops el VaR. Para ello, necesitábamos definir un intervalo (un año), un intervalo de confianza (95%)y una inversión inicial (1500):"
   ]
  },
  {
   "cell_type": "code",
   "execution_count": null,
   "metadata": {},
   "outputs": [],
   "source": [
    "#Calcular VaR para una inversion inicial\n",
    "inv_inicial=1500\n",
    "\n",
    "#intervalo de confianza\n",
    "percent=5\n",
    "var_95=np.percentile(tesla_ret,percent)\n",
    "print(var_95)"
   ]
  },
  {
   "cell_type": "code",
   "execution_count": null,
   "metadata": {},
   "outputs": [],
   "source": [
    "print(var_95*inv_inicial)"
   ]
  },
  {
   "cell_type": "markdown",
   "metadata": {},
   "source": [
    "Existe 95% de probabilidades de que la pérdida no supere esta cantidad en un año."
   ]
  },
  {
   "cell_type": "code",
   "execution_count": null,
   "metadata": {},
   "outputs": [],
   "source": [
    "#valor en riesgo condicional\n",
    "cvar_95=tesla_ret[tesla_ret <= var_95].mean()\n",
    "print(cvar_95)"
   ]
  },
  {
   "cell_type": "code",
   "execution_count": null,
   "metadata": {},
   "outputs": [],
   "source": []
  }
 ],
 "metadata": {
  "kernelspec": {
   "display_name": "Python 3",
   "language": "python",
   "name": "python3"
  },
  "language_info": {
   "codemirror_mode": {
    "name": "ipython",
    "version": 3
   },
   "file_extension": ".py",
   "mimetype": "text/x-python",
   "name": "python",
   "nbconvert_exporter": "python",
   "pygments_lexer": "ipython3",
   "version": "3.8.3"
  }
 },
 "nbformat": 4,
 "nbformat_minor": 4
}

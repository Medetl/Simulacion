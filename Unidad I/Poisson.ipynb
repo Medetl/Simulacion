{
 "cells": [
  {
   "cell_type": "markdown",
   "id": "d958ed01",
   "metadata": {},
   "source": [
    "Distribución de Poisson"
   ]
  },
  {
   "cell_type": "code",
   "execution_count": 7,
   "id": "f4307680",
   "metadata": {},
   "outputs": [],
   "source": [
    "import numpy as np\n",
    "import scipy.stats as ss"
   ]
  },
  {
   "cell_type": "markdown",
   "id": "1f54ad46",
   "metadata": {},
   "source": [
    "Función de probabilidad\n",
    "\n",
    "$$P(X=12)=f(12)=\\frac{\\lambda^{12}}{12!}e^{-4}$$"
   ]
  },
  {
   "cell_type": "code",
   "execution_count": 8,
   "id": "c52e2675",
   "metadata": {},
   "outputs": [],
   "source": [
    "prob_12=ss.poisson.pmf(k=12,mu=4) #pmf es la función de masa de probabilidad"
   ]
  },
  {
   "cell_type": "code",
   "execution_count": 9,
   "id": "69af34c3",
   "metadata": {},
   "outputs": [
    {
     "name": "stdout",
     "output_type": "stream",
     "text": [
      "p(X=12) = 0.000642\n"
     ]
    }
   ],
   "source": [
    "print('p(X=12) = {0:5f}'.format(prob_12))"
   ]
  },
  {
   "cell_type": "markdown",
   "id": "f4107094",
   "metadata": {},
   "source": [
    "Probabilidad acumulada\n",
    "\n",
    "$$P(X \\leq 4) = \\sum_{k=0}^{4}f(k)=f(0)+f(1)+f(2)+f(3)+f(4)$$"
   ]
  },
  {
   "cell_type": "code",
   "execution_count": 10,
   "id": "2a55a966",
   "metadata": {},
   "outputs": [],
   "source": [
    "prob_4=ss.poisson.cdf(k=4,mu=4)"
   ]
  },
  {
   "cell_type": "code",
   "execution_count": 11,
   "id": "9850856d",
   "metadata": {},
   "outputs": [
    {
     "name": "stdout",
     "output_type": "stream",
     "text": [
      "p(X<=4) = 0.6288\n"
     ]
    }
   ],
   "source": [
    "print('p(X<=4) = {0:.4f}'.format(prob_4))"
   ]
  }
 ],
 "metadata": {
  "kernelspec": {
   "display_name": "Python 3 (ipykernel)",
   "language": "python",
   "name": "python3"
  },
  "language_info": {
   "codemirror_mode": {
    "name": "ipython",
    "version": 3
   },
   "file_extension": ".py",
   "mimetype": "text/x-python",
   "name": "python",
   "nbconvert_exporter": "python",
   "pygments_lexer": "ipython3",
   "version": "3.7.3"
  }
 },
 "nbformat": 4,
 "nbformat_minor": 5
}
